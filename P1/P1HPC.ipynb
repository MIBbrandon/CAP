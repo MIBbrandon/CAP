{
 "cells": [
  {
   "cell_type": "markdown",
   "metadata": {
    "id": "3cMDcQXTa6iU",
    "pycharm": {
     "name": "#%% md\n"
    }
   },
   "source": [
    "# COMPUTACIÓN DE ALTAS PRESTACIONES\n",
    "## Práctica #1 - Procesamiento de datos mediante Apache Spark"
   ]
  },
  {
   "cell_type": "markdown",
   "metadata": {
    "id": "nXvDfq3Aa6iV",
    "pycharm": {
     "name": "#%% md\n"
    }
   },
   "source": [
    "* Martha María Del Toro Carballo       100486134@alumnos.uc3m.es\n",
    "* Brandon Solo                         100405959@alumnos.uc3m.es\n",
    "* Manuel Santiago Férnandez Arias      manuefer@inf.uc3m.es"
   ]
  },
  {
   "cell_type": "markdown",
   "metadata": {
    "id": "tnjqBvm0a6iY",
    "pycharm": {
     "name": "#%% md\n"
    }
   },
   "source": [
    "### Inicializando Spark"
   ]
  },
  {
   "cell_type": "code",
   "execution_count": 1,
   "metadata": {
    "id": "yMuKMbpm9tlL",
    "colab": {
     "base_uri": "https://localhost:8080/"
    },
    "executionInfo": {
     "status": "ok",
     "timestamp": 1668289945683,
     "user_tz": -60,
     "elapsed": 24106,
     "user": {
      "displayName": "MARTHA MARIA DEL TORO CARBALLO",
      "userId": "13191692917125544302"
     }
    },
    "outputId": "49574f4a-65d5-4bf9-9481-15159e4ed0ba",
    "pycharm": {
     "name": "#%%\n"
    }
   },
   "outputs": [],
   "source": [
    "# !apt-get update\n",
    "# !apt-get install openjdk-8-jdk-headless -qq > /dev/null\n",
    "# !wget -q https://dlcdn.apache.org/spark/spark-3.1.3/spark-3.1.3-bin-hadoop3.2.tgz\n",
    "# !tar xf spark-3.1.3-bin-hadoop3.2.tgz\n",
    "# !pip install -q findspark"
   ]
  },
  {
   "cell_type": "code",
   "execution_count": 2,
   "metadata": {
    "id": "F5ZR4kqO92UH",
    "executionInfo": {
     "status": "ok",
     "timestamp": 1668290261088,
     "user_tz": -60,
     "elapsed": 264,
     "user": {
      "displayName": "MARTHA MARIA DEL TORO CARBALLO",
      "userId": "13191692917125544302"
     }
    },
    "pycharm": {
     "name": "#%%\n"
    }
   },
   "outputs": [],
   "source": [
    "import os\n",
    "# os.environ[\"JAVA_HOME\"] = \"/usr/lib/jvm/java-8-openjdk-amd64\"\n",
    "# os.environ[\"SPARK_HOME\"] = \"/content/spark-3.1.3-bin-hadoop3.2\"\n",
    "import pyspark.sql.functions"
   ]
  },
  {
   "cell_type": "code",
   "execution_count": 1,
   "metadata": {
    "id": "3EtTb2-r94BI",
    "executionInfo": {
     "status": "ok",
     "timestamp": 1668290382372,
     "user_tz": -60,
     "elapsed": 216,
     "user": {
      "displayName": "MARTHA MARIA DEL TORO CARBALLO",
      "userId": "13191692917125544302"
     }
    },
    "pycharm": {
     "name": "#%%\n"
    }
   },
   "outputs": [],
   "source": [
    "import findspark\n",
    "findspark.init()"
   ]
  },
  {
   "cell_type": "code",
   "execution_count": 4,
   "outputs": [],
   "source": [
    "num_cores = 16"
   ],
   "metadata": {
    "collapsed": false,
    "pycharm": {
     "name": "#%%\n"
    }
   }
  },
  {
   "cell_type": "code",
   "execution_count": 5,
   "metadata": {
    "colab": {
     "base_uri": "https://localhost:8080/",
     "height": 219
    },
    "executionInfo": {
     "elapsed": 7581,
     "status": "ok",
     "timestamp": 1668290598693,
     "user": {
      "displayName": "MARTHA MARIA DEL TORO CARBALLO",
      "userId": "13191692917125544302"
     },
     "user_tz": -60
    },
    "id": "EcUvT_eEiLv2",
    "outputId": "9523845c-8ea2-41f2-94b4-63de93fa157b",
    "pycharm": {
     "name": "#%%\n"
    }
   },
   "outputs": [
    {
     "name": "stderr",
     "output_type": "stream",
     "text": [
      "22/11/13 21:38:16 WARN Utils: Your hostname, pop-os resolves to a loopback address: 127.0.1.1; using 192.168.1.35 instead (on interface enp3s0)\n",
      "22/11/13 21:38:16 WARN Utils: Set SPARK_LOCAL_IP if you need to bind to another address\n",
      "22/11/13 21:38:17 WARN NativeCodeLoader: Unable to load native-hadoop library for your platform... using builtin-java classes where applicable\n",
      "Using Spark's default log4j profile: org/apache/spark/log4j-defaults.properties\n",
      "Setting default log level to \"WARN\".\n",
      "To adjust logging level use sc.setLogLevel(newLevel). For SparkR, use setLogLevel(newLevel).\n"
     ]
    },
    {
     "data": {
      "text/plain": "<pyspark.sql.session.SparkSession at 0x7fed88bcc8e0>",
      "text/html": "\n            <div>\n                <p><b>SparkSession - in-memory</b></p>\n                \n        <div>\n            <p><b>SparkContext</b></p>\n\n            <p><a href=\"http://192.168.1.35:4040\">Spark UI</a></p>\n\n            <dl>\n              <dt>Version</dt>\n                <dd><code>v3.1.3</code></dd>\n              <dt>Master</dt>\n                <dd><code>local[220]</code></dd>\n              <dt>AppName</dt>\n                <dd><code>pyspark-shell</code></dd>\n            </dl>\n        </div>\n        \n            </div>\n        "
     },
     "execution_count": 5,
     "metadata": {},
     "output_type": "execute_result"
    }
   ],
   "source": [
    "from pyspark.sql import SparkSession\n",
    "from pyspark import SparkContext, SparkConf\n",
    "\n",
    "# conf = SparkConf().set('spark.ui.port', '4050')\n",
    "# sc = SparkContext(conf=conf)\n",
    "spark = SparkSession.builder.master(f'local[{num_cores}]').getOrCreate()\n",
    "\n",
    "spark"
   ]
  },
  {
   "cell_type": "code",
   "execution_count": 6,
   "outputs": [
    {
     "name": "stdout",
     "output_type": "stream",
     "text": [
      "Your runtime has 33.0 gigabytes of available RAM\n",
      "\n"
     ]
    }
   ],
   "source": [
    "from psutil import virtual_memory\n",
    "ram_gb = virtual_memory().total / 1e9\n",
    "print('Your runtime has {:.1f} gigabytes of available RAM\\n'.format(ram_gb))"
   ],
   "metadata": {
    "collapsed": false,
    "pycharm": {
     "name": "#%%\n"
    }
   }
  },
  {
   "cell_type": "markdown",
   "metadata": {
    "id": "WekI31zkUTgC",
    "pycharm": {
     "name": "#%% md\n"
    }
   },
   "source": [
    "### Otras librerías a usar"
   ]
  },
  {
   "cell_type": "code",
   "execution_count": 1,
   "metadata": {
    "id": "7JmuP4iuUSbC",
    "executionInfo": {
     "status": "ok",
     "timestamp": 1668290983444,
     "user_tz": -60,
     "elapsed": 236,
     "user": {
      "displayName": "MARTHA MARIA DEL TORO CARBALLO",
      "userId": "13191692917125544302"
     }
    },
    "pycharm": {
     "name": "#%%\n"
    }
   },
   "outputs": [],
   "source": [
    "from datetime import datetime\n",
    "from time import time\n",
    "import numpy as np\n",
    "from csv import writer\n",
    "import matplotlib.pyplot as plt\n",
    "from operator import add\n",
    "from pyspark.sql import functions as F\n",
    "import os\n",
    "import pandas as pd\n",
    "from operator import add\n",
    "import seaborn as sns"
   ]
  },
  {
   "cell_type": "markdown",
   "metadata": {
    "id": "5urYUpjWa6ie",
    "pycharm": {
     "name": "#%% md\n"
    }
   },
   "source": [
    "### Funciones"
   ]
  },
  {
   "cell_type": "code",
   "execution_count": 8,
   "metadata": {
    "id": "PR2FhlFSa6ie",
    "executionInfo": {
     "status": "ok",
     "timestamp": 1668291585719,
     "user_tz": -60,
     "elapsed": 236,
     "user": {
      "displayName": "MARTHA MARIA DEL TORO CARBALLO",
      "userId": "13191692917125544302"
     }
    },
    "pycharm": {
     "name": "#%%\n"
    }
   },
   "outputs": [],
   "source": [
    "def calcularRendimiento(results, cant_datos):\n",
    "    t_0 = time()\n",
    "    # if isinstance(results, pyspark.rdd.RDD):\n",
    "    #     results.sortBy(lambda x: x[1], False)\n",
    "    result_count = results.count() # Acción\n",
    "    t_1 = time()\n",
    "    tiempo_ejecucion = np.round(t_1 - t_0, 3)\n",
    "    velocidad_ejecucion = round(cant_datos / tiempo_ejecucion, 2)\n",
    "\n",
    "    return result_count , tiempo_ejecucion , velocidad_ejecucion\n",
    "\n",
    "def interpretar_rendimiento(tiempo_ejecucion,velocidad_ejecucion,cant_datos):\n",
    "    print(f'Han transcurrido {tiempo_ejecucion} segundos de ejecución.')\n",
    "    print(f'Cantidad de datos procesados: {cant_datos}')\n",
    "    print(f'Velocidad de procesamiento: {velocidad_ejecucion} registros/s')\n",
    "  \n",
    "def mostrar_grafico(data1, data2, title, cant_datos, legend = ['sql', 'rdd', 'data_frame'], n_cores = 4):\n",
    "    x = [i for i in range(1,n_cores + 1)] # n_cores\n",
    "\n",
    "    plt.figure(1, [14, 5], 150)\n",
    "\n",
    "    plt.subplot(121)\n",
    "    plt.title(title)\n",
    "    plt.ylabel(\"Tiempo de ejecución (seg.)\")\n",
    "    plt.xlabel(\"Número de cores\")\n",
    "    plt.grid(True)\n",
    "    plt.xticks(x)\n",
    "\n",
    "    for y in data1:\n",
    "        plt.plot(x, y)\n",
    "\n",
    "    plt.legend(legend)\n",
    "\n",
    "    plt.subplot(122)\n",
    "    plt.title(\"Cantidad de registros: \" + str(cant_datos))\n",
    "    plt.ylabel(\"Registros procesados por segundo\")\n",
    "    plt.xlabel(\"Número de cores\")\n",
    "    plt.grid(True)\n",
    "    plt.xticks(x)\n",
    "\n",
    "    for y in data2:\n",
    "        plt.plot(x, y)\n",
    "\n",
    "    plt.legend(legend)\n",
    "\n",
    "    plt.show()\n",
    "\n",
    "def mostrar_resultados_rdd(results,columns,nfilas = 10):\n",
    "    df = pd.DataFrame(results.take(nfilas), columns = columns)\n",
    "    return df.style\n",
    "\n",
    "def mostar_resultados_sql_df(results,nfilas = 10):\n",
    "    return results.limit(nfilas).toPandas()\n",
    "\n"
   ]
  },
  {
   "cell_type": "markdown",
   "metadata": {
    "id": "v-IRLtMwcuER",
    "pycharm": {
     "name": "#%% md\n"
    }
   },
   "source": [
    "# Obtención de los datos"
   ]
  },
  {
   "cell_type": "code",
   "source": [
    "# df = pd.read_parquet('yellow_tripdata_2019-06.parquet')\n",
    "# df.to_csv('yellow_tripdata_2019-06.csv')"
   ],
   "metadata": {
    "id": "tMKXNIf79phK",
    "pycharm": {
     "name": "#%%\n"
    }
   },
   "execution_count": 9,
   "outputs": []
  },
  {
   "cell_type": "code",
   "execution_count": 69,
   "metadata": {
    "id": "oNGI5b8XUvbL",
    "pycharm": {
     "name": "#%%\n"
    }
   },
   "outputs": [],
   "source": [
    "# Datos generales\n",
    "# path = \"yellow_tripdata_2019-06.csv\"\n",
    "# df_data = spark.read.csv(path, header=True, inferSchema=True)\n",
    "\n",
    "path = \"taxi+_zone_lookup.csv\"\n",
    "#df_zones = spark.read.csv(path, header=True, inferSchema=True)\n",
    "df_zones = spark.read.option(\"delimiter\", \";\").csv(path, header=True, inferSchema=True)\n",
    "sample_prop = 0.25"
   ]
  },
  {
   "cell_type": "code",
   "execution_count": 70,
   "outputs": [
    {
     "name": "stdout",
     "output_type": "stream",
     "text": [
      "Count: 889267\n",
      "Time: 0.10855245590209961s\n"
     ]
    }
   ],
   "source": [
    "from typing import Union, List\n",
    "\n",
    "\n",
    "def file_belongs_to_included_years(file: str, included_years: List[int]):\n",
    "    for included_year in included_years:\n",
    "        if str(included_year) in file:\n",
    "            return True\n",
    "    return False\n",
    "\n",
    "\n",
    "# Load all the information\n",
    "start = time()\n",
    "# taxi_info = spark.read.csv(\"/content/drive/MyDrive/MASTER'S YEAR/Computación de Altas Prestaciones/P1/data/\").cache()\n",
    "\n",
    "files_to_include = [f\"data/{x}\" for x in os.listdir(\"data\") if x.endswith(\".parquet\")]\n",
    "included_years = [x for x in range(2022, 2023)]\n",
    "files_to_include = [file for file in files_to_include if file_belongs_to_included_years(file, included_years)]\n",
    "\n",
    "df_data = spark.read.format(\"parquet\").option(\"inferSchema\", \"true\").option(\"timestampFormat\",\n",
    "                                                                              \"yyyy-MM-dd HH:mm:ss\").option(\"header\",\n",
    "                                                                                                            \"true\").option(\n",
    "    \"mode\", \"DROPMALFORMED\").load(files_to_include).sample(sample_prop)\n",
    "\n",
    "taxi_info_count = df_data.count()\n",
    "end = time()\n",
    "print(f\"Count: {taxi_info_count}\\nTime: {end-start}s\")"
   ],
   "metadata": {
    "collapsed": false,
    "pycharm": {
     "name": "#%%\n"
    }
   }
  },
  {
   "cell_type": "code",
   "execution_count": 71,
   "outputs": [
    {
     "data": {
      "text/plain": "DataFrame[VendorID: bigint, tpep_pickup_datetime: timestamp, tpep_dropoff_datetime: timestamp, passenger_count: double, trip_distance: double, RatecodeID: double, store_and_fwd_flag: string, PULocationID: bigint, DOLocationID: bigint, payment_type: bigint, fare_amount: double, extra: double, mta_tax: double, tip_amount: double, tolls_amount: double, improvement_surcharge: double, total_amount: double, congestion_surcharge: double, airport_fee: double]"
     },
     "execution_count": 71,
     "metadata": {},
     "output_type": "execute_result"
    }
   ],
   "source": [
    "df_data"
   ],
   "metadata": {
    "collapsed": false,
    "pycharm": {
     "name": "#%%\n"
    }
   }
  },
  {
   "cell_type": "markdown",
   "metadata": {
    "id": "e1ApfEg1vUq0",
    "pycharm": {
     "name": "#%% md\n"
    }
   },
   "source": [
    "# Limpieza de Datos\n",
    "\n"
   ]
  },
  {
   "cell_type": "markdown",
   "metadata": {
    "id": "6pizO9Mya6ig",
    "pycharm": {
     "name": "#%% md\n"
    }
   },
   "source": [
    "## Análisis previo de los datos"
   ]
  },
  {
   "cell_type": "markdown",
   "metadata": {
    "id": "8tRS0vhpa6ig",
    "pycharm": {
     "name": "#%% md\n"
    }
   },
   "source": [
    "A continuación se hace un breve análisis de los datos"
   ]
  },
  {
   "cell_type": "code",
   "execution_count": 72,
   "metadata": {
    "executionInfo": {
     "elapsed": 12479,
     "status": "ok",
     "timestamp": 1668276167679,
     "user": {
      "displayName": "MARTHA MARIA DEL TORO CARBALLO",
      "userId": "13191692917125544302"
     },
     "user_tz": -60
    },
    "id": "tklR4GUka6ih",
    "colab": {
     "base_uri": "https://localhost:8080/"
    },
    "outputId": "7fe55b9f-1d76-48c8-a86f-2022e60f05e6",
    "pycharm": {
     "name": "#%%\n"
    }
   },
   "outputs": [
    {
     "name": "stdout",
     "output_type": "stream",
     "text": [
      "+-------+------------------+\n",
      "|summary|      total_amount|\n",
      "+-------+------------------+\n",
      "|  count|            889267|\n",
      "|   mean|21.986162041459874|\n",
      "| stddev| 30.53438809836452|\n",
      "|    min|           -911.55|\n",
      "|    max|           7060.85|\n",
      "+-------+------------------+\n",
      "\n"
     ]
    }
   ],
   "source": [
    "df_data.select(\"total_amount\").describe().show()"
   ]
  },
  {
   "cell_type": "code",
   "execution_count": 73,
   "metadata": {
    "executionInfo": {
     "elapsed": 11415,
     "status": "ok",
     "timestamp": 1668276179091,
     "user": {
      "displayName": "MARTHA MARIA DEL TORO CARBALLO",
      "userId": "13191692917125544302"
     },
     "user_tz": -60
    },
    "id": "cy28E_mya6ih",
    "colab": {
     "base_uri": "https://localhost:8080/"
    },
    "outputId": "64008974-a0fa-4bbd-aba6-09efa007c870",
    "pycharm": {
     "name": "#%%\n"
    }
   },
   "outputs": [
    {
     "name": "stdout",
     "output_type": "stream",
     "text": [
      "+-------+------------------+\n",
      "|summary|        tip_amount|\n",
      "+-------+------------------+\n",
      "|  count|            889267|\n",
      "|   mean|2.7934970262040273|\n",
      "| stddev|3.6113409227660433|\n",
      "|    min|            -80.08|\n",
      "|    max|           1400.16|\n",
      "+-------+------------------+\n",
      "\n"
     ]
    }
   ],
   "source": [
    "df_data.select(\"tip_amount\").describe().show()"
   ]
  },
  {
   "cell_type": "code",
   "execution_count": 74,
   "metadata": {
    "executionInfo": {
     "elapsed": 10830,
     "status": "ok",
     "timestamp": 1668276189916,
     "user": {
      "displayName": "MARTHA MARIA DEL TORO CARBALLO",
      "userId": "13191692917125544302"
     },
     "user_tz": -60
    },
    "id": "HKBdpJmMa6ih",
    "colab": {
     "base_uri": "https://localhost:8080/"
    },
    "outputId": "0ab0220a-62bf-45ea-ae29-517b97d7c0c9",
    "pycharm": {
     "name": "#%%\n"
    }
   },
   "outputs": [
    {
     "name": "stdout",
     "output_type": "stream",
     "text": [
      "+-------+-----------------+\n",
      "|summary|    trip_distance|\n",
      "+-------+-----------------+\n",
      "|  count|           889267|\n",
      "|   mean|6.088868866155983|\n",
      "| stddev|596.6790952858559|\n",
      "|    min|              0.0|\n",
      "|    max|        227914.68|\n",
      "+-------+-----------------+\n",
      "\n"
     ]
    }
   ],
   "source": [
    "df_data.select(\"trip_distance\").describe().show()"
   ]
  },
  {
   "cell_type": "code",
   "execution_count": 75,
   "metadata": {
    "executionInfo": {
     "elapsed": 11624,
     "status": "ok",
     "timestamp": 1668276201537,
     "user": {
      "displayName": "MARTHA MARIA DEL TORO CARBALLO",
      "userId": "13191692917125544302"
     },
     "user_tz": -60
    },
    "id": "Mwc3-P3Ea6ii",
    "colab": {
     "base_uri": "https://localhost:8080/"
    },
    "outputId": "e85e5e69-c646-4d79-c41d-9cededf9957b",
    "pycharm": {
     "name": "#%%\n"
    }
   },
   "outputs": [
    {
     "name": "stdout",
     "output_type": "stream",
     "text": [
      "+-------+------------------+\n",
      "|summary|   passenger_count|\n",
      "+-------+------------------+\n",
      "|  count|            856160|\n",
      "|   mean|1.3990796112876098|\n",
      "| stddev|0.9615803395477786|\n",
      "|    min|               0.0|\n",
      "|    max|               9.0|\n",
      "+-------+------------------+\n",
      "\n"
     ]
    }
   ],
   "source": [
    "df_data.select(\"passenger_count\").describe().show()"
   ]
  },
  {
   "cell_type": "markdown",
   "metadata": {
    "id": "tSSOSwvoa6ii",
    "pycharm": {
     "name": "#%% md\n"
    }
   },
   "source": [
    "Representación de la dispersión y valores atípicos de propinas mediante un boxplot"
   ]
  },
  {
   "cell_type": "code",
   "execution_count": 76,
   "metadata": {
    "executionInfo": {
     "elapsed": 37299,
     "status": "ok",
     "timestamp": 1668276238832,
     "user": {
      "displayName": "MARTHA MARIA DEL TORO CARBALLO",
      "userId": "13191692917125544302"
     },
     "user_tz": -60
    },
    "id": "6Ej30G8Wa6ii",
    "colab": {
     "base_uri": "https://localhost:8080/",
     "height": 265
    },
    "outputId": "587d4154-70ad-4fe4-dba8-ae3ed7e6b6b2",
    "pycharm": {
     "name": "#%%\n"
    }
   },
   "outputs": [
    {
     "name": "stderr",
     "output_type": "stream",
     "text": [
      "                                                                                \r"
     ]
    },
    {
     "data": {
      "text/plain": "<Figure size 640x480 with 1 Axes>",
      "image/png": "[encoded data removed]"
     },
     "metadata": {},
     "output_type": "display_data"
    }
   ],
   "source": [
    "data = df_data.select(\"tip_amount\").rdd.flatMap(lambda x: x).collect()\n",
    "\n",
    "plt.boxplot(data)\n",
    "plt.show()"
   ]
  },
  {
   "cell_type": "markdown",
   "metadata": {
    "id": "XRGo5an6vydi",
    "pycharm": {
     "name": "#%% md\n"
    }
   },
   "source": [
    "## Limpieza de datos nulos"
   ]
  },
  {
   "cell_type": "code",
   "execution_count": 77,
   "metadata": {
    "executionInfo": {
     "elapsed": 30802,
     "status": "ok",
     "timestamp": 1668276665286,
     "user": {
      "displayName": "MARTHA MARIA DEL TORO CARBALLO",
      "userId": "13191692917125544302"
     },
     "user_tz": -60
    },
    "id": "e9orxgCMvoBc",
    "colab": {
     "base_uri": "https://localhost:8080/"
    },
    "outputId": "a8652462-625b-4fc3-c6d0-6bd68da90515",
    "pycharm": {
     "name": "#%%\n"
    }
   },
   "outputs": [
    {
     "name": "stdout",
     "output_type": "stream",
     "text": [
      "Cantidad de filas eliminadas: 33107\n"
     ]
    },
    {
     "name": "stderr",
     "output_type": "stream",
     "text": [
      "                                                                                \r"
     ]
    }
   ],
   "source": [
    "# -------- Limpieza en datos generales --------\n",
    "rows1 = df_data.count()\n",
    "\n",
    "# Eliminación de nulos\n",
    "df_data_filtered = df_data.dropna()\n",
    "\n",
    "rows2 = df_data_filtered.count()\n",
    "\n",
    "print(\"Cantidad de filas eliminadas: \" + str(rows1 - rows2))"
   ]
  },
  {
   "cell_type": "code",
   "execution_count": 78,
   "metadata": {
    "executionInfo": {
     "elapsed": 714,
     "status": "ok",
     "timestamp": 1668276273332,
     "user": {
      "displayName": "MARTHA MARIA DEL TORO CARBALLO",
      "userId": "13191692917125544302"
     },
     "user_tz": -60
    },
    "id": "92AibCeRp94W",
    "colab": {
     "base_uri": "https://localhost:8080/"
    },
    "outputId": "83e7d493-61c7-480c-eaec-5aa7a849731b",
    "pycharm": {
     "name": "#%%\n"
    }
   },
   "outputs": [
    {
     "name": "stdout",
     "output_type": "stream",
     "text": [
      "Cantidad de filas eliminadas: 2\n"
     ]
    }
   ],
   "source": [
    "# -------- Limpieza en datos de zonas --------\n",
    "rows1 = df_zones.count()\n",
    "\n",
    "# Eliminación de nulos\n",
    "df_zones_filtered = df_zones.dropna()\n",
    "\n",
    "listaNulos = [\"Unknown\", \"NA\", \"N/A\"]\n",
    "\n",
    "rdd_df_filtered = df_zones_filtered.rdd.filter(lambda x: x.Borough not in listaNulos)     \\\n",
    "                                       .filter(lambda x: x.Zone not in listaNulos)        \\\n",
    "                                       .filter(lambda x: x.service_zone not in listaNulos)\n",
    "\n",
    "df_zones_filtered = spark.createDataFrame(rdd_df_filtered)\n",
    "rows2 = df_zones_filtered.count()\n",
    "\n",
    "print(\"Cantidad de filas eliminadas: \" + str(rows1 - rows2))"
   ]
  },
  {
   "cell_type": "markdown",
   "metadata": {
    "id": "FDnFG8BPACPK",
    "pycharm": {
     "name": "#%% md\n"
    }
   },
   "source": [
    "## Eliminación de valores sin sentido lógico"
   ]
  },
  {
   "cell_type": "markdown",
   "metadata": {
    "id": "8sg9hFEta6ik",
    "pycharm": {
     "name": "#%% md\n"
    }
   },
   "source": [
    "A partir del análisis previo de los datos se detectaron valores negativos o iguales a 0. Por tanto, se procede a eliminar las filas que contienen:\n",
    "- Propinas negativas\n",
    "- Distancia de viajes negativa o igual a 0\n",
    "- Coste del viaje negativo o igual a 0\n",
    "- Tiempos sin sentido (llegada antes o igual que salida)"
   ]
  },
  {
   "cell_type": "code",
   "execution_count": 79,
   "metadata": {
    "executionInfo": {
     "elapsed": 52717,
     "status": "error",
     "timestamp": 1668276326047,
     "user": {
      "displayName": "MARTHA MARIA DEL TORO CARBALLO",
      "userId": "13191692917125544302"
     },
     "user_tz": -60
    },
    "id": "SUm7MES86OGZ",
    "colab": {
     "base_uri": "https://localhost:8080/",
     "height": 380
    },
    "outputId": "9d3bbce3-4644-4cd4-9050-80409e74d085",
    "pycharm": {
     "name": "#%%\n"
    }
   },
   "outputs": [
    {
     "name": "stderr",
     "output_type": "stream",
     "text": [
      "[Stage 177:>                                                        (0 + 1) / 1]\r"
     ]
    },
    {
     "name": "stdout",
     "output_type": "stream",
     "text": [
      "Cantidad de filas eliminadas: 33635\n"
     ]
    },
    {
     "name": "stderr",
     "output_type": "stream",
     "text": [
      "                                                                                \r"
     ]
    }
   ],
   "source": [
    "rows1 = df_data_filtered.count()\n",
    "\n",
    "# Filtrando propinas, importes negativos y tiempos\n",
    "rdd_df_filtered = df_data_filtered.rdd.filter(lambda x: x.tip_amount >= 0) \\\n",
    "                                      .filter(lambda x: x.trip_distance > 0) \\\n",
    "                                      .filter(lambda x: x.total_amount >= 0) \\\n",
    "                                      .filter(lambda x: x.passenger_count > 0) \\\n",
    "                                      .filter(lambda x: x.tpep_pickup_datetime < x.tpep_dropoff_datetime)\n",
    "\n",
    "df_data_filtered = spark.createDataFrame(rdd_df_filtered)\n",
    "rows2 = df_data_filtered.count()\n",
    "\n",
    "print(\"Cantidad de filas eliminadas: \" + str(rows1 - rows2))"
   ]
  },
  {
   "cell_type": "markdown",
   "metadata": {
    "id": "GirYEAFma6ik",
    "pycharm": {
     "name": "#%% md\n"
    }
   },
   "source": [
    "## Filtrado de los valores atípicos"
   ]
  },
  {
   "cell_type": "code",
   "execution_count": 80,
   "outputs": [
    {
     "data": {
      "text/plain": "DataFrame[VendorID: bigint, tpep_pickup_datetime: timestamp, tpep_dropoff_datetime: timestamp, passenger_count: double, trip_distance: double, RatecodeID: double, store_and_fwd_flag: string, PULocationID: bigint, DOLocationID: bigint, payment_type: bigint, fare_amount: double, extra: double, mta_tax: double, tip_amount: double, tolls_amount: double, improvement_surcharge: double, total_amount: double, congestion_surcharge: double, airport_fee: double]"
     },
     "execution_count": 80,
     "metadata": {},
     "output_type": "execute_result"
    }
   ],
   "source": [
    "df_data_filtered"
   ],
   "metadata": {
    "collapsed": false,
    "pycharm": {
     "name": "#%%\n"
    }
   }
  },
  {
   "cell_type": "code",
   "execution_count": 81,
   "metadata": {
    "id": "sYqCBCtXa6ik",
    "pycharm": {
     "name": "#%%\n"
    }
   },
   "outputs": [
    {
     "name": "stderr",
     "output_type": "stream",
     "text": [
      "[Stage 181:>                                                        (0 + 1) / 1]\r"
     ]
    },
    {
     "name": "stdout",
     "output_type": "stream",
     "text": [
      "Cantidad de filas eliminadas: 64033\n"
     ]
    },
    {
     "name": "stderr",
     "output_type": "stream",
     "text": [
      "                                                                                \r"
     ]
    }
   ],
   "source": [
    "quantiles = df_data_filtered.approxQuantile(\"tip_amount\", [0.25, 0.75], 0.0)\n",
    "Q1 = quantiles[0]\n",
    "Q3 = quantiles[1]\n",
    "IQR = Q3 - Q1\n",
    "upperRange = Q3 + 3*IQR\n",
    "rdd_df_filtered = df_data_filtered.rdd.filter(lambda x: x.tip_amount < upperRange)\n",
    "\n",
    "df_data_filtered = spark.createDataFrame(rdd_df_filtered)\n",
    "rows2 = df_data_filtered.count()\n",
    "\n",
    "print(\"Cantidad de filas eliminadas: \" + str(rows1 - rows2))"
   ]
  },
  {
   "cell_type": "markdown",
   "metadata": {
    "id": "NmXkZ31Ha6ik",
    "pycharm": {
     "name": "#%% md\n"
    }
   },
   "source": [
    "Representación de la dispersión resultante del filtrado de valores atípicos teniendo en cuenta las propinas mediante un boxplot"
   ]
  },
  {
   "cell_type": "code",
   "execution_count": 82,
   "metadata": {
    "id": "h60lCMy7a6ik",
    "pycharm": {
     "name": "#%%\n"
    }
   },
   "outputs": [
    {
     "name": "stderr",
     "output_type": "stream",
     "text": [
      "                                                                                \r"
     ]
    },
    {
     "data": {
      "text/plain": "<Figure size 640x480 with 1 Axes>",
      "image/png": "[encoded data removed]"
     },
     "metadata": {},
     "output_type": "display_data"
    }
   ],
   "source": [
    "data = df_data_filtered.select(\"tip_amount\").rdd.flatMap(lambda x: x).collect()\n",
    "\n",
    "plt.boxplot(data)\n",
    "plt.show()"
   ]
  },
  {
   "cell_type": "markdown",
   "metadata": {
    "id": "3aiSirvP0xg9",
    "pycharm": {
     "name": "#%% md\n"
    }
   },
   "source": [
    "## Conversión del formato de tiempo"
   ]
  },
  {
   "cell_type": "code",
   "execution_count": 83,
   "metadata": {
    "id": "yEVbrMZ7062G",
    "pycharm": {
     "name": "#%%\n"
    }
   },
   "outputs": [],
   "source": [
    "from pyspark.sql.functions import to_timestamp\n",
    "\n",
    "df_data_final = df_data_filtered.withColumn(\"tpep_pickup_datetime\", to_timestamp(\"tpep_pickup_datetime\"))\n",
    "df_data_final = df_data_final.withColumn(\"tpep_dropoff_datetime\", to_timestamp(\"tpep_dropoff_datetime\"))"
   ]
  },
  {
   "cell_type": "markdown",
   "metadata": {
    "id": "BpaKFVUVXzLZ",
    "pycharm": {
     "name": "#%% md\n"
    }
   },
   "source": [
    "Ahora que tenemos las columnas de Pickup y Dropoff formateadas a *timestamp*, se filtran los datos buscando un orden lógico de fechas:\n",
    "\n",
    "*   El tiempo de llegada es mayor que el de salida\n",
    "*   Los tiempos son diferentes"
   ]
  },
  {
   "cell_type": "code",
   "execution_count": 84,
   "metadata": {
    "id": "d9DWUgsLXwwf",
    "pycharm": {
     "name": "#%%\n"
    }
   },
   "outputs": [],
   "source": [
    "df_data_final = df_data_final.rdd.filter(lambda x: (x.tpep_dropoff_datetime - x.tpep_pickup_datetime).seconds > 0)\n",
    "df_data_final = spark.createDataFrame(df_data_final)"
   ]
  },
  {
   "cell_type": "markdown",
   "metadata": {
    "id": "IZIEwe1e7Lno",
    "pycharm": {
     "name": "#%% md\n"
    }
   },
   "source": [
    "## Join con los datos de las zonas"
   ]
  },
  {
   "cell_type": "code",
   "execution_count": 85,
   "metadata": {
    "id": "fBFG20Qr7YyA",
    "pycharm": {
     "name": "#%%\n"
    }
   },
   "outputs": [
    {
     "name": "stderr",
     "output_type": "stream",
     "text": [
      "                                                                                \r"
     ]
    }
   ],
   "source": [
    "# ------- JOIN PULocation con la tabla de zonas -------\n",
    "df_data_j = df_data_final.join(df_zones_filtered, on=[df_data_final.PULocationID == df_zones_filtered.LocationID], how = 'inner')\n",
    "\n",
    "# Eliminación de columna redundante \n",
    "df_data_j = df_data_j.drop(\"LocationID\")\n",
    "\n",
    "# Renombrado de las nuevas columnas  \n",
    "df_data_j = df_data_j.withColumnRenamed(\"Borough\",\"PUBorough\")\n",
    "df_data_j = df_data_j.withColumnRenamed(\"Zone\",\"PUZone\")\n",
    "df_data_j = df_data_j.withColumnRenamed(\"service_zone\",\"PUService_zone\")\n",
    "\n",
    "# ------- JOIN DOLocation con la tabla de zonas -------\n",
    "df_data_j = df_data_j.join(df_zones_filtered, df_data_final.DOLocationID == df_zones_filtered.LocationID, how='inner')\n",
    "\n",
    "# Eliminación de columna redundante \n",
    "df_data_j = df_data_j.drop(\"LocationID\")\n",
    "\n",
    "# Renombrado de las nuevas columnas  \n",
    "df_data_j = df_data_j.withColumnRenamed(\"Borough\",\"DOBorough\")\n",
    "df_data_j = df_data_j.withColumnRenamed(\"Zone\",\"DOZone\")\n",
    "df_data_j = df_data_j.withColumnRenamed(\"service_zone\",\"DOService_zone\")\n",
    "\n",
    "cant_datos = df_data_j.count()"
   ]
  },
  {
   "cell_type": "code",
   "execution_count": 86,
   "outputs": [
    {
     "data": {
      "text/plain": "DataFrame[VendorID: bigint, tpep_pickup_datetime: timestamp, tpep_dropoff_datetime: timestamp, passenger_count: double, trip_distance: double, RatecodeID: double, store_and_fwd_flag: string, PULocationID: bigint, DOLocationID: bigint, payment_type: bigint, fare_amount: double, extra: double, mta_tax: double, tip_amount: double, tolls_amount: double, improvement_surcharge: double, total_amount: double, congestion_surcharge: double, airport_fee: double, PUBorough: string, PUZone: string, PUService_zone: string, DOBorough: string, DOZone: string, DOService_zone: string]"
     },
     "execution_count": 86,
     "metadata": {},
     "output_type": "execute_result"
    }
   ],
   "source": [
    "df_data_j"
   ],
   "metadata": {
    "collapsed": false,
    "pycharm": {
     "name": "#%%\n"
    }
   }
  },
  {
   "cell_type": "markdown",
   "metadata": {
    "id": "mgQcuIrrISFY",
    "pycharm": {
     "name": "#%% md\n"
    }
   },
   "source": [
    "# Enunciado de la práctica"
   ]
  },
  {
   "cell_type": "markdown",
   "metadata": {
    "id": "3sVO0fcIIk6-",
    "pycharm": {
     "name": "#%% md\n"
    }
   },
   "source": [
    "Realice los estudios que considere necesarios sobre los datos que contiene los registros de la compañía YellowCab de Nueva York en término de viajes en taxi. Es obligatorio proporcionar al menos tres estudios. Ejemplos de estudios:\n",
    "\n",
    "1. Velocidad media de los taxis en función de la hora.\n",
    "2. Viajes en taxi más comunes\n",
    "3. Registros financieros (propinas, personas, etc.)\n",
    "\n",
    "Será necesario realizar al menos una ejecución basada en una consulta SQL (spark.sql(.....)), al menos una consulta mediante una concatenación de llamadas a métodos del DataFrame como: select, groupBy, y finalmente una haciendo uso de RDDs. Con el objetivo de estudiar el mejor método de trabajo, uno de los estudios realizados tiene que estar implementado de las tres formas.\n",
    "\n",
    "Tendrá que preparar un informe, indicando los siguientes aspectos:\n",
    "*   Tiempo de ejecución.\n",
    "*   Cantidad de datos procesados en término de número de viajes.\n",
    "*   Velocidad de procesamiento."
   ]
  },
  {
   "cell_type": "code",
   "source": [
    "# dict \n",
    "results = {}\n",
    "results[\"1\"] = {}\n",
    "results[\"2\"] = {}\n",
    "results[\"3\"] = {}\n"
   ],
   "metadata": {
    "id": "494RFtNPEAzk",
    "pycharm": {
     "name": "#%%\n"
    }
   },
   "execution_count": 87,
   "outputs": []
  },
  {
   "cell_type": "markdown",
   "metadata": {
    "id": "dH0a5XKZI28t",
    "pycharm": {
     "name": "#%% md\n"
    }
   },
   "source": [
    "## Consulta #1: Velocidad media de los taxis en función de la hora"
   ]
  },
  {
   "cell_type": "markdown",
   "metadata": {
    "id": "BvWwrMnma6ip",
    "pycharm": {
     "name": "#%% md\n"
    }
   },
   "source": [
    "##### **SQL**\n"
   ]
  },
  {
   "cell_type": "code",
   "source": [
    "#df_data_j.createOrReplaceTempView('data')\n",
    "#temp_results = spark.sql(\"SELECT COUNT(*) AS CANTIDAD_VIAJES, PUZone, DOZone \\\n",
    "#                     FROM data \\\n",
    "#                     GROUP BY PUZone, DOZone \\\n",
    "#                    ORDER BY CANTIDAD_VIAJES DESC\")"
   ],
   "metadata": {
    "id": "n1dNarXzDzxF",
    "pycharm": {
     "name": "#%%\n"
    }
   },
   "execution_count": 88,
   "outputs": []
  },
  {
   "cell_type": "markdown",
   "source": [
    "Rendimiento:"
   ],
   "metadata": {
    "id": "EHkUS0nXHUUc",
    "pycharm": {
     "name": "#%% md\n"
    }
   }
  },
  {
   "cell_type": "code",
   "execution_count": 89,
   "metadata": {
    "id": "Y16-ywdVHXNs",
    "pycharm": {
     "name": "#%%\n"
    }
   },
   "outputs": [],
   "source": [
    "#result_count, tiempo_ejecucion, velocidad_ejecucion =  calcularRendimiento(temp_results, cant_datos)\n",
    "#interpretar_rendimiento(tiempo_ejecucion , velocidad_ejecucion, cant_datos)"
   ]
  },
  {
   "cell_type": "code",
   "execution_count": 90,
   "metadata": {
    "id": "ipFP2cVbHqlE",
    "pycharm": {
     "name": "#%%\n"
    }
   },
   "outputs": [],
   "source": [
    "#mostar_resultados_sql_df(temp_results)"
   ]
  },
  {
   "cell_type": "code",
   "source": [
    "#temp_res = {\n",
    "#    \"sql\": {\"count\": result_count,\n",
    "#            \"tiempo\": tiempo_ejecucion,\n",
    "#            \"velocidad\": velocidad_ejecucion\n",
    "#           }\n",
    "#}\n",
    "#results [\"1\"] = temp_res\n",
    "#results"
   ],
   "metadata": {
    "id": "-kDufAVLHKQB",
    "pycharm": {
     "name": "#%%\n"
    }
   },
   "execution_count": 91,
   "outputs": []
  },
  {
   "cell_type": "markdown",
   "metadata": {
    "id": "q1P0gOJxDoj8",
    "pycharm": {
     "name": "#%% md\n"
    }
   },
   "source": [
    "##### **RDD**\n"
   ]
  },
  {
   "cell_type": "markdown",
   "source": [
    "Para obtener el resultado deseado se creó una función velocidad_media que se aplicará al conjunto de datos con map (rdd)."
   ],
   "metadata": {
    "id": "RtL4K4s2A6De",
    "pycharm": {
     "name": "#%% md\n"
    }
   }
  },
  {
   "cell_type": "code",
   "execution_count": 92,
   "metadata": {
    "id": "hca60gkQIRBN",
    "pycharm": {
     "name": "#%%\n"
    }
   },
   "outputs": [],
   "source": [
    "def velocidad_media(x):\n",
    "    distancia = x.trip_distance\n",
    "    t_destino = x.tpep_dropoff_datetime\n",
    "    t_origen = x.tpep_pickup_datetime\n",
    "\n",
    "    tiempo = (t_destino - t_origen).seconds / 3600\n",
    "\n",
    "    return (distancia / tiempo, distancia, tiempo)"
   ]
  },
  {
   "cell_type": "code",
   "execution_count": 93,
   "metadata": {
    "id": "A4r0bZulvKUS",
    "pycharm": {
     "name": "#%%\n"
    }
   },
   "outputs": [],
   "source": [
    "temp_results = df_data_j.rdd.map(velocidad_media)"
   ]
  },
  {
   "cell_type": "markdown",
   "source": [
    "Rendimiento:"
   ],
   "metadata": {
    "id": "Gj56_GrSBgg1",
    "pycharm": {
     "name": "#%% md\n"
    }
   }
  },
  {
   "cell_type": "code",
   "execution_count": 94,
   "metadata": {
    "id": "lmGPiMsb3zg9",
    "pycharm": {
     "name": "#%%\n"
    }
   },
   "outputs": [
    {
     "name": "stderr",
     "output_type": "stream",
     "text": [
      "[Stage 193:===================================================> (194 + 1) / 200]\r"
     ]
    },
    {
     "name": "stdout",
     "output_type": "stream",
     "text": [
      "Han transcurrido 29.394 segundos de ejecución.\n",
      "Cantidad de datos procesados: 782436\n",
      "Velocidad de procesamiento: 26618.9 registros/s\n"
     ]
    },
    {
     "name": "stderr",
     "output_type": "stream",
     "text": [
      "                                                                                \r"
     ]
    }
   ],
   "source": [
    "result_count , tiempo_ejecucion , velocidad_ejecucion =  calcularRendimiento(temp_results, cant_datos)\n",
    "interpretar_rendimiento(tiempo_ejecucion, velocidad_ejecucion, cant_datos)"
   ]
  },
  {
   "cell_type": "code",
   "execution_count": 95,
   "metadata": {
    "id": "vJfJeWrK5G4T",
    "pycharm": {
     "name": "#%%\n"
    }
   },
   "outputs": [
    {
     "data": {
      "text/plain": "<pandas.io.formats.style.Styler at 0x7fd2cfea14c0>",
      "text/html": "<style type=\"text/css\">\n</style>\n<table id=\"T_419cd\">\n  <thead>\n    <tr>\n      <th class=\"blank level0\" >&nbsp;</th>\n      <th id=\"T_419cd_level0_col0\" class=\"col_heading level0 col0\" >Velocidad media en millas por hora</th>\n      <th id=\"T_419cd_level0_col1\" class=\"col_heading level0 col1\" >distancia</th>\n      <th id=\"T_419cd_level0_col2\" class=\"col_heading level0 col2\" >tiempo</th>\n    </tr>\n  </thead>\n  <tbody>\n    <tr>\n      <th id=\"T_419cd_level0_row0\" class=\"row_heading level0 row0\" >0</th>\n      <td id=\"T_419cd_row0_col0\" class=\"data row0 col0\" >6.167598</td>\n      <td id=\"T_419cd_row0_col1\" class=\"data row0 col1\" >0.920000</td>\n      <td id=\"T_419cd_row0_col2\" class=\"data row0 col2\" >0.149167</td>\n    </tr>\n    <tr>\n      <th id=\"T_419cd_level0_row1\" class=\"row_heading level0 row1\" >1</th>\n      <td id=\"T_419cd_row1_col0\" class=\"data row1 col0\" >6.153846</td>\n      <td id=\"T_419cd_row1_col1\" class=\"data row1 col1\" >0.200000</td>\n      <td id=\"T_419cd_row1_col2\" class=\"data row1 col2\" >0.032500</td>\n    </tr>\n    <tr>\n      <th id=\"T_419cd_level0_row2\" class=\"row_heading level0 row2\" >2</th>\n      <td id=\"T_419cd_row2_col0\" class=\"data row2 col0\" >7.346939</td>\n      <td id=\"T_419cd_row2_col1\" class=\"data row2 col1\" >0.100000</td>\n      <td id=\"T_419cd_row2_col2\" class=\"data row2 col2\" >0.013611</td>\n    </tr>\n    <tr>\n      <th id=\"T_419cd_level0_row3\" class=\"row_heading level0 row3\" >3</th>\n      <td id=\"T_419cd_row3_col0\" class=\"data row3 col0\" >7.250883</td>\n      <td id=\"T_419cd_row3_col1\" class=\"data row3 col1\" >0.570000</td>\n      <td id=\"T_419cd_row3_col2\" class=\"data row3 col2\" >0.078611</td>\n    </tr>\n    <tr>\n      <th id=\"T_419cd_level0_row4\" class=\"row_heading level0 row4\" >4</th>\n      <td id=\"T_419cd_row4_col0\" class=\"data row4 col0\" >0.757363</td>\n      <td id=\"T_419cd_row4_col1\" class=\"data row4 col1\" >0.300000</td>\n      <td id=\"T_419cd_row4_col2\" class=\"data row4 col2\" >0.396111</td>\n    </tr>\n    <tr>\n      <th id=\"T_419cd_level0_row5\" class=\"row_heading level0 row5\" >5</th>\n      <td id=\"T_419cd_row5_col0\" class=\"data row5 col0\" >15.504711</td>\n      <td id=\"T_419cd_row5_col1\" class=\"data row5 col1\" >6.400000</td>\n      <td id=\"T_419cd_row5_col2\" class=\"data row5 col2\" >0.412778</td>\n    </tr>\n    <tr>\n      <th id=\"T_419cd_level0_row6\" class=\"row_heading level0 row6\" >6</th>\n      <td id=\"T_419cd_row6_col0\" class=\"data row6 col0\" >16.039271</td>\n      <td id=\"T_419cd_row6_col1\" class=\"data row6 col1\" >9.530000</td>\n      <td id=\"T_419cd_row6_col2\" class=\"data row6 col2\" >0.594167</td>\n    </tr>\n    <tr>\n      <th id=\"T_419cd_level0_row7\" class=\"row_heading level0 row7\" >7</th>\n      <td id=\"T_419cd_row7_col0\" class=\"data row7 col0\" >7.849356</td>\n      <td id=\"T_419cd_row7_col1\" class=\"data row7 col1\" >2.200000</td>\n      <td id=\"T_419cd_row7_col2\" class=\"data row7 col2\" >0.280278</td>\n    </tr>\n    <tr>\n      <th id=\"T_419cd_level0_row8\" class=\"row_heading level0 row8\" >8</th>\n      <td id=\"T_419cd_row8_col0\" class=\"data row8 col0\" >10.332574</td>\n      <td id=\"T_419cd_row8_col1\" class=\"data row8 col1\" >1.260000</td>\n      <td id=\"T_419cd_row8_col2\" class=\"data row8 col2\" >0.121944</td>\n    </tr>\n    <tr>\n      <th id=\"T_419cd_level0_row9\" class=\"row_heading level0 row9\" >9</th>\n      <td id=\"T_419cd_row9_col0\" class=\"data row9 col0\" >22.807246</td>\n      <td id=\"T_419cd_row9_col1\" class=\"data row9 col1\" >13.640000</td>\n      <td id=\"T_419cd_row9_col2\" class=\"data row9 col2\" >0.598056</td>\n    </tr>\n    <tr>\n      <th id=\"T_419cd_level0_row10\" class=\"row_heading level0 row10\" >10</th>\n      <td id=\"T_419cd_row10_col0\" class=\"data row10 col0\" >23.494565</td>\n      <td id=\"T_419cd_row10_col1\" class=\"data row10 col1\" >14.410000</td>\n      <td id=\"T_419cd_row10_col2\" class=\"data row10 col2\" >0.613333</td>\n    </tr>\n    <tr>\n      <th id=\"T_419cd_level0_row11\" class=\"row_heading level0 row11\" >11</th>\n      <td id=\"T_419cd_row11_col0\" class=\"data row11 col0\" >25.177665</td>\n      <td id=\"T_419cd_row11_col1\" class=\"data row11 col1\" >12.400000</td>\n      <td id=\"T_419cd_row11_col2\" class=\"data row11 col2\" >0.492500</td>\n    </tr>\n    <tr>\n      <th id=\"T_419cd_level0_row12\" class=\"row_heading level0 row12\" >12</th>\n      <td id=\"T_419cd_row12_col0\" class=\"data row12 col0\" >14.164888</td>\n      <td id=\"T_419cd_row12_col1\" class=\"data row12 col1\" >12.170000</td>\n      <td id=\"T_419cd_row12_col2\" class=\"data row12 col2\" >0.859167</td>\n    </tr>\n    <tr>\n      <th id=\"T_419cd_level0_row13\" class=\"row_heading level0 row13\" >13</th>\n      <td id=\"T_419cd_row13_col0\" class=\"data row13 col0\" >19.154459</td>\n      <td id=\"T_419cd_row13_col1\" class=\"data row13 col1\" >14.020000</td>\n      <td id=\"T_419cd_row13_col2\" class=\"data row13 col2\" >0.731944</td>\n    </tr>\n    <tr>\n      <th id=\"T_419cd_level0_row14\" class=\"row_heading level0 row14\" >14</th>\n      <td id=\"T_419cd_row14_col0\" class=\"data row14 col0\" >29.006071</td>\n      <td id=\"T_419cd_row14_col1\" class=\"data row14 col1\" >9.290000</td>\n      <td id=\"T_419cd_row14_col2\" class=\"data row14 col2\" >0.320278</td>\n    </tr>\n    <tr>\n      <th id=\"T_419cd_level0_row15\" class=\"row_heading level0 row15\" >15</th>\n      <td id=\"T_419cd_row15_col0\" class=\"data row15 col0\" >15.573180</td>\n      <td id=\"T_419cd_row15_col1\" class=\"data row15 col1\" >12.000000</td>\n      <td id=\"T_419cd_row15_col2\" class=\"data row15 col2\" >0.770556</td>\n    </tr>\n    <tr>\n      <th id=\"T_419cd_level0_row16\" class=\"row_heading level0 row16\" >16</th>\n      <td id=\"T_419cd_row16_col0\" class=\"data row16 col0\" >7.577383</td>\n      <td id=\"T_419cd_row16_col1\" class=\"data row16 col1\" >5.100000</td>\n      <td id=\"T_419cd_row16_col2\" class=\"data row16 col2\" >0.673056</td>\n    </tr>\n    <tr>\n      <th id=\"T_419cd_level0_row17\" class=\"row_heading level0 row17\" >17</th>\n      <td id=\"T_419cd_row17_col0\" class=\"data row17 col0\" >14.941634</td>\n      <td id=\"T_419cd_row17_col1\" class=\"data row17 col1\" >12.800000</td>\n      <td id=\"T_419cd_row17_col2\" class=\"data row17 col2\" >0.856667</td>\n    </tr>\n    <tr>\n      <th id=\"T_419cd_level0_row18\" class=\"row_heading level0 row18\" >18</th>\n      <td id=\"T_419cd_row18_col0\" class=\"data row18 col0\" >20.017410</td>\n      <td id=\"T_419cd_row18_col1\" class=\"data row18 col1\" >5.110000</td>\n      <td id=\"T_419cd_row18_col2\" class=\"data row18 col2\" >0.255278</td>\n    </tr>\n    <tr>\n      <th id=\"T_419cd_level0_row19\" class=\"row_heading level0 row19\" >19</th>\n      <td id=\"T_419cd_row19_col0\" class=\"data row19 col0\" >15.235316</td>\n      <td id=\"T_419cd_row19_col1\" class=\"data row19 col1\" >11.600000</td>\n      <td id=\"T_419cd_row19_col2\" class=\"data row19 col2\" >0.761389</td>\n    </tr>\n  </tbody>\n</table>\n"
     },
     "execution_count": 95,
     "metadata": {},
     "output_type": "execute_result"
    }
   ],
   "source": [
    "mostrar_resultados_rdd(temp_results,['Velocidad media en millas por hora', 'distancia', 'tiempo'], nfilas = 20)"
   ]
  },
  {
   "cell_type": "code",
   "source": [
    "temp_res = {\n",
    "    \"rdd\": {\"count\": result_count,\n",
    "            \"tiempo\": tiempo_ejecucion,\n",
    "            \"velocidad\": velocidad_ejecucion\n",
    "           }\n",
    "}\n",
    "results[\"1\"].update(temp_res)\n",
    "results"
   ],
   "metadata": {
    "id": "WFWyEmf6ERe6",
    "pycharm": {
     "name": "#%%\n"
    }
   },
   "execution_count": 96,
   "outputs": [
    {
     "data": {
      "text/plain": "{'1': {'rdd': {'count': 782436, 'tiempo': 29.394, 'velocidad': 26618.9}},\n '2': {},\n '3': {}}"
     },
     "execution_count": 96,
     "metadata": {},
     "output_type": "execute_result"
    }
   ]
  },
  {
   "cell_type": "markdown",
   "metadata": {
    "id": "aRy-CN7QIFxM",
    "pycharm": {
     "name": "#%% md\n"
    }
   },
   "source": [
    "##### **DataFrame**\n"
   ]
  },
  {
   "cell_type": "code",
   "execution_count": 97,
   "metadata": {
    "id": "BW6fVi6uIMmC",
    "pycharm": {
     "name": "#%%\n"
    }
   },
   "outputs": [],
   "source": [
    "from pyspark.sql.functions import avg, col, unix_timestamp\n",
    "\n",
    "temp_results = df_data_j.select([\"trip_distance\", \"tpep_dropoff_datetime\", \"tpep_pickup_datetime\"]).withColumn(\"trip_duration\", (unix_timestamp(\"tpep_dropoff_datetime\") - unix_timestamp('tpep_pickup_datetime'))/3600).withColumn(\"vel_media\", col(\"trip_distance\") / (col(\"trip_duration\"))).select([\"vel_media\", \"trip_distance\", \"trip_duration\"])"
   ]
  },
  {
   "cell_type": "markdown",
   "source": [
    "Rendimiento:"
   ],
   "metadata": {
    "id": "MJwa4ua9JxLU",
    "pycharm": {
     "name": "#%% md\n"
    }
   }
  },
  {
   "cell_type": "code",
   "execution_count": 98,
   "metadata": {
    "id": "trVdvmgMISaa",
    "pycharm": {
     "name": "#%%\n"
    }
   },
   "outputs": [
    {
     "name": "stderr",
     "output_type": "stream",
     "text": [
      "[Stage 200:==============================================>      (176 + 2) / 200]\r"
     ]
    },
    {
     "name": "stdout",
     "output_type": "stream",
     "text": [
      "Han transcurrido 17.753 segundos de ejecución.\n",
      "Cantidad de datos procesados: 782436\n",
      "Velocidad de procesamiento: 44073.45 registros/s\n"
     ]
    },
    {
     "name": "stderr",
     "output_type": "stream",
     "text": [
      "                                                                                \r"
     ]
    }
   ],
   "source": [
    "result_count, tiempo_ejecucion, velocidad_ejecucion =  calcularRendimiento(temp_results, cant_datos)\n",
    "interpretar_rendimiento(tiempo_ejecucion, velocidad_ejecucion, cant_datos)"
   ]
  },
  {
   "cell_type": "code",
   "execution_count": 99,
   "metadata": {
    "id": "gJDvH1RFIUpa",
    "pycharm": {
     "name": "#%%\n"
    }
   },
   "outputs": [
    {
     "name": "stderr",
     "output_type": "stream",
     "text": [
      "                                                                                \r"
     ]
    },
    {
     "data": {
      "text/plain": "   vel_media  trip_distance  trip_duration\n0   6.167598           0.92       0.149167\n1   6.153846           0.20       0.032500\n2   7.346939           0.10       0.013611\n3   7.250883           0.57       0.078611\n4   0.757363           0.30       0.396111\n5  15.504711           6.40       0.412778\n6  16.039271           9.53       0.594167\n7   7.849356           2.20       0.280278\n8  10.332574           1.26       0.121944\n9  22.807246          13.64       0.598056",
      "text/html": "<div>\n<style scoped>\n    .dataframe tbody tr th:only-of-type {\n        vertical-align: middle;\n    }\n\n    .dataframe tbody tr th {\n        vertical-align: top;\n    }\n\n    .dataframe thead th {\n        text-align: right;\n    }\n</style>\n<table border=\"1\" class=\"dataframe\">\n  <thead>\n    <tr style=\"text-align: right;\">\n      <th></th>\n      <th>vel_media</th>\n      <th>trip_distance</th>\n      <th>trip_duration</th>\n    </tr>\n  </thead>\n  <tbody>\n    <tr>\n      <th>0</th>\n      <td>6.167598</td>\n      <td>0.92</td>\n      <td>0.149167</td>\n    </tr>\n    <tr>\n      <th>1</th>\n      <td>6.153846</td>\n      <td>0.20</td>\n      <td>0.032500</td>\n    </tr>\n    <tr>\n      <th>2</th>\n      <td>7.346939</td>\n      <td>0.10</td>\n      <td>0.013611</td>\n    </tr>\n    <tr>\n      <th>3</th>\n      <td>7.250883</td>\n      <td>0.57</td>\n      <td>0.078611</td>\n    </tr>\n    <tr>\n      <th>4</th>\n      <td>0.757363</td>\n      <td>0.30</td>\n      <td>0.396111</td>\n    </tr>\n    <tr>\n      <th>5</th>\n      <td>15.504711</td>\n      <td>6.40</td>\n      <td>0.412778</td>\n    </tr>\n    <tr>\n      <th>6</th>\n      <td>16.039271</td>\n      <td>9.53</td>\n      <td>0.594167</td>\n    </tr>\n    <tr>\n      <th>7</th>\n      <td>7.849356</td>\n      <td>2.20</td>\n      <td>0.280278</td>\n    </tr>\n    <tr>\n      <th>8</th>\n      <td>10.332574</td>\n      <td>1.26</td>\n      <td>0.121944</td>\n    </tr>\n    <tr>\n      <th>9</th>\n      <td>22.807246</td>\n      <td>13.64</td>\n      <td>0.598056</td>\n    </tr>\n  </tbody>\n</table>\n</div>"
     },
     "execution_count": 99,
     "metadata": {},
     "output_type": "execute_result"
    }
   ],
   "source": [
    "mostar_resultados_sql_df(temp_results)"
   ]
  },
  {
   "cell_type": "code",
   "source": [
    "temp_res = {\n",
    "   \"df\": {\"count\": result_count,\n",
    "           \"tiempo\": tiempo_ejecucion,\n",
    "           \"velocidad\": velocidad_ejecucion\n",
    "          }\n",
    "}\n",
    "results[\"1\"].update(temp_res)\n",
    "results"
   ],
   "metadata": {
    "id": "WBMo1kY7IYhM",
    "pycharm": {
     "name": "#%%\n"
    }
   },
   "execution_count": 100,
   "outputs": [
    {
     "data": {
      "text/plain": "{'1': {'rdd': {'count': 782436, 'tiempo': 29.394, 'velocidad': 26618.9},\n  'df': {'count': 782436, 'tiempo': 17.753, 'velocidad': 44073.45}},\n '2': {},\n '3': {}}"
     },
     "execution_count": 100,
     "metadata": {},
     "output_type": "execute_result"
    }
   ]
  },
  {
   "cell_type": "markdown",
   "metadata": {
    "id": "QlFRShuCGN9L",
    "pycharm": {
     "name": "#%% md\n"
    }
   },
   "source": [
    "## Consulta #2: Viajes en taxi más comunes"
   ]
  },
  {
   "cell_type": "markdown",
   "metadata": {
    "id": "xLKUJbP6GYgX",
    "pycharm": {
     "name": "#%% md\n"
    }
   },
   "source": [
    "##### **SQL**\n"
   ]
  },
  {
   "cell_type": "markdown",
   "metadata": {
    "id": "ZqXYH_KTa6ir",
    "pycharm": {
     "name": "#%% md\n"
    }
   },
   "source": [
    "Esta consulta obtiene los viajes en taxi más comunes en función del destino y del origen de la zona de Nueva York. Esta consulta se realizó mediante SQL y se ordenó la salida descendentemente para hacer un top 10 de los viajes más comunes."
   ]
  },
  {
   "cell_type": "code",
   "execution_count": 101,
   "metadata": {
    "id": "JWFE8aCJiqDE",
    "pycharm": {
     "name": "#%%\n"
    }
   },
   "outputs": [],
   "source": [
    "df_data_j.createOrReplaceTempView('data')\n",
    "temp_results = spark.sql(\"SELECT COUNT(*) AS CANTIDAD_VIAJES, PUZone, DOZone \\\n",
    "                     FROM data \\\n",
    "                     GROUP BY PUZone, DOZone \\\n",
    "                     ORDER BY CANTIDAD_VIAJES DESC\")\n",
    "# ORDER BY CANTIDAD_VIAJES DESC\")"
   ]
  },
  {
   "cell_type": "markdown",
   "source": [
    "Rendimiento:"
   ],
   "metadata": {
    "id": "014XZW_TIeF-",
    "pycharm": {
     "name": "#%% md\n"
    }
   }
  },
  {
   "cell_type": "code",
   "execution_count": 102,
   "metadata": {
    "id": "J8kq2tWt_2wZ",
    "pycharm": {
     "name": "#%%\n"
    }
   },
   "outputs": [
    {
     "name": "stderr",
     "output_type": "stream",
     "text": [
      "[Stage 210:========================================>            (154 + 1) / 200]\r"
     ]
    },
    {
     "name": "stdout",
     "output_type": "stream",
     "text": [
      "Han transcurrido 19.415 segundos de ejecución.\n",
      "Cantidad de datos procesados: 782436\n",
      "Velocidad de procesamiento: 40300.59 registros/s\n"
     ]
    },
    {
     "name": "stderr",
     "output_type": "stream",
     "text": [
      "                                                                                \r"
     ]
    }
   ],
   "source": [
    "result_count, tiempo_ejecucion, velocidad_ejecucion =  calcularRendimiento(temp_results, cant_datos)\n",
    "interpretar_rendimiento(tiempo_ejecucion , velocidad_ejecucion, cant_datos)"
   ]
  },
  {
   "cell_type": "code",
   "execution_count": 103,
   "metadata": {
    "id": "w3Js-naVAMOu",
    "pycharm": {
     "name": "#%%\n"
    }
   },
   "outputs": [
    {
     "name": "stderr",
     "output_type": "stream",
     "text": [
      "                                                                                \r"
     ]
    },
    {
     "data": {
      "text/plain": "   CANTIDAD_VIAJES                 PUZone                 DOZone\n0             5624  Upper East Side South  Upper East Side North\n1             4833  Upper East Side North  Upper East Side South\n2             3573  Upper East Side South  Upper East Side South\n3             3245  Upper East Side North  Upper East Side North\n4             2475  Upper East Side South         Midtown Center\n5             2278         Midtown Center  Upper East Side South\n6             2132  Upper East Side South           Midtown East\n7             2081    Lincoln Square East  Upper West Side South\n8             2034  Upper East Side North         Midtown Center\n9             2029  Upper West Side South    Lincoln Square East",
      "text/html": "<div>\n<style scoped>\n    .dataframe tbody tr th:only-of-type {\n        vertical-align: middle;\n    }\n\n    .dataframe tbody tr th {\n        vertical-align: top;\n    }\n\n    .dataframe thead th {\n        text-align: right;\n    }\n</style>\n<table border=\"1\" class=\"dataframe\">\n  <thead>\n    <tr style=\"text-align: right;\">\n      <th></th>\n      <th>CANTIDAD_VIAJES</th>\n      <th>PUZone</th>\n      <th>DOZone</th>\n    </tr>\n  </thead>\n  <tbody>\n    <tr>\n      <th>0</th>\n      <td>5624</td>\n      <td>Upper East Side South</td>\n      <td>Upper East Side North</td>\n    </tr>\n    <tr>\n      <th>1</th>\n      <td>4833</td>\n      <td>Upper East Side North</td>\n      <td>Upper East Side South</td>\n    </tr>\n    <tr>\n      <th>2</th>\n      <td>3573</td>\n      <td>Upper East Side South</td>\n      <td>Upper East Side South</td>\n    </tr>\n    <tr>\n      <th>3</th>\n      <td>3245</td>\n      <td>Upper East Side North</td>\n      <td>Upper East Side North</td>\n    </tr>\n    <tr>\n      <th>4</th>\n      <td>2475</td>\n      <td>Upper East Side South</td>\n      <td>Midtown Center</td>\n    </tr>\n    <tr>\n      <th>5</th>\n      <td>2278</td>\n      <td>Midtown Center</td>\n      <td>Upper East Side South</td>\n    </tr>\n    <tr>\n      <th>6</th>\n      <td>2132</td>\n      <td>Upper East Side South</td>\n      <td>Midtown East</td>\n    </tr>\n    <tr>\n      <th>7</th>\n      <td>2081</td>\n      <td>Lincoln Square East</td>\n      <td>Upper West Side South</td>\n    </tr>\n    <tr>\n      <th>8</th>\n      <td>2034</td>\n      <td>Upper East Side North</td>\n      <td>Midtown Center</td>\n    </tr>\n    <tr>\n      <th>9</th>\n      <td>2029</td>\n      <td>Upper West Side South</td>\n      <td>Lincoln Square East</td>\n    </tr>\n  </tbody>\n</table>\n</div>"
     },
     "execution_count": 103,
     "metadata": {},
     "output_type": "execute_result"
    }
   ],
   "source": [
    "mostar_resultados_sql_df(temp_results)"
   ]
  },
  {
   "cell_type": "code",
   "source": [
    "temp_res = {\n",
    "    \"sql\": {\"count\": result_count,\n",
    "            \"tiempo\": tiempo_ejecucion,\n",
    "            \"velocidad\": velocidad_ejecucion\n",
    "           }\n",
    "}\n",
    "results[\"2\"].update(temp_res)\n",
    "results"
   ],
   "metadata": {
    "id": "6TxTwi9HI3EW",
    "pycharm": {
     "name": "#%%\n"
    }
   },
   "execution_count": 104,
   "outputs": [
    {
     "data": {
      "text/plain": "{'1': {'rdd': {'count': 782436, 'tiempo': 29.394, 'velocidad': 26618.9},\n  'df': {'count': 782436, 'tiempo': 17.753, 'velocidad': 44073.45}},\n '2': {'sql': {'count': 12994, 'tiempo': 19.415, 'velocidad': 40300.59}},\n '3': {}}"
     },
     "execution_count": 104,
     "metadata": {},
     "output_type": "execute_result"
    }
   ]
  },
  {
   "cell_type": "markdown",
   "metadata": {
    "id": "dp63W6XhGdvc",
    "pycharm": {
     "name": "#%% md\n"
    }
   },
   "source": [
    "##### **RDD**\n"
   ]
  },
  {
   "cell_type": "markdown",
   "metadata": {
    "id": "36UxQ8y4a6is",
    "pycharm": {
     "name": "#%% md\n"
    }
   },
   "source": [
    "Esta consulta tiene el mismo propósito que la anterior, pero se realizó mediante RDD, empleando map y reduceByKey"
   ]
  },
  {
   "cell_type": "code",
   "execution_count": 105,
   "metadata": {
    "id": "c1L2-W7Kmmet",
    "pycharm": {
     "name": "#%%\n"
    }
   },
   "outputs": [
    {
     "name": "stderr",
     "output_type": "stream",
     "text": [
      "                                                                                \r"
     ]
    }
   ],
   "source": [
    "temp_results = df_data_j.rdd.map(lambda x: (str(x.PUBorough + \" [\" + x.PUZone + \"]\" + \" -> \" + x.DOBorough + \" [\" + x.DOZone + \"]\"), 1)) \\\n",
    "                       .reduceByKey(add) \\\n",
    ".sortBy(lambda x: x[1], False)"
   ]
  },
  {
   "cell_type": "markdown",
   "source": [
    "Rendimiento:"
   ],
   "metadata": {
    "id": "w63JSCW7KFhr",
    "pycharm": {
     "name": "#%% md\n"
    }
   }
  },
  {
   "cell_type": "code",
   "execution_count": 106,
   "metadata": {
    "id": "QX7ah_I2BgzO",
    "pycharm": {
     "name": "#%%\n"
    }
   },
   "outputs": [
    {
     "name": "stderr",
     "output_type": "stream",
     "text": [
      "[Stage 233:===================================================> (196 + 1) / 200]\r"
     ]
    },
    {
     "name": "stdout",
     "output_type": "stream",
     "text": [
      "Han transcurrido 20.343 segundos de ejecución.\n",
      "Cantidad de datos procesados: 782436\n",
      "Velocidad de procesamiento: 38462.17 registros/s\n"
     ]
    },
    {
     "name": "stderr",
     "output_type": "stream",
     "text": [
      "                                                                                \r"
     ]
    }
   ],
   "source": [
    "result_count, tiempo_ejecucion, velocidad_ejecucion =  calcularRendimiento(temp_results, cant_datos)\n",
    "interpretar_rendimiento(tiempo_ejecucion , velocidad_ejecucion, cant_datos)"
   ]
  },
  {
   "cell_type": "code",
   "execution_count": 107,
   "metadata": {
    "id": "yVJ8Bp2OBdmo",
    "pycharm": {
     "name": "#%%\n"
    }
   },
   "outputs": [
    {
     "data": {
      "text/plain": "<pandas.io.formats.style.Styler at 0x7fd2cff720d0>",
      "text/html": "<style type=\"text/css\">\n</style>\n<table id=\"T_bddbc\">\n  <thead>\n    <tr>\n      <th class=\"blank level0\" >&nbsp;</th>\n      <th id=\"T_bddbc_level0_col0\" class=\"col_heading level0 col0\" >Trayecto</th>\n      <th id=\"T_bddbc_level0_col1\" class=\"col_heading level0 col1\" >Cantidad de Viajes</th>\n    </tr>\n  </thead>\n  <tbody>\n    <tr>\n      <th id=\"T_bddbc_level0_row0\" class=\"row_heading level0 row0\" >0</th>\n      <td id=\"T_bddbc_row0_col0\" class=\"data row0 col0\" >Manhattan [Upper East Side South] -> Manhattan [Upper East Side North]</td>\n      <td id=\"T_bddbc_row0_col1\" class=\"data row0 col1\" >5624</td>\n    </tr>\n    <tr>\n      <th id=\"T_bddbc_level0_row1\" class=\"row_heading level0 row1\" >1</th>\n      <td id=\"T_bddbc_row1_col0\" class=\"data row1 col0\" >Manhattan [Upper East Side North] -> Manhattan [Upper East Side South]</td>\n      <td id=\"T_bddbc_row1_col1\" class=\"data row1 col1\" >4833</td>\n    </tr>\n    <tr>\n      <th id=\"T_bddbc_level0_row2\" class=\"row_heading level0 row2\" >2</th>\n      <td id=\"T_bddbc_row2_col0\" class=\"data row2 col0\" >Manhattan [Upper East Side South] -> Manhattan [Upper East Side South]</td>\n      <td id=\"T_bddbc_row2_col1\" class=\"data row2 col1\" >3573</td>\n    </tr>\n    <tr>\n      <th id=\"T_bddbc_level0_row3\" class=\"row_heading level0 row3\" >3</th>\n      <td id=\"T_bddbc_row3_col0\" class=\"data row3 col0\" >Manhattan [Upper East Side North] -> Manhattan [Upper East Side North]</td>\n      <td id=\"T_bddbc_row3_col1\" class=\"data row3 col1\" >3245</td>\n    </tr>\n    <tr>\n      <th id=\"T_bddbc_level0_row4\" class=\"row_heading level0 row4\" >4</th>\n      <td id=\"T_bddbc_row4_col0\" class=\"data row4 col0\" >Manhattan [Upper East Side South] -> Manhattan [Midtown Center]</td>\n      <td id=\"T_bddbc_row4_col1\" class=\"data row4 col1\" >2475</td>\n    </tr>\n    <tr>\n      <th id=\"T_bddbc_level0_row5\" class=\"row_heading level0 row5\" >5</th>\n      <td id=\"T_bddbc_row5_col0\" class=\"data row5 col0\" >Manhattan [Midtown Center] -> Manhattan [Upper East Side South]</td>\n      <td id=\"T_bddbc_row5_col1\" class=\"data row5 col1\" >2278</td>\n    </tr>\n    <tr>\n      <th id=\"T_bddbc_level0_row6\" class=\"row_heading level0 row6\" >6</th>\n      <td id=\"T_bddbc_row6_col0\" class=\"data row6 col0\" >Manhattan [Upper East Side South] -> Manhattan [Midtown East]</td>\n      <td id=\"T_bddbc_row6_col1\" class=\"data row6 col1\" >2132</td>\n    </tr>\n    <tr>\n      <th id=\"T_bddbc_level0_row7\" class=\"row_heading level0 row7\" >7</th>\n      <td id=\"T_bddbc_row7_col0\" class=\"data row7 col0\" >Manhattan [Lincoln Square East] -> Manhattan [Upper West Side South]</td>\n      <td id=\"T_bddbc_row7_col1\" class=\"data row7 col1\" >2081</td>\n    </tr>\n    <tr>\n      <th id=\"T_bddbc_level0_row8\" class=\"row_heading level0 row8\" >8</th>\n      <td id=\"T_bddbc_row8_col0\" class=\"data row8 col0\" >Manhattan [Upper East Side North] -> Manhattan [Midtown Center]</td>\n      <td id=\"T_bddbc_row8_col1\" class=\"data row8 col1\" >2034</td>\n    </tr>\n    <tr>\n      <th id=\"T_bddbc_level0_row9\" class=\"row_heading level0 row9\" >9</th>\n      <td id=\"T_bddbc_row9_col0\" class=\"data row9 col0\" >Manhattan [Upper West Side South] -> Manhattan [Lincoln Square East]</td>\n      <td id=\"T_bddbc_row9_col1\" class=\"data row9 col1\" >2029</td>\n    </tr>\n  </tbody>\n</table>\n"
     },
     "execution_count": 107,
     "metadata": {},
     "output_type": "execute_result"
    }
   ],
   "source": [
    "mostrar_resultados_rdd(temp_results,['Trayecto', 'Cantidad de Viajes'])"
   ]
  },
  {
   "cell_type": "code",
   "source": [
    "temp_res = {\n",
    "    \"rdd\": {\"count\": result_count,\n",
    "            \"tiempo\": tiempo_ejecucion,\n",
    "            \"velocidad\": velocidad_ejecucion\n",
    "           }\n",
    "}\n",
    "results[\"2\"].update(temp_res)\n",
    "results"
   ],
   "metadata": {
    "id": "l6GyqOLrJUHG",
    "pycharm": {
     "name": "#%%\n"
    }
   },
   "execution_count": 108,
   "outputs": [
    {
     "data": {
      "text/plain": "{'1': {'rdd': {'count': 782436, 'tiempo': 29.394, 'velocidad': 26618.9},\n  'df': {'count': 782436, 'tiempo': 17.753, 'velocidad': 44073.45}},\n '2': {'sql': {'count': 12994, 'tiempo': 19.415, 'velocidad': 40300.59},\n  'rdd': {'count': 12994, 'tiempo': 20.343, 'velocidad': 38462.17}},\n '3': {}}"
     },
     "execution_count": 108,
     "metadata": {},
     "output_type": "execute_result"
    }
   ]
  },
  {
   "cell_type": "markdown",
   "metadata": {
    "id": "_ATyETvwIe4D",
    "pycharm": {
     "name": "#%% md\n"
    }
   },
   "source": [
    "##### **DataFrame**\n"
   ]
  },
  {
   "cell_type": "code",
   "source": [
    "# temp_results = df_data_j.groupBy()"
   ],
   "metadata": {
    "id": "IE-b56_WIsF-",
    "pycharm": {
     "name": "#%%\n"
    }
   },
   "execution_count": 109,
   "outputs": []
  },
  {
   "cell_type": "markdown",
   "source": [
    "Rendimiento:"
   ],
   "metadata": {
    "id": "kGcNG1PPJjOb",
    "pycharm": {
     "name": "#%% md\n"
    }
   }
  },
  {
   "cell_type": "code",
   "source": [
    "#result_count, tiempo_ejecucion, velocidad_ejecucion =  calcularRendimiento(temp_results, cant_datos)\n",
    "#interpretar_rendimiento(tiempo_ejecucion, velocidad_ejecucion6, cant_datos)"
   ],
   "metadata": {
    "id": "Q_Gp6YZAIpbr",
    "pycharm": {
     "name": "#%%\n"
    }
   },
   "execution_count": 110,
   "outputs": []
  },
  {
   "cell_type": "code",
   "source": [
    "#mostar_resultados_sql_df(temp_results)"
   ],
   "metadata": {
    "id": "GAdatgXUIv3k",
    "pycharm": {
     "name": "#%%\n"
    }
   },
   "execution_count": 111,
   "outputs": []
  },
  {
   "cell_type": "code",
   "source": [
    "#temp_res = {\n",
    "#    \"df\": {\"count\": result_count,\n",
    "#            \"tiempo\": tiempo_ejecucion,\n",
    "#            \"velocidad\": velocidad_ejecucion\n",
    "#           }\n",
    "#}\n",
    "#results [\"2\"] = temp_res\n",
    "#results"
   ],
   "metadata": {
    "id": "ZMzKtGDDIypL",
    "pycharm": {
     "name": "#%%\n"
    }
   },
   "execution_count": 112,
   "outputs": []
  },
  {
   "cell_type": "markdown",
   "metadata": {
    "id": "XbkU7nbXNIAX",
    "pycharm": {
     "name": "#%% md\n"
    }
   },
   "source": [
    "## Consulta #3: Propina media en funcion del número de pasajeros"
   ]
  },
  {
   "cell_type": "markdown",
   "metadata": {
    "id": "An29BOqrNsa_",
    "pycharm": {
     "name": "#%% md\n"
    }
   },
   "source": [
    "##### **SQL**\n"
   ]
  },
  {
   "cell_type": "markdown",
   "metadata": {
    "id": "KY2IMKNHa6iu",
    "pycharm": {
     "name": "#%% md\n"
    }
   },
   "source": [
    "Para obtener el resultado deseado mediante SQL agrupamos el resultado por el número de pasajeros y para cada uno se realiza la media."
   ]
  },
  {
   "cell_type": "code",
   "execution_count": 113,
   "metadata": {
    "id": "HfFii7dkDahv",
    "pycharm": {
     "name": "#%%\n"
    }
   },
   "outputs": [],
   "source": [
    "df_data_j.createOrReplaceTempView('data')\n",
    "temp_results = spark.sql(\"SELECT passenger_count, AVG(tip_amount) \\\n",
    "                     FROM data \\\n",
    "                     GROUP BY passenger_count \\\n",
    "                     ORDER BY passenger_count ASC\")"
   ]
  },
  {
   "cell_type": "markdown",
   "source": [
    "Rendimiento:"
   ],
   "metadata": {
    "id": "YDwwYDmwNzSD",
    "pycharm": {
     "name": "#%% md\n"
    }
   }
  },
  {
   "cell_type": "code",
   "execution_count": 114,
   "metadata": {
    "id": "05IC3bo4CL2E",
    "pycharm": {
     "name": "#%%\n"
    }
   },
   "outputs": [
    {
     "name": "stderr",
     "output_type": "stream",
     "text": [
      "[Stage 243:=====================================>               (143 + 1) / 200]\r"
     ]
    },
    {
     "name": "stdout",
     "output_type": "stream",
     "text": [
      "Han transcurrido 18.13 segundos de ejecución.\n",
      "Cantidad de datos procesados: 782436\n",
      "Velocidad de procesamiento: 43156.98 registros/s\n"
     ]
    },
    {
     "name": "stderr",
     "output_type": "stream",
     "text": [
      "                                                                                \r"
     ]
    }
   ],
   "source": [
    "result_count , tiempo_ejecucion , velocidad_ejecucion =  calcularRendimiento(temp_results, cant_datos)\n",
    "interpretar_rendimiento(tiempo_ejecucion , velocidad_ejecucion, cant_datos)"
   ]
  },
  {
   "cell_type": "code",
   "execution_count": 115,
   "metadata": {
    "id": "AmiX4JgWCSu7",
    "pycharm": {
     "name": "#%%\n"
    }
   },
   "outputs": [
    {
     "name": "stderr",
     "output_type": "stream",
     "text": [
      "                                                                                \r"
     ]
    },
    {
     "data": {
      "text/plain": "   passenger_count  avg(tip_amount)\n0              1.0         2.323302\n1              2.0         2.316298\n2              3.0         2.231422\n3              4.0         2.127096\n4              5.0         2.341068\n5              6.0         2.365835\n6              7.0         4.000000\n7              9.0         0.000000",
      "text/html": "<div>\n<style scoped>\n    .dataframe tbody tr th:only-of-type {\n        vertical-align: middle;\n    }\n\n    .dataframe tbody tr th {\n        vertical-align: top;\n    }\n\n    .dataframe thead th {\n        text-align: right;\n    }\n</style>\n<table border=\"1\" class=\"dataframe\">\n  <thead>\n    <tr style=\"text-align: right;\">\n      <th></th>\n      <th>passenger_count</th>\n      <th>avg(tip_amount)</th>\n    </tr>\n  </thead>\n  <tbody>\n    <tr>\n      <th>0</th>\n      <td>1.0</td>\n      <td>2.323302</td>\n    </tr>\n    <tr>\n      <th>1</th>\n      <td>2.0</td>\n      <td>2.316298</td>\n    </tr>\n    <tr>\n      <th>2</th>\n      <td>3.0</td>\n      <td>2.231422</td>\n    </tr>\n    <tr>\n      <th>3</th>\n      <td>4.0</td>\n      <td>2.127096</td>\n    </tr>\n    <tr>\n      <th>4</th>\n      <td>5.0</td>\n      <td>2.341068</td>\n    </tr>\n    <tr>\n      <th>5</th>\n      <td>6.0</td>\n      <td>2.365835</td>\n    </tr>\n    <tr>\n      <th>6</th>\n      <td>7.0</td>\n      <td>4.000000</td>\n    </tr>\n    <tr>\n      <th>7</th>\n      <td>9.0</td>\n      <td>0.000000</td>\n    </tr>\n  </tbody>\n</table>\n</div>"
     },
     "execution_count": 115,
     "metadata": {},
     "output_type": "execute_result"
    }
   ],
   "source": [
    "mostar_resultados_sql_df(temp_results)"
   ]
  },
  {
   "cell_type": "code",
   "source": [
    "temp_res = {\n",
    "    \"sql\": {\"count\": result_count,\n",
    "            \"tiempo\": tiempo_ejecucion,\n",
    "            \"velocidad\": velocidad_ejecucion\n",
    "           }\n",
    "}\n",
    "results[\"3\"].update(temp_res)\n",
    "results"
   ],
   "metadata": {
    "id": "i5obWVi0KmZw",
    "pycharm": {
     "name": "#%%\n"
    }
   },
   "execution_count": 116,
   "outputs": [
    {
     "data": {
      "text/plain": "{'1': {'rdd': {'count': 782436, 'tiempo': 29.394, 'velocidad': 26618.9},\n  'df': {'count': 782436, 'tiempo': 17.753, 'velocidad': 44073.45}},\n '2': {'sql': {'count': 12994, 'tiempo': 19.415, 'velocidad': 40300.59},\n  'rdd': {'count': 12994, 'tiempo': 20.343, 'velocidad': 38462.17}},\n '3': {'sql': {'count': 8, 'tiempo': 18.13, 'velocidad': 43156.98}}}"
     },
     "execution_count": 116,
     "metadata": {},
     "output_type": "execute_result"
    }
   ]
  },
  {
   "cell_type": "markdown",
   "metadata": {
    "id": "-lfYHU5XRgeT",
    "pycharm": {
     "name": "#%% md\n"
    }
   },
   "source": [
    "##### **RDD**\n"
   ]
  },
  {
   "cell_type": "markdown",
   "metadata": {
    "id": "EpjiUbcea6iw",
    "pycharm": {
     "name": "#%% md\n"
    }
   },
   "source": [
    "Para obtener el resultado deseado mediante RDD Se usarán las funciones de transformación map y reduceByKey mediante cual se asignará a cada clave (Passenger_count) el valor de la propina media que le corresponde a cada una."
   ]
  },
  {
   "cell_type": "code",
   "execution_count": 117,
   "metadata": {
    "id": "fHvt8dfALlIu",
    "pycharm": {
     "name": "#%%\n"
    }
   },
   "outputs": [],
   "source": [
    "temp_results = df_data_j.rdd.map(lambda x: (x.passenger_count, (x.tip_amount, 1))) \\\n",
    "                       .reduceByKey(lambda x, y: (x[0]+y[0], x[1]+y[1])) \\\n",
    "                       .map(lambda x: (x[0], x[1][0] / x[1][1]))"
   ]
  },
  {
   "cell_type": "markdown",
   "source": [
    "Rendimiento:"
   ],
   "metadata": {
    "id": "FFt_t-g7Sm2u",
    "pycharm": {
     "name": "#%% md\n"
    }
   }
  },
  {
   "cell_type": "code",
   "execution_count": 118,
   "metadata": {
    "id": "FPB00djEDlDU",
    "pycharm": {
     "name": "#%%\n"
    }
   },
   "outputs": [
    {
     "name": "stderr",
     "output_type": "stream",
     "text": [
      "[Stage 255:====================================================>(198 + 1) / 200]\r"
     ]
    },
    {
     "name": "stdout",
     "output_type": "stream",
     "text": [
      "Han transcurrido 21.86 segundos de ejecución.\n",
      "Cantidad de datos procesados: 782436\n",
      "Velocidad de procesamiento: 35793.05 registros/s\n"
     ]
    },
    {
     "name": "stderr",
     "output_type": "stream",
     "text": [
      "                                                                                \r"
     ]
    }
   ],
   "source": [
    "result_count, tiempo_ejecucion, velocidad_ejecucion =  calcularRendimiento(temp_results, cant_datos)\n",
    "interpretar_rendimiento(tiempo_ejecucion, velocidad_ejecucion, cant_datos)"
   ]
  },
  {
   "cell_type": "code",
   "execution_count": 119,
   "metadata": {
    "id": "ZK0M_uvLDqaW",
    "pycharm": {
     "name": "#%%\n"
    }
   },
   "outputs": [
    {
     "name": "stderr",
     "output_type": "stream",
     "text": [
      "                                                                                \r"
     ]
    },
    {
     "data": {
      "text/plain": "<pandas.io.formats.style.Styler at 0x7fd2b42cba60>",
      "text/html": "<style type=\"text/css\">\n</style>\n<table id=\"T_19664\">\n  <thead>\n    <tr>\n      <th class=\"blank level0\" >&nbsp;</th>\n      <th id=\"T_19664_level0_col0\" class=\"col_heading level0 col0\" >Número de pasajeros</th>\n      <th id=\"T_19664_level0_col1\" class=\"col_heading level0 col1\" >Propina media</th>\n    </tr>\n  </thead>\n  <tbody>\n    <tr>\n      <th id=\"T_19664_level0_row0\" class=\"row_heading level0 row0\" >0</th>\n      <td id=\"T_19664_row0_col0\" class=\"data row0 col0\" >1.000000</td>\n      <td id=\"T_19664_row0_col1\" class=\"data row0 col1\" >2.323302</td>\n    </tr>\n    <tr>\n      <th id=\"T_19664_level0_row1\" class=\"row_heading level0 row1\" >1</th>\n      <td id=\"T_19664_row1_col0\" class=\"data row1 col0\" >2.000000</td>\n      <td id=\"T_19664_row1_col1\" class=\"data row1 col1\" >2.316298</td>\n    </tr>\n    <tr>\n      <th id=\"T_19664_level0_row2\" class=\"row_heading level0 row2\" >2</th>\n      <td id=\"T_19664_row2_col0\" class=\"data row2 col0\" >3.000000</td>\n      <td id=\"T_19664_row2_col1\" class=\"data row2 col1\" >2.231422</td>\n    </tr>\n    <tr>\n      <th id=\"T_19664_level0_row3\" class=\"row_heading level0 row3\" >3</th>\n      <td id=\"T_19664_row3_col0\" class=\"data row3 col0\" >4.000000</td>\n      <td id=\"T_19664_row3_col1\" class=\"data row3 col1\" >2.127096</td>\n    </tr>\n    <tr>\n      <th id=\"T_19664_level0_row4\" class=\"row_heading level0 row4\" >4</th>\n      <td id=\"T_19664_row4_col0\" class=\"data row4 col0\" >5.000000</td>\n      <td id=\"T_19664_row4_col1\" class=\"data row4 col1\" >2.341068</td>\n    </tr>\n    <tr>\n      <th id=\"T_19664_level0_row5\" class=\"row_heading level0 row5\" >5</th>\n      <td id=\"T_19664_row5_col0\" class=\"data row5 col0\" >6.000000</td>\n      <td id=\"T_19664_row5_col1\" class=\"data row5 col1\" >2.365835</td>\n    </tr>\n    <tr>\n      <th id=\"T_19664_level0_row6\" class=\"row_heading level0 row6\" >6</th>\n      <td id=\"T_19664_row6_col0\" class=\"data row6 col0\" >7.000000</td>\n      <td id=\"T_19664_row6_col1\" class=\"data row6 col1\" >4.000000</td>\n    </tr>\n    <tr>\n      <th id=\"T_19664_level0_row7\" class=\"row_heading level0 row7\" >7</th>\n      <td id=\"T_19664_row7_col0\" class=\"data row7 col0\" >9.000000</td>\n      <td id=\"T_19664_row7_col1\" class=\"data row7 col1\" >0.000000</td>\n    </tr>\n  </tbody>\n</table>\n"
     },
     "execution_count": 119,
     "metadata": {},
     "output_type": "execute_result"
    }
   ],
   "source": [
    "mostrar_resultados_rdd(temp_results,['Número de pasajeros', 'Propina media'])"
   ]
  },
  {
   "cell_type": "code",
   "source": [
    "temp_res = {\n",
    "    \"rdd\": {\"count\": result_count,\n",
    "            \"tiempo\": tiempo_ejecucion,\n",
    "            \"velocidad\": velocidad_ejecucion\n",
    "           }\n",
    "}\n",
    "results[\"3\"].update(temp_res)\n",
    "results"
   ],
   "metadata": {
    "id": "gpB-AcE2KpvB",
    "pycharm": {
     "name": "#%%\n"
    }
   },
   "execution_count": 120,
   "outputs": [
    {
     "data": {
      "text/plain": "{'1': {'rdd': {'count': 782436, 'tiempo': 29.394, 'velocidad': 26618.9},\n  'df': {'count': 782436, 'tiempo': 17.753, 'velocidad': 44073.45}},\n '2': {'sql': {'count': 12994, 'tiempo': 19.415, 'velocidad': 40300.59},\n  'rdd': {'count': 12994, 'tiempo': 20.343, 'velocidad': 38462.17}},\n '3': {'sql': {'count': 8, 'tiempo': 18.13, 'velocidad': 43156.98},\n  'rdd': {'count': 8, 'tiempo': 21.86, 'velocidad': 35793.05}}}"
     },
     "execution_count": 120,
     "metadata": {},
     "output_type": "execute_result"
    }
   ]
  },
  {
   "cell_type": "markdown",
   "metadata": {
    "id": "e631IxM0RnZk",
    "pycharm": {
     "name": "#%% md\n"
    }
   },
   "source": [
    "##### **DataFrame**\n"
   ]
  },
  {
   "cell_type": "markdown",
   "metadata": {
    "id": "ETdiPqawa6iv",
    "pycharm": {
     "name": "#%% md\n"
    }
   },
   "source": [
    "El resultado se obtiene aplicando una agrupación por el campo \"passenger_count\", donde con el resultado obtenido se realiza una agregación por \"tip_amount\" (propina) y se ordena ascendentemente por el número de pasajeros."
   ]
  },
  {
   "cell_type": "code",
   "execution_count": 121,
   "metadata": {
    "id": "YPaJyoltRl-Z",
    "pycharm": {
     "name": "#%%\n"
    }
   },
   "outputs": [],
   "source": [
    "temp_results = df_data_j.groupBy(\"passenger_count\") \\\n",
    "                    .agg(F.mean('tip_amount')) \\\n",
    "                   .orderBy('passenger_count')\n",
    "# .agg(F.mean('tip_amount'), F.min('tip_amount'), F.max('tip_amount')) \\"
   ]
  },
  {
   "cell_type": "markdown",
   "source": [
    "Rendimiento:"
   ],
   "metadata": {
    "id": "uz0GwXaATWtB",
    "pycharm": {
     "name": "#%% md\n"
    }
   }
  },
  {
   "cell_type": "code",
   "execution_count": 122,
   "metadata": {
    "id": "RdM3bgqjCvqG",
    "pycharm": {
     "name": "#%%\n"
    }
   },
   "outputs": [
    {
     "name": "stderr",
     "output_type": "stream",
     "text": [
      "[Stage 294:===================================================> (196 + 1) / 200]\r"
     ]
    },
    {
     "name": "stdout",
     "output_type": "stream",
     "text": [
      "Han transcurrido 18.523 segundos de ejecución.\n",
      "Cantidad de datos procesados: 782436\n",
      "Velocidad de procesamiento: 42241.32 registros/s\n"
     ]
    },
    {
     "name": "stderr",
     "output_type": "stream",
     "text": [
      "                                                                                \r"
     ]
    }
   ],
   "source": [
    "result_count, tiempo_ejecucion, velocidad_ejecucion =  calcularRendimiento(temp_results, cant_datos)\n",
    "interpretar_rendimiento(tiempo_ejecucion, velocidad_ejecucion, cant_datos)"
   ]
  },
  {
   "cell_type": "code",
   "execution_count": 123,
   "metadata": {
    "id": "qYSXD3osC_s5",
    "pycharm": {
     "name": "#%%\n"
    }
   },
   "outputs": [
    {
     "name": "stderr",
     "output_type": "stream",
     "text": [
      "                                                                                \r"
     ]
    },
    {
     "data": {
      "text/plain": "   passenger_count  avg(tip_amount)\n0              1.0         2.323302\n1              2.0         2.316298\n2              3.0         2.231422\n3              4.0         2.127096\n4              5.0         2.341068\n5              6.0         2.365835\n6              7.0         4.000000\n7              9.0         0.000000",
      "text/html": "<div>\n<style scoped>\n    .dataframe tbody tr th:only-of-type {\n        vertical-align: middle;\n    }\n\n    .dataframe tbody tr th {\n        vertical-align: top;\n    }\n\n    .dataframe thead th {\n        text-align: right;\n    }\n</style>\n<table border=\"1\" class=\"dataframe\">\n  <thead>\n    <tr style=\"text-align: right;\">\n      <th></th>\n      <th>passenger_count</th>\n      <th>avg(tip_amount)</th>\n    </tr>\n  </thead>\n  <tbody>\n    <tr>\n      <th>0</th>\n      <td>1.0</td>\n      <td>2.323302</td>\n    </tr>\n    <tr>\n      <th>1</th>\n      <td>2.0</td>\n      <td>2.316298</td>\n    </tr>\n    <tr>\n      <th>2</th>\n      <td>3.0</td>\n      <td>2.231422</td>\n    </tr>\n    <tr>\n      <th>3</th>\n      <td>4.0</td>\n      <td>2.127096</td>\n    </tr>\n    <tr>\n      <th>4</th>\n      <td>5.0</td>\n      <td>2.341068</td>\n    </tr>\n    <tr>\n      <th>5</th>\n      <td>6.0</td>\n      <td>2.365835</td>\n    </tr>\n    <tr>\n      <th>6</th>\n      <td>7.0</td>\n      <td>4.000000</td>\n    </tr>\n    <tr>\n      <th>7</th>\n      <td>9.0</td>\n      <td>0.000000</td>\n    </tr>\n  </tbody>\n</table>\n</div>"
     },
     "execution_count": 123,
     "metadata": {},
     "output_type": "execute_result"
    }
   ],
   "source": [
    "mostar_resultados_sql_df(temp_results)"
   ]
  },
  {
   "cell_type": "code",
   "source": [
    "temp_res = {\n",
    "    \"df\": {\"count\": result_count,\n",
    "            \"tiempo\": tiempo_ejecucion,\n",
    "            \"velocidad\": velocidad_ejecucion\n",
    "           }\n",
    "}\n",
    "results[\"3\"].update(temp_res)\n",
    "results"
   ],
   "metadata": {
    "id": "XYRaV0VIKzYt",
    "pycharm": {
     "name": "#%%\n"
    }
   },
   "execution_count": 124,
   "outputs": [
    {
     "data": {
      "text/plain": "{'1': {'rdd': {'count': 782436, 'tiempo': 29.394, 'velocidad': 26618.9},\n  'df': {'count': 782436, 'tiempo': 17.753, 'velocidad': 44073.45}},\n '2': {'sql': {'count': 12994, 'tiempo': 19.415, 'velocidad': 40300.59},\n  'rdd': {'count': 12994, 'tiempo': 20.343, 'velocidad': 38462.17}},\n '3': {'sql': {'count': 8, 'tiempo': 18.13, 'velocidad': 43156.98},\n  'rdd': {'count': 8, 'tiempo': 21.86, 'velocidad': 35793.05},\n  'df': {'count': 8, 'tiempo': 18.523, 'velocidad': 42241.32}}}"
     },
     "execution_count": 124,
     "metadata": {},
     "output_type": "execute_result"
    }
   ]
  },
  {
   "cell_type": "markdown",
   "source": [
    "## Guardando los resultados"
   ],
   "metadata": {
    "id": "83Uo9FecjzHQ",
    "pycharm": {
     "name": "#%% md\n"
    }
   }
  },
  {
   "cell_type": "code",
   "execution_count": 125,
   "outputs": [
    {
     "data": {
      "text/plain": "{'1': {'rdd': {'count': 782436, 'tiempo': 29.394, 'velocidad': 26618.9},\n  'df': {'count': 782436, 'tiempo': 17.753, 'velocidad': 44073.45}},\n '2': {'sql': {'count': 12994, 'tiempo': 19.415, 'velocidad': 40300.59},\n  'rdd': {'count': 12994, 'tiempo': 20.343, 'velocidad': 38462.17}},\n '3': {'sql': {'count': 8, 'tiempo': 18.13, 'velocidad': 43156.98},\n  'rdd': {'count': 8, 'tiempo': 21.86, 'velocidad': 35793.05},\n  'df': {'count': 8, 'tiempo': 18.523, 'velocidad': 42241.32}}}"
     },
     "execution_count": 125,
     "metadata": {},
     "output_type": "execute_result"
    }
   ],
   "source": [
    "results"
   ],
   "metadata": {
    "collapsed": false,
    "pycharm": {
     "name": "#%%\n"
    }
   }
  },
  {
   "cell_type": "markdown",
   "source": [
    "## Comparando las gráficas de los resultados"
   ],
   "metadata": {
    "collapsed": false,
    "pycharm": {
     "name": "#%% md\n"
    }
   }
  },
  {
   "cell_type": "code",
   "execution_count": 126,
   "outputs": [
    {
     "data": {
      "text/plain": "      num_consulta method   count  tiempo  velocidad\nid                                                  \n1_rdd            1    rdd  782436  29.394   26618.90\n1_df             1     df  782436  17.753   44073.45\n2_sql            2    sql   12994  19.415   40300.59\n2_rdd            2    rdd   12994  20.343   38462.17\n3_sql            3    sql       8  18.130   43156.98\n3_rdd            3    rdd       8  21.860   35793.05\n3_df             3     df       8  18.523   42241.32",
      "text/html": "<div>\n<style scoped>\n    .dataframe tbody tr th:only-of-type {\n        vertical-align: middle;\n    }\n\n    .dataframe tbody tr th {\n        vertical-align: top;\n    }\n\n    .dataframe thead th {\n        text-align: right;\n    }\n</style>\n<table border=\"1\" class=\"dataframe\">\n  <thead>\n    <tr style=\"text-align: right;\">\n      <th></th>\n      <th>num_consulta</th>\n      <th>method</th>\n      <th>count</th>\n      <th>tiempo</th>\n      <th>velocidad</th>\n    </tr>\n    <tr>\n      <th>id</th>\n      <th></th>\n      <th></th>\n      <th></th>\n      <th></th>\n      <th></th>\n    </tr>\n  </thead>\n  <tbody>\n    <tr>\n      <th>1_rdd</th>\n      <td>1</td>\n      <td>rdd</td>\n      <td>782436</td>\n      <td>29.394</td>\n      <td>26618.90</td>\n    </tr>\n    <tr>\n      <th>1_df</th>\n      <td>1</td>\n      <td>df</td>\n      <td>782436</td>\n      <td>17.753</td>\n      <td>44073.45</td>\n    </tr>\n    <tr>\n      <th>2_sql</th>\n      <td>2</td>\n      <td>sql</td>\n      <td>12994</td>\n      <td>19.415</td>\n      <td>40300.59</td>\n    </tr>\n    <tr>\n      <th>2_rdd</th>\n      <td>2</td>\n      <td>rdd</td>\n      <td>12994</td>\n      <td>20.343</td>\n      <td>38462.17</td>\n    </tr>\n    <tr>\n      <th>3_sql</th>\n      <td>3</td>\n      <td>sql</td>\n      <td>8</td>\n      <td>18.130</td>\n      <td>43156.98</td>\n    </tr>\n    <tr>\n      <th>3_rdd</th>\n      <td>3</td>\n      <td>rdd</td>\n      <td>8</td>\n      <td>21.860</td>\n      <td>35793.05</td>\n    </tr>\n    <tr>\n      <th>3_df</th>\n      <td>3</td>\n      <td>df</td>\n      <td>8</td>\n      <td>18.523</td>\n      <td>42241.32</td>\n    </tr>\n  </tbody>\n</table>\n</div>"
     },
     "execution_count": 126,
     "metadata": {},
     "output_type": "execute_result"
    }
   ],
   "source": [
    "normalized = pd.json_normalize(results).to_dict(orient='records')\n",
    "records = []\n",
    "for num_consulta, v in results.items():\n",
    "    for method, v2 in v.items():\n",
    "        records.append([f\"{num_consulta}_{method}\", num_consulta, method, v2[\"count\"], v2[\"tiempo\"], v2[\"velocidad\"]])\n",
    "results_df = pd.DataFrame(records, columns=[\"id\", \"num_consulta\", \"method\", \"count\", \"tiempo\", \"velocidad\"])\n",
    "results_df.set_index(\"id\", inplace=True)\n",
    "results_df"
   ],
   "metadata": {
    "collapsed": false,
    "pycharm": {
     "name": "#%%\n"
    }
   }
  },
  {
   "cell_type": "code",
   "source": [
    "results_df.to_csv(f'final_results/final_result_{num_cores}_{sample_prop}.csv', sep=';')"
   ],
   "metadata": {
    "id": "w7hfZte_Q8Rh",
    "pycharm": {
     "name": "#%%\n"
    }
   },
   "execution_count": 127,
   "outputs": []
  },
  {
   "cell_type": "markdown",
   "source": [
    "## Gráficas"
   ],
   "metadata": {
    "id": "g4G2v9QDj3gS",
    "pycharm": {
     "name": "#%% md\n"
    }
   }
  },
  {
   "cell_type": "code",
   "execution_count": 3,
   "outputs": [
    {
     "data": {
      "text/plain": "        id  num_consulta method   count  tiempo   velocidad  n_cores  s_prop\n0    1_rdd             1    rdd  312790  17.410    17966.11        1    0.10\n1     1_df             1     df  312790   8.024    38981.80        1    0.10\n2    2_sql             2    sql    9557   9.727    32156.88        1    0.10\n3    2_rdd             2    rdd    9557  19.882    15732.32        1    0.10\n4    3_sql             3    sql       6   9.078    34455.83        1    0.10\n..     ...           ...    ...     ...     ...         ...      ...     ...\n443  2_sql             2    sql   18395  45.539    51549.57       16    0.75\n444  2_rdd             2    rdd   18395   2.046  1147368.52       16    0.75\n445  3_sql             3    sql       8  45.031    52131.11       16    0.75\n446  3_rdd             3    rdd       8   7.502   312918.69       16    0.75\n447   3_df             3     df       8  45.198    51938.49       16    0.75\n\n[448 rows x 8 columns]",
      "text/html": "<div>\n<style scoped>\n    .dataframe tbody tr th:only-of-type {\n        vertical-align: middle;\n    }\n\n    .dataframe tbody tr th {\n        vertical-align: top;\n    }\n\n    .dataframe thead th {\n        text-align: right;\n    }\n</style>\n<table border=\"1\" class=\"dataframe\">\n  <thead>\n    <tr style=\"text-align: right;\">\n      <th></th>\n      <th>id</th>\n      <th>num_consulta</th>\n      <th>method</th>\n      <th>count</th>\n      <th>tiempo</th>\n      <th>velocidad</th>\n      <th>n_cores</th>\n      <th>s_prop</th>\n    </tr>\n  </thead>\n  <tbody>\n    <tr>\n      <th>0</th>\n      <td>1_rdd</td>\n      <td>1</td>\n      <td>rdd</td>\n      <td>312790</td>\n      <td>17.410</td>\n      <td>17966.11</td>\n      <td>1</td>\n      <td>0.10</td>\n    </tr>\n    <tr>\n      <th>1</th>\n      <td>1_df</td>\n      <td>1</td>\n      <td>df</td>\n      <td>312790</td>\n      <td>8.024</td>\n      <td>38981.80</td>\n      <td>1</td>\n      <td>0.10</td>\n    </tr>\n    <tr>\n      <th>2</th>\n      <td>2_sql</td>\n      <td>2</td>\n      <td>sql</td>\n      <td>9557</td>\n      <td>9.727</td>\n      <td>32156.88</td>\n      <td>1</td>\n      <td>0.10</td>\n    </tr>\n    <tr>\n      <th>3</th>\n      <td>2_rdd</td>\n      <td>2</td>\n      <td>rdd</td>\n      <td>9557</td>\n      <td>19.882</td>\n      <td>15732.32</td>\n      <td>1</td>\n      <td>0.10</td>\n    </tr>\n    <tr>\n      <th>4</th>\n      <td>3_sql</td>\n      <td>3</td>\n      <td>sql</td>\n      <td>6</td>\n      <td>9.078</td>\n      <td>34455.83</td>\n      <td>1</td>\n      <td>0.10</td>\n    </tr>\n    <tr>\n      <th>...</th>\n      <td>...</td>\n      <td>...</td>\n      <td>...</td>\n      <td>...</td>\n      <td>...</td>\n      <td>...</td>\n      <td>...</td>\n      <td>...</td>\n    </tr>\n    <tr>\n      <th>443</th>\n      <td>2_sql</td>\n      <td>2</td>\n      <td>sql</td>\n      <td>18395</td>\n      <td>45.539</td>\n      <td>51549.57</td>\n      <td>16</td>\n      <td>0.75</td>\n    </tr>\n    <tr>\n      <th>444</th>\n      <td>2_rdd</td>\n      <td>2</td>\n      <td>rdd</td>\n      <td>18395</td>\n      <td>2.046</td>\n      <td>1147368.52</td>\n      <td>16</td>\n      <td>0.75</td>\n    </tr>\n    <tr>\n      <th>445</th>\n      <td>3_sql</td>\n      <td>3</td>\n      <td>sql</td>\n      <td>8</td>\n      <td>45.031</td>\n      <td>52131.11</td>\n      <td>16</td>\n      <td>0.75</td>\n    </tr>\n    <tr>\n      <th>446</th>\n      <td>3_rdd</td>\n      <td>3</td>\n      <td>rdd</td>\n      <td>8</td>\n      <td>7.502</td>\n      <td>312918.69</td>\n      <td>16</td>\n      <td>0.75</td>\n    </tr>\n    <tr>\n      <th>447</th>\n      <td>3_df</td>\n      <td>3</td>\n      <td>df</td>\n      <td>8</td>\n      <td>45.198</td>\n      <td>51938.49</td>\n      <td>16</td>\n      <td>0.75</td>\n    </tr>\n  </tbody>\n</table>\n<p>448 rows × 8 columns</p>\n</div>"
     },
     "execution_count": 3,
     "metadata": {},
     "output_type": "execute_result"
    }
   ],
   "source": [
    "partial_final_result_df_list = []\n",
    "\n",
    "for n_cores in range(1, 17):\n",
    "    for s_prop in [0.1, 0.25, 0.5, 0.75]:\n",
    "        partial_final_result_df = pd.read_csv(f\"final_results/final_result_{n_cores}_{s_prop}.csv\", sep=\";\")\n",
    "        partial_final_result_df[\"n_cores\"] = n_cores\n",
    "        partial_final_result_df[\"s_prop\"] = s_prop\n",
    "        partial_final_result_df_list.append(partial_final_result_df)\n",
    "\n",
    "\n",
    "final_results_df = pd.concat(partial_final_result_df_list).reset_index(drop=True)\n",
    "final_results_df"
   ],
   "metadata": {
    "collapsed": false,
    "pycharm": {
     "name": "#%%\n"
    }
   }
  },
  {
   "cell_type": "code",
   "execution_count": 51,
   "outputs": [
    {
     "data": {
      "text/plain": "<Figure size 640x480 with 1 Axes>",
      "image/png": "[encoded data removed]"
     },
     "metadata": {},
     "output_type": "display_data"
    }
   ],
   "source": [
    "n = 1\n",
    "y_axis = \"tiempo\"\n",
    "ax = sns.scatterplot(final_results_df[final_results_df[\"num_consulta\"] == n], x=\"n_cores\", y=y_axis, hue=\"s_prop\", style=\"method\", palette=\"tab10\")\n",
    "ax.set_title(f\"Consulta {n} - {y_axis}\")\n",
    "sns.move_legend(ax, \"upper left\", bbox_to_anchor=(1, 1))"
   ],
   "metadata": {
    "collapsed": false,
    "pycharm": {
     "name": "#%%\n"
    }
   }
  },
  {
   "cell_type": "code",
   "execution_count": 52,
   "outputs": [
    {
     "data": {
      "text/plain": "<Figure size 640x480 with 1 Axes>",
      "image/png": "[encoded data removed]"
     },
     "metadata": {},
     "output_type": "display_data"
    }
   ],
   "source": [
    "n = 1\n",
    "y_axis = \"velocidad\"\n",
    "ax = sns.scatterplot(final_results_df[final_results_df[\"num_consulta\"] == n], x=\"n_cores\", y=y_axis, hue=\"s_prop\", style=\"method\", palette=\"tab10\")\n",
    "ax.set_title(f\"Consulta {n} - {y_axis}\")\n",
    "sns.move_legend(ax, \"upper left\", bbox_to_anchor=(1, 1))"
   ],
   "metadata": {
    "collapsed": false,
    "pycharm": {
     "name": "#%%\n"
    }
   }
  },
  {
   "cell_type": "code",
   "execution_count": 53,
   "outputs": [
    {
     "data": {
      "text/plain": "<Figure size 640x480 with 1 Axes>",
      "image/png": "[encoded data removed]"
     },
     "metadata": {},
     "output_type": "display_data"
    }
   ],
   "source": [
    "n = 2\n",
    "y_axis = \"tiempo\"\n",
    "ax = sns.scatterplot(final_results_df[final_results_df[\"num_consulta\"] == n], x=\"n_cores\", y=y_axis, hue=\"s_prop\", style=\"method\", palette=\"tab10\")\n",
    "ax.set_title(f\"Consulta {n} - {y_axis}\")\n",
    "sns.move_legend(ax, \"upper left\", bbox_to_anchor=(1, 1))"
   ],
   "metadata": {
    "collapsed": false,
    "pycharm": {
     "name": "#%%\n"
    }
   }
  },
  {
   "cell_type": "code",
   "execution_count": 54,
   "outputs": [
    {
     "data": {
      "text/plain": "<Figure size 640x480 with 1 Axes>",
      "image/png": "[encoded data removed]"
     },
     "metadata": {},
     "output_type": "display_data"
    }
   ],
   "source": [
    "n = 2\n",
    "y_axis = \"velocidad\"\n",
    "ax = sns.scatterplot(final_results_df[final_results_df[\"num_consulta\"] == n], x=\"n_cores\", y=y_axis, hue=\"s_prop\", style=\"method\", palette=\"tab10\")\n",
    "ax.set_title(f\"Consulta {n} - {y_axis}\")\n",
    "sns.move_legend(ax, \"upper left\", bbox_to_anchor=(1, 1))"
   ],
   "metadata": {
    "collapsed": false,
    "pycharm": {
     "name": "#%%\n"
    }
   }
  },
  {
   "cell_type": "code",
   "execution_count": 55,
   "outputs": [
    {
     "data": {
      "text/plain": "<Figure size 640x480 with 1 Axes>",
      "image/png": "[encoded data removed]"
     },
     "metadata": {},
     "output_type": "display_data"
    }
   ],
   "source": [
    "n = 3\n",
    "y_axis = \"tiempo\"\n",
    "ax = sns.scatterplot(final_results_df[final_results_df[\"num_consulta\"] == n], x=\"n_cores\", y=y_axis, hue=\"s_prop\", style=\"method\", palette=\"tab10\")\n",
    "ax.set_title(f\"Consulta {n} - {y_axis}\")\n",
    "sns.move_legend(ax, \"upper left\", bbox_to_anchor=(1, 1))"
   ],
   "metadata": {
    "collapsed": false,
    "pycharm": {
     "name": "#%%\n"
    }
   }
  },
  {
   "cell_type": "code",
   "execution_count": 56,
   "outputs": [
    {
     "data": {
      "text/plain": "<Figure size 640x480 with 1 Axes>",
      "image/png": "[encoded data removed]"
     },
     "metadata": {},
     "output_type": "display_data"
    }
   ],
   "source": [
    "n = 3\n",
    "y_axis = \"velocidad\"\n",
    "ax = sns.scatterplot(final_results_df[final_results_df[\"num_consulta\"] == n], x=\"n_cores\", y=y_axis, hue=\"s_prop\", style=\"method\", palette=\"tab10\")\n",
    "ax.set_title(f\"Consulta {n} - {y_axis}\")\n",
    "sns.move_legend(ax, \"upper left\", bbox_to_anchor=(1, 1))"
   ],
   "metadata": {
    "collapsed": false,
    "pycharm": {
     "name": "#%%\n"
    }
   }
  }
 ],
 "metadata": {
  "colab": {
   "provenance": [],
   "collapsed_sections": []
  },
  "kernelspec": {
   "display_name": "Python 3",
   "name": "python3"
  },
  "language_info": {
   "name": "python"
  }
 },
 "nbformat": 4,
 "nbformat_minor": 0
}