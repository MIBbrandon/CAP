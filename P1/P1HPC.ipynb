{
 "cells": [
  {
   "cell_type": "markdown",
   "metadata": {
    "id": "3cMDcQXTa6iU"
   },
   "source": [
    "# COMPUTACIÓN DE ALTAS PRESTACIONES\n",
    "## Práctica #1 - Procesamiento de datos mediante Apache Spark"
   ]
  },
  {
   "cell_type": "markdown",
   "metadata": {
    "id": "nXvDfq3Aa6iV"
   },
   "source": [
    "* Martha María Del Toro Carballo       100486134@alumnos.uc3m.es\n",
    "* Brandon Solo                         100405959@alumnos.uc3m.es\n",
    "* Manuel Santiago Férnandez Arias      manuefer@inf.uc3m.es"
   ]
  },
  {
   "cell_type": "markdown",
   "metadata": {
    "id": "tnjqBvm0a6iY"
   },
   "source": [
    "### Inicializando Spark"
   ]
  },
  {
   "cell_type": "code",
   "execution_count": 1,
   "metadata": {
    "id": "yMuKMbpm9tlL",
    "colab": {
     "base_uri": "https://localhost:8080/"
    },
    "outputId": "f277f4f7-9e7e-4cf7-a8f7-d94e5e837f06"
   },
   "outputs": [],
   "source": [
    "# !apt-get update\n",
    "# !apt-get install openjdk-8-jdk-headless -qq > /dev/null\n",
    "# !wget -q https://dlcdn.apache.org/spark/spark-3.1.3/spark-3.1.3-bin-hadoop3.2.tgz\n",
    "# !tar xf spark-3.1.3-bin-hadoop3.2.tgz\n",
    "# !pip install -q findspark"
   ]
  },
  {
   "cell_type": "code",
   "source": [
    "import seaborn as sns"
   ],
   "metadata": {
    "id": "DrCVV9xElbeu"
   },
   "execution_count": 2,
   "outputs": []
  },
  {
   "cell_type": "code",
   "execution_count": 3,
   "metadata": {
    "id": "F5ZR4kqO92UH"
   },
   "outputs": [],
   "source": [
    "import os\n",
    "# os.environ[\"JAVA_HOME\"] = \"/usr/lib/jvm/java-8-openjdk-amd64\"\n",
    "# os.environ[\"SPARK_HOME\"] = \"/content/spark-3.1.3-bin-hadoop3.2\""
   ]
  },
  {
   "cell_type": "code",
   "execution_count": 4,
   "metadata": {
    "id": "3EtTb2-r94BI"
   },
   "outputs": [],
   "source": [
    "import findspark\n",
    "findspark.init()"
   ]
  },
  {
   "cell_type": "code",
   "source": [
    "num_cores = 1"
   ],
   "metadata": {
    "id": "LF4M6LEmS1iW"
   },
   "execution_count": 5,
   "outputs": []
  },
  {
   "cell_type": "code",
   "execution_count": 6,
   "metadata": {
    "colab": {
     "base_uri": "https://localhost:8080/",
     "height": 219
    },
    "id": "EcUvT_eEiLv2",
    "outputId": "18f1bbc4-e1f8-47e0-f10d-be63621446ef"
   },
   "outputs": [
    {
     "data": {
      "text/plain": "<pyspark.sql.session.SparkSession at 0x1cc0afafeb0>",
      "text/html": "\n            <div>\n                <p><b>SparkSession - in-memory</b></p>\n                \n        <div>\n            <p><b>SparkContext</b></p>\n\n            <p><a href=\"http://LAPTOP-P4ALQAKF:4050\">Spark UI</a></p>\n\n            <dl>\n              <dt>Version</dt>\n                <dd><code>v3.3.1</code></dd>\n              <dt>Master</dt>\n                <dd><code>local[*]</code></dd>\n              <dt>AppName</dt>\n                <dd><code>pyspark-shell</code></dd>\n            </dl>\n        </div>\n        \n            </div>\n        "
     },
     "execution_count": 6,
     "metadata": {},
     "output_type": "execute_result"
    }
   ],
   "source": [
    "from pyspark.sql import SparkSession\n",
    "from pyspark import SparkContext, SparkConf\n",
    "\n",
    "conf = SparkConf().set('spark.ui.port', '4050')\n",
    "sc = SparkContext(conf=conf)\n",
    "spark = SparkSession.builder.master(f'local[{num_cores}]').getOrCreate() \n",
    "\n",
    "spark"
   ]
  },
  {
   "cell_type": "code",
   "execution_count": 7,
   "metadata": {
    "id": "X5YTbeyw_39w",
    "colab": {
     "base_uri": "https://localhost:8080/"
    },
    "outputId": "bb21c3e5-b47b-45ce-e3f4-eb0c3b57f5bd"
   },
   "outputs": [
    {
     "name": "stdout",
     "output_type": "stream",
     "text": [
      "Your runtime has 33.7 gigabytes of available RAM\n",
      "\n"
     ]
    }
   ],
   "source": [
    "from psutil import virtual_memory\n",
    "ram_gb = virtual_memory().total / 1e9\n",
    "print('Your runtime has {:.1f} gigabytes of available RAM\\n'.format(ram_gb))"
   ]
  },
  {
   "cell_type": "markdown",
   "metadata": {
    "id": "WekI31zkUTgC"
   },
   "source": [
    "### Otras librerías a usar"
   ]
  },
  {
   "cell_type": "code",
   "execution_count": 8,
   "metadata": {
    "id": "7JmuP4iuUSbC"
   },
   "outputs": [],
   "source": [
    "from datetime import datetime\n",
    "from time import time\n",
    "import numpy as np\n",
    "from csv import writer\n",
    "import matplotlib.pyplot as plt\n",
    "from operator import add\n",
    "from pyspark.sql import functions as F\n",
    "import os\n",
    "import pandas as pd\n",
    "from operator import add"
   ]
  },
  {
   "cell_type": "markdown",
   "metadata": {
    "id": "5urYUpjWa6ie"
   },
   "source": [
    "### Funciones"
   ]
  },
  {
   "cell_type": "code",
   "execution_count": 9,
   "metadata": {
    "id": "PR2FhlFSa6ie"
   },
   "outputs": [],
   "source": [
    "cant_datos = 0\n",
    "result_count = 0\n",
    "tiempo_ejecucion = 0\n",
    "velocidad_ejecucion = 0\n",
    "\n",
    "def calcularRendimiento(results, cant_datos):\n",
    "    t_0 = time()\n",
    "    result_count = results.count() # Acción\n",
    "    t_1 = time()\n",
    "    tiempo_ejecucion = np.round(t_1 - t_0, 3)\n",
    "    velocidad_ejecucion = round(cant_datos / tiempo_ejecucion, 2)\n",
    "\n",
    "    return result_count , tiempo_ejecucion , velocidad_ejecucion\n",
    "\n",
    "def interpretar_rendimiento(tiempo_ejecucion,velocidad_ejecucion,cant_datos):\n",
    "    print(f'Han transcurrido {tiempo_ejecucion} segundos de ejecución.')\n",
    "    print(f'Cantidad de datos procesados: {cant_datos}')\n",
    "    print(f'Velocidad de procesamiento: {velocidad_ejecucion} registros/s')\n",
    "  \n",
    "def mostrar_grafico(data1, data2, title, cant_datos, legend = ['sql', 'rdd', 'data_frame'], n_cores = 4):\n",
    "    x = [i for i in range(1,n_cores + 1)] # n_cores\n",
    "\n",
    "    plt.figure(1, [14, 5], 150)\n",
    "\n",
    "    plt.subplot(121)\n",
    "    plt.title(title)\n",
    "    plt.ylabel(\"Tiempo de ejecución (seg.)\")\n",
    "    plt.xlabel(\"Número de cores\")\n",
    "    plt.grid(True)\n",
    "    plt.xticks(x)\n",
    "\n",
    "    for y in data1:\n",
    "        plt.plot(x, y)\n",
    "\n",
    "    plt.legend(legend)\n",
    "\n",
    "    plt.subplot(122)\n",
    "    plt.title(\"Cantidad de registros: \" + str(cant_datos))\n",
    "    plt.ylabel(\"Registros procesados por segundo\")\n",
    "    plt.xlabel(\"Número de cores\")\n",
    "    plt.grid(True)\n",
    "    plt.xticks(x)\n",
    "\n",
    "    for y in data2:\n",
    "        plt.plot(x, y)\n",
    "\n",
    "    plt.legend(legend)\n",
    "\n",
    "    plt.show()\n",
    "\n",
    "def mostrar_resultados_rdd(results,columns,nfilas = 10):\n",
    "    df = pd.DataFrame(results.take(nfilas), columns = columns)\n",
    "    return df.style\n",
    "\n",
    "def mostar_resultados_sql_df(results,nfilas = 10):\n",
    "    return results.limit(nfilas).toPandas()\n",
    "\n"
   ]
  },
  {
   "cell_type": "markdown",
   "metadata": {
    "id": "v-IRLtMwcuER"
   },
   "source": [
    "# Obtención de los datos"
   ]
  },
  {
   "cell_type": "code",
   "execution_count": 10,
   "metadata": {
    "id": "oNGI5b8XUvbL"
   },
   "outputs": [],
   "source": [
    "# Datos generales\n",
    "path = \"tripdata_2017-01.csv\"\n",
    "df_data = spark.read.csv(path, header=True, inferSchema=True)\n",
    "\n",
    "path = \"taxi+_zone_lookup.csv\"\n",
    "#df_zones = spark.read.csv(path, header=True, inferSchema=True)\n",
    "df_zones = spark.read.option(\"delimiter\", \";\").csv(path, header=True, inferSchema=True)"
   ]
  },
  {
   "cell_type": "markdown",
   "metadata": {
    "id": "e1ApfEg1vUq0"
   },
   "source": [
    "# Limpieza de Datos\n",
    "\n"
   ]
  },
  {
   "cell_type": "markdown",
   "metadata": {
    "id": "6pizO9Mya6ig"
   },
   "source": [
    "## Análisis previo de los datos"
   ]
  },
  {
   "cell_type": "markdown",
   "metadata": {
    "id": "8tRS0vhpa6ig"
   },
   "source": [
    "A continuación se hace un breve análisis de los datos"
   ]
  },
  {
   "cell_type": "code",
   "execution_count": 11,
   "metadata": {
    "id": "tklR4GUka6ih",
    "colab": {
     "base_uri": "https://localhost:8080/"
    },
    "outputId": "7b742db2-d4e5-431f-f985-c3cfebfd6d7c"
   },
   "outputs": [
    {
     "name": "stdout",
     "output_type": "stream",
     "text": [
      "+-------+-----------------+\n",
      "|summary|     total_amount|\n",
      "+-------+-----------------+\n",
      "|  count|           971010|\n",
      "|   mean|16.07811082276051|\n",
      "| stddev|546.7901022658478|\n",
      "|    min|           -120.3|\n",
      "|    max|         538580.0|\n",
      "+-------+-----------------+\n",
      "\n"
     ]
    }
   ],
   "source": [
    "df_data.select(\"total_amount\").describe().show()"
   ]
  },
  {
   "cell_type": "code",
   "execution_count": 12,
   "metadata": {
    "id": "cy28E_mya6ih",
    "colab": {
     "base_uri": "https://localhost:8080/"
    },
    "outputId": "ec85516b-886e-4192-f83c-951cd926c76a"
   },
   "outputs": [
    {
     "name": "stdout",
     "output_type": "stream",
     "text": [
      "+-------+------------------+\n",
      "|summary|        tip_amount|\n",
      "+-------+------------------+\n",
      "|  count|            971010|\n",
      "|   mean|1.6790282695338157|\n",
      "| stddev| 2.571364110419962|\n",
      "|    min|             -6.06|\n",
      "|    max|             366.0|\n",
      "+-------+------------------+\n",
      "\n"
     ]
    }
   ],
   "source": [
    "df_data.select(\"tip_amount\").describe().show()"
   ]
  },
  {
   "cell_type": "code",
   "execution_count": 13,
   "metadata": {
    "id": "HKBdpJmMa6ih",
    "colab": {
     "base_uri": "https://localhost:8080/"
    },
    "outputId": "7de84124-279f-405e-e444-c52af4f00aff"
   },
   "outputs": [
    {
     "name": "stdout",
     "output_type": "stream",
     "text": [
      "+-------+------------------+\n",
      "|summary|     trip_distance|\n",
      "+-------+------------------+\n",
      "|  count|            971010|\n",
      "|   mean| 3.031284878631532|\n",
      "| stddev|3.7858472332117055|\n",
      "|    min|               0.0|\n",
      "|    max|             151.7|\n",
      "+-------+------------------+\n",
      "\n"
     ]
    }
   ],
   "source": [
    "df_data.select(\"trip_distance\").describe().show()"
   ]
  },
  {
   "cell_type": "code",
   "execution_count": 14,
   "metadata": {
    "id": "Mwc3-P3Ea6ii",
    "colab": {
     "base_uri": "https://localhost:8080/"
    },
    "outputId": "b017f759-28df-4f81-a9e3-d998b74c39b9"
   },
   "outputs": [
    {
     "name": "stdout",
     "output_type": "stream",
     "text": [
      "+-------+------------------+\n",
      "|summary|   passenger_count|\n",
      "+-------+------------------+\n",
      "|  count|            971010|\n",
      "|   mean|1.6859888157691476|\n",
      "| stddev| 1.291704683757404|\n",
      "|    min|                 0|\n",
      "|    max|                 9|\n",
      "+-------+------------------+\n",
      "\n"
     ]
    }
   ],
   "source": [
    "df_data.select(\"passenger_count\").describe().show()"
   ]
  },
  {
   "cell_type": "markdown",
   "metadata": {
    "id": "tSSOSwvoa6ii"
   },
   "source": [
    "Representación de la dispersión y valores atípicos de propinas mediante un boxplot"
   ]
  },
  {
   "cell_type": "code",
   "execution_count": 15,
   "metadata": {
    "id": "6Ej30G8Wa6ii",
    "colab": {
     "base_uri": "https://localhost:8080/",
     "height": 265
    },
    "outputId": "f5cea6be-b88a-4c3a-fad1-03e8707d4277"
   },
   "outputs": [
    {
     "data": {
      "text/plain": "<Figure size 640x480 with 1 Axes>",
      "image/png": "[encoded data removed]"
     },
     "metadata": {},
     "output_type": "display_data"
    }
   ],
   "source": [
    "data = df_data.select(\"tip_amount\").rdd.flatMap(lambda x: x).collect()\n",
    "\n",
    "plt.boxplot(data)\n",
    "plt.show()"
   ]
  },
  {
   "cell_type": "markdown",
   "metadata": {
    "id": "XRGo5an6vydi"
   },
   "source": [
    "## Limpieza de datos nulos"
   ]
  },
  {
   "cell_type": "code",
   "execution_count": 16,
   "metadata": {
    "id": "e9orxgCMvoBc",
    "colab": {
     "base_uri": "https://localhost:8080/"
    },
    "outputId": "53307684-abfa-4d0b-fe99-bc0538cd1829"
   },
   "outputs": [
    {
     "name": "stdout",
     "output_type": "stream",
     "text": [
      "Cantidad de filas eliminadas: 0\n"
     ]
    }
   ],
   "source": [
    "# -------- Limpieza en datos generales --------\n",
    "rows1 = df_data.count()\n",
    "\n",
    "# Eliminación de nulos\n",
    "df_data_filtered = df_data.dropna()\n",
    "\n",
    "rows2 = df_data_filtered.count()\n",
    "\n",
    "print(\"Cantidad de filas eliminadas: \" + str(rows1 - rows2))"
   ]
  },
  {
   "cell_type": "code",
   "execution_count": 17,
   "metadata": {
    "id": "92AibCeRp94W",
    "colab": {
     "base_uri": "https://localhost:8080/"
    },
    "outputId": "052b315d-1742-4f4b-8751-cba90f31dad5"
   },
   "outputs": [
    {
     "name": "stdout",
     "output_type": "stream",
     "text": [
      "Cantidad de filas eliminadas: 2\n"
     ]
    }
   ],
   "source": [
    "# -------- Limpieza en datos de zonas --------\n",
    "rows1 = df_zones.count()\n",
    "\n",
    "# Eliminación de nulos\n",
    "df_zones_filtered = df_zones.dropna()\n",
    "\n",
    "listaNulos = [\"Unknown\", \"NA\", \"N/A\"]\n",
    "\n",
    "rdd_df_filtered = df_zones_filtered.rdd.filter(lambda x: x.Borough not in listaNulos)     \\\n",
    "                                       .filter(lambda x: x.Zone not in listaNulos)        \\\n",
    "                                       .filter(lambda x: x.service_zone not in listaNulos)\n",
    "\n",
    "df_zones_filtered = spark.createDataFrame(rdd_df_filtered)\n",
    "rows2 = df_zones_filtered.count()\n",
    "\n",
    "print(\"Cantidad de filas eliminadas: \" + str(rows1 - rows2))"
   ]
  },
  {
   "cell_type": "markdown",
   "metadata": {
    "id": "FDnFG8BPACPK"
   },
   "source": [
    "## Eliminación de valores sin sentido lógico"
   ]
  },
  {
   "cell_type": "markdown",
   "metadata": {
    "id": "8sg9hFEta6ik"
   },
   "source": [
    "A partir del análisis previo de los datos se detectaron valores negativos o iguales a 0. Por tanto, se procede a eliminar las filas que contienen:\n",
    "- Propinas negativas\n",
    "- Distancia de viajes negativa o igual a 0\n",
    "- Coste del viaje negativo o igual a 0\n",
    "- Tiempos sin sentido (llegada antes o igual que salida)"
   ]
  },
  {
   "cell_type": "code",
   "execution_count": 18,
   "metadata": {
    "id": "SUm7MES86OGZ",
    "colab": {
     "base_uri": "https://localhost:8080/"
    },
    "outputId": "3bc8ef32-0f67-45a9-c2c0-224876bd6bb9"
   },
   "outputs": [
    {
     "name": "stdout",
     "output_type": "stream",
     "text": [
      "Cantidad de filas eliminadas: 6709\n"
     ]
    }
   ],
   "source": [
    "rows1 = df_data_filtered.count()\n",
    "\n",
    "# Filtrando propinas, importes negativos y tiempos\n",
    "rdd_df_filtered = df_data_filtered.rdd.filter(lambda x: x.tip_amount >= 0) \\\n",
    "                                      .filter(lambda x: x.trip_distance > 0) \\\n",
    "                                      .filter(lambda x: x.total_amount >= 0) \\\n",
    "                                      .filter(lambda x: x.passenger_count > 0)\n",
    "\n",
    "df_data_filtered = spark.createDataFrame(rdd_df_filtered)\n",
    "rows2 = df_data_filtered.count()\n",
    "\n",
    "print(\"Cantidad de filas eliminadas: \" + str(rows1 - rows2))"
   ]
  },
  {
   "cell_type": "markdown",
   "metadata": {
    "id": "GirYEAFma6ik"
   },
   "source": [
    "## Filtrado de los valores atípicos"
   ]
  },
  {
   "cell_type": "code",
   "execution_count": 19,
   "metadata": {
    "id": "sYqCBCtXa6ik",
    "colab": {
     "base_uri": "https://localhost:8080/"
    },
    "outputId": "c2e47e1d-263e-464f-9a65-dda2da8de7d8"
   },
   "outputs": [
    {
     "ename": "Py4JJavaError",
     "evalue": "An error occurred while calling o185.count.\n: org.apache.spark.SparkException: Job aborted due to stage failure: Task 3 in stage 40.0 failed 1 times, most recent failure: Lost task 3.0 in stage 40.0 (TID 201) (LAPTOP-P4ALQAKF executor driver): java.net.SocketException: Connection reset\r\n\tat java.net.SocketInputStream.read(SocketInputStream.java:210)\r\n\tat java.net.SocketInputStream.read(SocketInputStream.java:141)\r\n\tat java.io.BufferedInputStream.read1(BufferedInputStream.java:284)\r\n\tat java.io.BufferedInputStream.read(BufferedInputStream.java:345)\r\n\tat java.io.DataInputStream.readFully(DataInputStream.java:195)\r\n\tat java.io.DataInputStream.readFully(DataInputStream.java:169)\r\n\tat org.apache.spark.api.python.PythonRunner$$anon$3.read(PythonRunner.scala:758)\r\n\tat org.apache.spark.api.python.PythonRunner$$anon$3.read(PythonRunner.scala:747)\r\n\tat org.apache.spark.api.python.BasePythonRunner$ReaderIterator.hasNext(PythonRunner.scala:512)\r\n\tat org.apache.spark.InterruptibleIterator.hasNext(InterruptibleIterator.scala:37)\r\n\tat scala.collection.Iterator$$anon$11.hasNext(Iterator.scala:491)\r\n\tat scala.collection.Iterator$$anon$10.hasNext(Iterator.scala:460)\r\n\tat scala.collection.Iterator$$anon$10.hasNext(Iterator.scala:460)\r\n\tat org.apache.spark.sql.catalyst.expressions.GeneratedClass$GeneratedIteratorForCodegenStage1.processNext(Unknown Source)\r\n\tat org.apache.spark.sql.execution.BufferedRowIterator.hasNext(BufferedRowIterator.java:43)\r\n\tat org.apache.spark.sql.execution.WholeStageCodegenExec$$anon$1.hasNext(WholeStageCodegenExec.scala:760)\r\n\tat scala.collection.Iterator$$anon$10.hasNext(Iterator.scala:460)\r\n\tat org.apache.spark.ContextAwareIterator.hasNext(ContextAwareIterator.scala:39)\r\n\tat org.apache.spark.api.python.SerDeUtil$AutoBatchedPickler.next(SerDeUtil.scala:89)\r\n\tat org.apache.spark.api.python.SerDeUtil$AutoBatchedPickler.next(SerDeUtil.scala:80)\r\n\tat scala.collection.Iterator.foreach(Iterator.scala:943)\r\n\tat scala.collection.Iterator.foreach$(Iterator.scala:943)\r\n\tat org.apache.spark.api.python.SerDeUtil$AutoBatchedPickler.foreach(SerDeUtil.scala:80)\r\n\tat org.apache.spark.api.python.PythonRDD$.writeIteratorToStream(PythonRDD.scala:307)\r\n\tat org.apache.spark.api.python.PythonRunner$$anon$2.writeIteratorToStream(PythonRunner.scala:732)\r\n\tat org.apache.spark.api.python.BasePythonRunner$WriterThread.$anonfun$run$1(PythonRunner.scala:438)\r\n\tat org.apache.spark.util.Utils$.logUncaughtExceptions(Utils.scala:2066)\r\n\tat org.apache.spark.api.python.BasePythonRunner$WriterThread.run(PythonRunner.scala:272)\r\n\nDriver stacktrace:\r\n\tat org.apache.spark.scheduler.DAGScheduler.failJobAndIndependentStages(DAGScheduler.scala:2672)\r\n\tat org.apache.spark.scheduler.DAGScheduler.$anonfun$abortStage$2(DAGScheduler.scala:2608)\r\n\tat org.apache.spark.scheduler.DAGScheduler.$anonfun$abortStage$2$adapted(DAGScheduler.scala:2607)\r\n\tat scala.collection.mutable.ResizableArray.foreach(ResizableArray.scala:62)\r\n\tat scala.collection.mutable.ResizableArray.foreach$(ResizableArray.scala:55)\r\n\tat scala.collection.mutable.ArrayBuffer.foreach(ArrayBuffer.scala:49)\r\n\tat org.apache.spark.scheduler.DAGScheduler.abortStage(DAGScheduler.scala:2607)\r\n\tat org.apache.spark.scheduler.DAGScheduler.$anonfun$handleTaskSetFailed$1(DAGScheduler.scala:1182)\r\n\tat org.apache.spark.scheduler.DAGScheduler.$anonfun$handleTaskSetFailed$1$adapted(DAGScheduler.scala:1182)\r\n\tat scala.Option.foreach(Option.scala:407)\r\n\tat org.apache.spark.scheduler.DAGScheduler.handleTaskSetFailed(DAGScheduler.scala:1182)\r\n\tat org.apache.spark.scheduler.DAGSchedulerEventProcessLoop.doOnReceive(DAGScheduler.scala:2860)\r\n\tat org.apache.spark.scheduler.DAGSchedulerEventProcessLoop.onReceive(DAGScheduler.scala:2802)\r\n\tat org.apache.spark.scheduler.DAGSchedulerEventProcessLoop.onReceive(DAGScheduler.scala:2791)\r\n\tat org.apache.spark.util.EventLoop$$anon$1.run(EventLoop.scala:49)\r\nCaused by: java.net.SocketException: Connection reset\r\n\tat java.net.SocketInputStream.read(SocketInputStream.java:210)\r\n\tat java.net.SocketInputStream.read(SocketInputStream.java:141)\r\n\tat java.io.BufferedInputStream.read1(BufferedInputStream.java:284)\r\n\tat java.io.BufferedInputStream.read(BufferedInputStream.java:345)\r\n\tat java.io.DataInputStream.readFully(DataInputStream.java:195)\r\n\tat java.io.DataInputStream.readFully(DataInputStream.java:169)\r\n\tat org.apache.spark.api.python.PythonRunner$$anon$3.read(PythonRunner.scala:758)\r\n\tat org.apache.spark.api.python.PythonRunner$$anon$3.read(PythonRunner.scala:747)\r\n\tat org.apache.spark.api.python.BasePythonRunner$ReaderIterator.hasNext(PythonRunner.scala:512)\r\n\tat org.apache.spark.InterruptibleIterator.hasNext(InterruptibleIterator.scala:37)\r\n\tat scala.collection.Iterator$$anon$11.hasNext(Iterator.scala:491)\r\n\tat scala.collection.Iterator$$anon$10.hasNext(Iterator.scala:460)\r\n\tat scala.collection.Iterator$$anon$10.hasNext(Iterator.scala:460)\r\n\tat org.apache.spark.sql.catalyst.expressions.GeneratedClass$GeneratedIteratorForCodegenStage1.processNext(Unknown Source)\r\n\tat org.apache.spark.sql.execution.BufferedRowIterator.hasNext(BufferedRowIterator.java:43)\r\n\tat org.apache.spark.sql.execution.WholeStageCodegenExec$$anon$1.hasNext(WholeStageCodegenExec.scala:760)\r\n\tat scala.collection.Iterator$$anon$10.hasNext(Iterator.scala:460)\r\n\tat org.apache.spark.ContextAwareIterator.hasNext(ContextAwareIterator.scala:39)\r\n\tat org.apache.spark.api.python.SerDeUtil$AutoBatchedPickler.next(SerDeUtil.scala:89)\r\n\tat org.apache.spark.api.python.SerDeUtil$AutoBatchedPickler.next(SerDeUtil.scala:80)\r\n\tat scala.collection.Iterator.foreach(Iterator.scala:943)\r\n\tat scala.collection.Iterator.foreach$(Iterator.scala:943)\r\n\tat org.apache.spark.api.python.SerDeUtil$AutoBatchedPickler.foreach(SerDeUtil.scala:80)\r\n\tat org.apache.spark.api.python.PythonRDD$.writeIteratorToStream(PythonRDD.scala:307)\r\n\tat org.apache.spark.api.python.PythonRunner$$anon$2.writeIteratorToStream(PythonRunner.scala:732)\r\n\tat org.apache.spark.api.python.BasePythonRunner$WriterThread.$anonfun$run$1(PythonRunner.scala:438)\r\n\tat org.apache.spark.util.Utils$.logUncaughtExceptions(Utils.scala:2066)\r\n\tat org.apache.spark.api.python.BasePythonRunner$WriterThread.run(PythonRunner.scala:272)\r\n",
     "output_type": "error",
     "traceback": [
      "\u001B[1;31m---------------------------------------------------------------------------\u001B[0m",
      "\u001B[1;31mPy4JJavaError\u001B[0m                             Traceback (most recent call last)",
      "Cell \u001B[1;32mIn [19], line 9\u001B[0m\n\u001B[0;32m      6\u001B[0m rdd_df_filtered \u001B[38;5;241m=\u001B[39m df_data_filtered\u001B[38;5;241m.\u001B[39mrdd\u001B[38;5;241m.\u001B[39mfilter(\u001B[38;5;28;01mlambda\u001B[39;00m x: x\u001B[38;5;241m.\u001B[39mtip_amount \u001B[38;5;241m<\u001B[39m upperRange)\n\u001B[0;32m      8\u001B[0m df_data_filtered \u001B[38;5;241m=\u001B[39m spark\u001B[38;5;241m.\u001B[39mcreateDataFrame(rdd_df_filtered)\n\u001B[1;32m----> 9\u001B[0m rows2 \u001B[38;5;241m=\u001B[39m \u001B[43mdf_data_filtered\u001B[49m\u001B[38;5;241;43m.\u001B[39;49m\u001B[43mcount\u001B[49m\u001B[43m(\u001B[49m\u001B[43m)\u001B[49m\n\u001B[0;32m     11\u001B[0m \u001B[38;5;28mprint\u001B[39m(\u001B[38;5;124m\"\u001B[39m\u001B[38;5;124mCantidad de filas eliminadas: \u001B[39m\u001B[38;5;124m\"\u001B[39m \u001B[38;5;241m+\u001B[39m \u001B[38;5;28mstr\u001B[39m(rows1 \u001B[38;5;241m-\u001B[39m rows2))\n",
      "File \u001B[1;32m~\\Anaconda3\\envs\\CAP\\lib\\site-packages\\pyspark\\sql\\dataframe.py:804\u001B[0m, in \u001B[0;36mDataFrame.count\u001B[1;34m(self)\u001B[0m\n\u001B[0;32m    794\u001B[0m \u001B[38;5;28;01mdef\u001B[39;00m \u001B[38;5;21mcount\u001B[39m(\u001B[38;5;28mself\u001B[39m) \u001B[38;5;241m-\u001B[39m\u001B[38;5;241m>\u001B[39m \u001B[38;5;28mint\u001B[39m:\n\u001B[0;32m    795\u001B[0m     \u001B[38;5;124;03m\"\"\"Returns the number of rows in this :class:`DataFrame`.\u001B[39;00m\n\u001B[0;32m    796\u001B[0m \n\u001B[0;32m    797\u001B[0m \u001B[38;5;124;03m    .. versionadded:: 1.3.0\u001B[39;00m\n\u001B[1;32m   (...)\u001B[0m\n\u001B[0;32m    802\u001B[0m \u001B[38;5;124;03m    2\u001B[39;00m\n\u001B[0;32m    803\u001B[0m \u001B[38;5;124;03m    \"\"\"\u001B[39;00m\n\u001B[1;32m--> 804\u001B[0m     \u001B[38;5;28;01mreturn\u001B[39;00m \u001B[38;5;28mint\u001B[39m(\u001B[38;5;28;43mself\u001B[39;49m\u001B[38;5;241;43m.\u001B[39;49m\u001B[43m_jdf\u001B[49m\u001B[38;5;241;43m.\u001B[39;49m\u001B[43mcount\u001B[49m\u001B[43m(\u001B[49m\u001B[43m)\u001B[49m)\n",
      "File \u001B[1;32m~\\Anaconda3\\envs\\CAP\\lib\\site-packages\\py4j\\java_gateway.py:1321\u001B[0m, in \u001B[0;36mJavaMember.__call__\u001B[1;34m(self, *args)\u001B[0m\n\u001B[0;32m   1315\u001B[0m command \u001B[38;5;241m=\u001B[39m proto\u001B[38;5;241m.\u001B[39mCALL_COMMAND_NAME \u001B[38;5;241m+\u001B[39m\\\n\u001B[0;32m   1316\u001B[0m     \u001B[38;5;28mself\u001B[39m\u001B[38;5;241m.\u001B[39mcommand_header \u001B[38;5;241m+\u001B[39m\\\n\u001B[0;32m   1317\u001B[0m     args_command \u001B[38;5;241m+\u001B[39m\\\n\u001B[0;32m   1318\u001B[0m     proto\u001B[38;5;241m.\u001B[39mEND_COMMAND_PART\n\u001B[0;32m   1320\u001B[0m answer \u001B[38;5;241m=\u001B[39m \u001B[38;5;28mself\u001B[39m\u001B[38;5;241m.\u001B[39mgateway_client\u001B[38;5;241m.\u001B[39msend_command(command)\n\u001B[1;32m-> 1321\u001B[0m return_value \u001B[38;5;241m=\u001B[39m \u001B[43mget_return_value\u001B[49m\u001B[43m(\u001B[49m\n\u001B[0;32m   1322\u001B[0m \u001B[43m    \u001B[49m\u001B[43manswer\u001B[49m\u001B[43m,\u001B[49m\u001B[43m \u001B[49m\u001B[38;5;28;43mself\u001B[39;49m\u001B[38;5;241;43m.\u001B[39;49m\u001B[43mgateway_client\u001B[49m\u001B[43m,\u001B[49m\u001B[43m \u001B[49m\u001B[38;5;28;43mself\u001B[39;49m\u001B[38;5;241;43m.\u001B[39;49m\u001B[43mtarget_id\u001B[49m\u001B[43m,\u001B[49m\u001B[43m \u001B[49m\u001B[38;5;28;43mself\u001B[39;49m\u001B[38;5;241;43m.\u001B[39;49m\u001B[43mname\u001B[49m\u001B[43m)\u001B[49m\n\u001B[0;32m   1324\u001B[0m \u001B[38;5;28;01mfor\u001B[39;00m temp_arg \u001B[38;5;129;01min\u001B[39;00m temp_args:\n\u001B[0;32m   1325\u001B[0m     temp_arg\u001B[38;5;241m.\u001B[39m_detach()\n",
      "File \u001B[1;32m~\\Anaconda3\\envs\\CAP\\lib\\site-packages\\pyspark\\sql\\utils.py:190\u001B[0m, in \u001B[0;36mcapture_sql_exception.<locals>.deco\u001B[1;34m(*a, **kw)\u001B[0m\n\u001B[0;32m    188\u001B[0m \u001B[38;5;28;01mdef\u001B[39;00m \u001B[38;5;21mdeco\u001B[39m(\u001B[38;5;241m*\u001B[39ma: Any, \u001B[38;5;241m*\u001B[39m\u001B[38;5;241m*\u001B[39mkw: Any) \u001B[38;5;241m-\u001B[39m\u001B[38;5;241m>\u001B[39m Any:\n\u001B[0;32m    189\u001B[0m     \u001B[38;5;28;01mtry\u001B[39;00m:\n\u001B[1;32m--> 190\u001B[0m         \u001B[38;5;28;01mreturn\u001B[39;00m \u001B[43mf\u001B[49m\u001B[43m(\u001B[49m\u001B[38;5;241;43m*\u001B[39;49m\u001B[43ma\u001B[49m\u001B[43m,\u001B[49m\u001B[43m \u001B[49m\u001B[38;5;241;43m*\u001B[39;49m\u001B[38;5;241;43m*\u001B[39;49m\u001B[43mkw\u001B[49m\u001B[43m)\u001B[49m\n\u001B[0;32m    191\u001B[0m     \u001B[38;5;28;01mexcept\u001B[39;00m Py4JJavaError \u001B[38;5;28;01mas\u001B[39;00m e:\n\u001B[0;32m    192\u001B[0m         converted \u001B[38;5;241m=\u001B[39m convert_exception(e\u001B[38;5;241m.\u001B[39mjava_exception)\n",
      "File \u001B[1;32m~\\Anaconda3\\envs\\CAP\\lib\\site-packages\\py4j\\protocol.py:326\u001B[0m, in \u001B[0;36mget_return_value\u001B[1;34m(answer, gateway_client, target_id, name)\u001B[0m\n\u001B[0;32m    324\u001B[0m value \u001B[38;5;241m=\u001B[39m OUTPUT_CONVERTER[\u001B[38;5;28mtype\u001B[39m](answer[\u001B[38;5;241m2\u001B[39m:], gateway_client)\n\u001B[0;32m    325\u001B[0m \u001B[38;5;28;01mif\u001B[39;00m answer[\u001B[38;5;241m1\u001B[39m] \u001B[38;5;241m==\u001B[39m REFERENCE_TYPE:\n\u001B[1;32m--> 326\u001B[0m     \u001B[38;5;28;01mraise\u001B[39;00m Py4JJavaError(\n\u001B[0;32m    327\u001B[0m         \u001B[38;5;124m\"\u001B[39m\u001B[38;5;124mAn error occurred while calling \u001B[39m\u001B[38;5;132;01m{0}\u001B[39;00m\u001B[38;5;132;01m{1}\u001B[39;00m\u001B[38;5;132;01m{2}\u001B[39;00m\u001B[38;5;124m.\u001B[39m\u001B[38;5;130;01m\\n\u001B[39;00m\u001B[38;5;124m\"\u001B[39m\u001B[38;5;241m.\u001B[39m\n\u001B[0;32m    328\u001B[0m         \u001B[38;5;28mformat\u001B[39m(target_id, \u001B[38;5;124m\"\u001B[39m\u001B[38;5;124m.\u001B[39m\u001B[38;5;124m\"\u001B[39m, name), value)\n\u001B[0;32m    329\u001B[0m \u001B[38;5;28;01melse\u001B[39;00m:\n\u001B[0;32m    330\u001B[0m     \u001B[38;5;28;01mraise\u001B[39;00m Py4JError(\n\u001B[0;32m    331\u001B[0m         \u001B[38;5;124m\"\u001B[39m\u001B[38;5;124mAn error occurred while calling \u001B[39m\u001B[38;5;132;01m{0}\u001B[39;00m\u001B[38;5;132;01m{1}\u001B[39;00m\u001B[38;5;132;01m{2}\u001B[39;00m\u001B[38;5;124m. Trace:\u001B[39m\u001B[38;5;130;01m\\n\u001B[39;00m\u001B[38;5;132;01m{3}\u001B[39;00m\u001B[38;5;130;01m\\n\u001B[39;00m\u001B[38;5;124m\"\u001B[39m\u001B[38;5;241m.\u001B[39m\n\u001B[0;32m    332\u001B[0m         \u001B[38;5;28mformat\u001B[39m(target_id, \u001B[38;5;124m\"\u001B[39m\u001B[38;5;124m.\u001B[39m\u001B[38;5;124m\"\u001B[39m, name, value))\n",
      "\u001B[1;31mPy4JJavaError\u001B[0m: An error occurred while calling o185.count.\n: org.apache.spark.SparkException: Job aborted due to stage failure: Task 3 in stage 40.0 failed 1 times, most recent failure: Lost task 3.0 in stage 40.0 (TID 201) (LAPTOP-P4ALQAKF executor driver): java.net.SocketException: Connection reset\r\n\tat java.net.SocketInputStream.read(SocketInputStream.java:210)\r\n\tat java.net.SocketInputStream.read(SocketInputStream.java:141)\r\n\tat java.io.BufferedInputStream.read1(BufferedInputStream.java:284)\r\n\tat java.io.BufferedInputStream.read(BufferedInputStream.java:345)\r\n\tat java.io.DataInputStream.readFully(DataInputStream.java:195)\r\n\tat java.io.DataInputStream.readFully(DataInputStream.java:169)\r\n\tat org.apache.spark.api.python.PythonRunner$$anon$3.read(PythonRunner.scala:758)\r\n\tat org.apache.spark.api.python.PythonRunner$$anon$3.read(PythonRunner.scala:747)\r\n\tat org.apache.spark.api.python.BasePythonRunner$ReaderIterator.hasNext(PythonRunner.scala:512)\r\n\tat org.apache.spark.InterruptibleIterator.hasNext(InterruptibleIterator.scala:37)\r\n\tat scala.collection.Iterator$$anon$11.hasNext(Iterator.scala:491)\r\n\tat scala.collection.Iterator$$anon$10.hasNext(Iterator.scala:460)\r\n\tat scala.collection.Iterator$$anon$10.hasNext(Iterator.scala:460)\r\n\tat org.apache.spark.sql.catalyst.expressions.GeneratedClass$GeneratedIteratorForCodegenStage1.processNext(Unknown Source)\r\n\tat org.apache.spark.sql.execution.BufferedRowIterator.hasNext(BufferedRowIterator.java:43)\r\n\tat org.apache.spark.sql.execution.WholeStageCodegenExec$$anon$1.hasNext(WholeStageCodegenExec.scala:760)\r\n\tat scala.collection.Iterator$$anon$10.hasNext(Iterator.scala:460)\r\n\tat org.apache.spark.ContextAwareIterator.hasNext(ContextAwareIterator.scala:39)\r\n\tat org.apache.spark.api.python.SerDeUtil$AutoBatchedPickler.next(SerDeUtil.scala:89)\r\n\tat org.apache.spark.api.python.SerDeUtil$AutoBatchedPickler.next(SerDeUtil.scala:80)\r\n\tat scala.collection.Iterator.foreach(Iterator.scala:943)\r\n\tat scala.collection.Iterator.foreach$(Iterator.scala:943)\r\n\tat org.apache.spark.api.python.SerDeUtil$AutoBatchedPickler.foreach(SerDeUtil.scala:80)\r\n\tat org.apache.spark.api.python.PythonRDD$.writeIteratorToStream(PythonRDD.scala:307)\r\n\tat org.apache.spark.api.python.PythonRunner$$anon$2.writeIteratorToStream(PythonRunner.scala:732)\r\n\tat org.apache.spark.api.python.BasePythonRunner$WriterThread.$anonfun$run$1(PythonRunner.scala:438)\r\n\tat org.apache.spark.util.Utils$.logUncaughtExceptions(Utils.scala:2066)\r\n\tat org.apache.spark.api.python.BasePythonRunner$WriterThread.run(PythonRunner.scala:272)\r\n\nDriver stacktrace:\r\n\tat org.apache.spark.scheduler.DAGScheduler.failJobAndIndependentStages(DAGScheduler.scala:2672)\r\n\tat org.apache.spark.scheduler.DAGScheduler.$anonfun$abortStage$2(DAGScheduler.scala:2608)\r\n\tat org.apache.spark.scheduler.DAGScheduler.$anonfun$abortStage$2$adapted(DAGScheduler.scala:2607)\r\n\tat scala.collection.mutable.ResizableArray.foreach(ResizableArray.scala:62)\r\n\tat scala.collection.mutable.ResizableArray.foreach$(ResizableArray.scala:55)\r\n\tat scala.collection.mutable.ArrayBuffer.foreach(ArrayBuffer.scala:49)\r\n\tat org.apache.spark.scheduler.DAGScheduler.abortStage(DAGScheduler.scala:2607)\r\n\tat org.apache.spark.scheduler.DAGScheduler.$anonfun$handleTaskSetFailed$1(DAGScheduler.scala:1182)\r\n\tat org.apache.spark.scheduler.DAGScheduler.$anonfun$handleTaskSetFailed$1$adapted(DAGScheduler.scala:1182)\r\n\tat scala.Option.foreach(Option.scala:407)\r\n\tat org.apache.spark.scheduler.DAGScheduler.handleTaskSetFailed(DAGScheduler.scala:1182)\r\n\tat org.apache.spark.scheduler.DAGSchedulerEventProcessLoop.doOnReceive(DAGScheduler.scala:2860)\r\n\tat org.apache.spark.scheduler.DAGSchedulerEventProcessLoop.onReceive(DAGScheduler.scala:2802)\r\n\tat org.apache.spark.scheduler.DAGSchedulerEventProcessLoop.onReceive(DAGScheduler.scala:2791)\r\n\tat org.apache.spark.util.EventLoop$$anon$1.run(EventLoop.scala:49)\r\nCaused by: java.net.SocketException: Connection reset\r\n\tat java.net.SocketInputStream.read(SocketInputStream.java:210)\r\n\tat java.net.SocketInputStream.read(SocketInputStream.java:141)\r\n\tat java.io.BufferedInputStream.read1(BufferedInputStream.java:284)\r\n\tat java.io.BufferedInputStream.read(BufferedInputStream.java:345)\r\n\tat java.io.DataInputStream.readFully(DataInputStream.java:195)\r\n\tat java.io.DataInputStream.readFully(DataInputStream.java:169)\r\n\tat org.apache.spark.api.python.PythonRunner$$anon$3.read(PythonRunner.scala:758)\r\n\tat org.apache.spark.api.python.PythonRunner$$anon$3.read(PythonRunner.scala:747)\r\n\tat org.apache.spark.api.python.BasePythonRunner$ReaderIterator.hasNext(PythonRunner.scala:512)\r\n\tat org.apache.spark.InterruptibleIterator.hasNext(InterruptibleIterator.scala:37)\r\n\tat scala.collection.Iterator$$anon$11.hasNext(Iterator.scala:491)\r\n\tat scala.collection.Iterator$$anon$10.hasNext(Iterator.scala:460)\r\n\tat scala.collection.Iterator$$anon$10.hasNext(Iterator.scala:460)\r\n\tat org.apache.spark.sql.catalyst.expressions.GeneratedClass$GeneratedIteratorForCodegenStage1.processNext(Unknown Source)\r\n\tat org.apache.spark.sql.execution.BufferedRowIterator.hasNext(BufferedRowIterator.java:43)\r\n\tat org.apache.spark.sql.execution.WholeStageCodegenExec$$anon$1.hasNext(WholeStageCodegenExec.scala:760)\r\n\tat scala.collection.Iterator$$anon$10.hasNext(Iterator.scala:460)\r\n\tat org.apache.spark.ContextAwareIterator.hasNext(ContextAwareIterator.scala:39)\r\n\tat org.apache.spark.api.python.SerDeUtil$AutoBatchedPickler.next(SerDeUtil.scala:89)\r\n\tat org.apache.spark.api.python.SerDeUtil$AutoBatchedPickler.next(SerDeUtil.scala:80)\r\n\tat scala.collection.Iterator.foreach(Iterator.scala:943)\r\n\tat scala.collection.Iterator.foreach$(Iterator.scala:943)\r\n\tat org.apache.spark.api.python.SerDeUtil$AutoBatchedPickler.foreach(SerDeUtil.scala:80)\r\n\tat org.apache.spark.api.python.PythonRDD$.writeIteratorToStream(PythonRDD.scala:307)\r\n\tat org.apache.spark.api.python.PythonRunner$$anon$2.writeIteratorToStream(PythonRunner.scala:732)\r\n\tat org.apache.spark.api.python.BasePythonRunner$WriterThread.$anonfun$run$1(PythonRunner.scala:438)\r\n\tat org.apache.spark.util.Utils$.logUncaughtExceptions(Utils.scala:2066)\r\n\tat org.apache.spark.api.python.BasePythonRunner$WriterThread.run(PythonRunner.scala:272)\r\n"
     ]
    }
   ],
   "source": [
    "quantiles = df_data_filtered.approxQuantile(\"tip_amount\", [0.25, 0.75], 0.0)\n",
    "Q1 = quantiles[0]\n",
    "Q3 = quantiles[1]\n",
    "IQR = Q3 - Q1\n",
    "upperRange = Q3 + 3*IQR\n",
    "rdd_df_filtered = df_data_filtered.rdd.filter(lambda x: x.tip_amount < upperRange)\n",
    "\n",
    "df_data_filtered = spark.createDataFrame(rdd_df_filtered)\n",
    "rows2 = df_data_filtered.count()\n",
    "\n",
    "print(\"Cantidad de filas eliminadas: \" + str(rows1 - rows2))"
   ]
  },
  {
   "cell_type": "markdown",
   "metadata": {
    "id": "NmXkZ31Ha6ik"
   },
   "source": [
    "Representación de la dispersión resultante del filtrado de valores atípicos teniendo en cuenta las propinas mediante un boxplot"
   ]
  },
  {
   "cell_type": "code",
   "execution_count": null,
   "metadata": {
    "id": "h60lCMy7a6ik",
    "colab": {
     "base_uri": "https://localhost:8080/",
     "height": 265
    },
    "outputId": "cb49a9ae-95ac-45df-c2e0-2368e03da978"
   },
   "outputs": [],
   "source": [
    "data = df_data_filtered.select(\"tip_amount\").rdd.flatMap(lambda x: x).collect()\n",
    "\n",
    "plt.boxplot(data)\n",
    "plt.show()"
   ]
  },
  {
   "cell_type": "markdown",
   "metadata": {
    "id": "3aiSirvP0xg9"
   },
   "source": [
    "## Conversión del formato de tiempo"
   ]
  },
  {
   "cell_type": "code",
   "execution_count": null,
   "metadata": {
    "id": "yEVbrMZ7062G"
   },
   "outputs": [],
   "source": [
    "from pyspark.sql.functions import to_timestamp\n",
    "\n",
    "df_data_final = df_data_filtered.withColumn(\"tpep_pickup_datetime\", to_timestamp(\"tpep_pickup_datetime\"))\n",
    "df_data_final = df_data_final.withColumn(\"tpep_dropoff_datetime\", to_timestamp(\"tpep_dropoff_datetime\"))"
   ]
  },
  {
   "cell_type": "markdown",
   "metadata": {
    "id": "BpaKFVUVXzLZ"
   },
   "source": [
    "Ahora que tenemos las columnas de Pickup y Dropoff formateadas a *timestamp*, se filtran los datos buscando un orden lógico de fechas:\n",
    "\n",
    "*   El tiempo de llegada es mayor que el de salida\n",
    "*   Los tiempos son diferentes"
   ]
  },
  {
   "cell_type": "code",
   "execution_count": null,
   "metadata": {
    "id": "d9DWUgsLXwwf"
   },
   "outputs": [],
   "source": [
    "df_data_final = df_data_final.rdd.filter(lambda x: (x.tpep_dropoff_datetime - x.tpep_pickup_datetime).seconds > 0)\n",
    "df_data_final = spark.createDataFrame(df_data_final)"
   ]
  },
  {
   "cell_type": "markdown",
   "metadata": {
    "id": "IZIEwe1e7Lno"
   },
   "source": [
    "## Join con los datos de las zonas"
   ]
  },
  {
   "cell_type": "code",
   "execution_count": 22,
   "metadata": {
    "id": "fBFG20Qr7YyA"
   },
   "outputs": [],
   "source": [
    "# ------- JOIN PULocation con la tabla de zonas -------\n",
    "df_data_j = df_data_final.join(df_zones_filtered, on=[df_data_final.PULocationID == df_zones_filtered.LocationID], how = 'inner')\n",
    "\n",
    "# Eliminación de columna redundante \n",
    "df_data_j = df_data_j.drop(\"LocationID\")\n",
    "\n",
    "# Renombrado de las nuevas columnas  \n",
    "df_data_j = df_data_j.withColumnRenamed(\"Borough\",\"PUBorough\")\n",
    "df_data_j = df_data_j.withColumnRenamed(\"Zone\",\"PUZone\")\n",
    "df_data_j = df_data_j.withColumnRenamed(\"service_zone\",\"PUService_zone\")\n",
    "\n",
    "# ------- JOIN DOLocation con la tabla de zonas -------\n",
    "df_data_j = df_data_j.join(df_zones_filtered, df_data_final.DOLocationID == df_zones_filtered.LocationID, how='inner')\n",
    "\n",
    "# Eliminación de columna redundante \n",
    "df_data_j = df_data_j.drop(\"LocationID\")\n",
    "\n",
    "# Renombrado de las nuevas columnas  \n",
    "df_data_j = df_data_j.withColumnRenamed(\"Borough\",\"DOBorough\")\n",
    "df_data_j = df_data_j.withColumnRenamed(\"Zone\",\"DOZone\")\n",
    "df_data_j = df_data_j.withColumnRenamed(\"service_zone\",\"DOService_zone\")\n",
    "\n",
    "cant_datos = df_data_j.count()"
   ]
  },
  {
   "cell_type": "markdown",
   "metadata": {
    "id": "mgQcuIrrISFY"
   },
   "source": [
    "# Enunciado de la práctica"
   ]
  },
  {
   "cell_type": "markdown",
   "metadata": {
    "id": "3sVO0fcIIk6-"
   },
   "source": [
    "Realice los estudios que considere necesarios sobre los datos que contiene los registros de la compañía YellowCab de Nueva York en término de viajes en taxi. Es obligatorio proporcionar al menos tres estudios. Ejemplos de estudios:\n",
    "\n",
    "1. Velocidad media de los taxis en función de la hora.\n",
    "2. Viajes en taxi más comunes\n",
    "3. Registros financieros (propinas, personas, etc.)\n",
    "\n",
    "Será necesario realizar al menos una ejecución basada en una consulta SQL (spark.sql(.....)), al menos una consulta mediante una concatenación de llamadas a métodos del DataFrame como: select, groupBy, y finalmente una haciendo uso de RDDs. Con el objetivo de estudiar el mejor método de trabajo, uno de los estudios realizados tiene que estar implementado de las tres formas.\n",
    "\n",
    "Tendrá que preparar un informe, indicando los siguientes aspectos:\n",
    "*   Tiempo de ejecución.\n",
    "*   Cantidad de datos procesados en término de número de viajes.\n",
    "*   Velocidad de procesamiento."
   ]
  },
  {
   "cell_type": "markdown",
   "metadata": {
    "id": "dH0a5XKZI28t"
   },
   "source": [
    "## Consulta #1: Velocidad media de los taxis en función de la hora"
   ]
  },
  {
   "cell_type": "markdown",
   "metadata": {
    "id": "BvWwrMnma6ip"
   },
   "source": [
    "##### **RDD**\n"
   ]
  },
  {
   "cell_type": "markdown",
   "source": [
    "Para obtener el resultado deseado se creó una función velocidad_media que se aplicará al conjunto de datos con map (rdd)."
   ],
   "metadata": {
    "id": "RtL4K4s2A6De"
   }
  },
  {
   "cell_type": "code",
   "execution_count": 23,
   "metadata": {
    "id": "hca60gkQIRBN"
   },
   "outputs": [],
   "source": [
    "def velocidad_media(x):\n",
    "    distancia = x.trip_distance\n",
    "    t_destino = x.tpep_dropoff_datetime\n",
    "    t_origen = x.tpep_pickup_datetime\n",
    "\n",
    "    tiempo = (t_destino - t_origen).seconds / 3600\n",
    "\n",
    "    return distancia / tiempo"
   ]
  },
  {
   "cell_type": "code",
   "execution_count": 24,
   "metadata": {
    "id": "A4r0bZulvKUS"
   },
   "outputs": [],
   "source": [
    "results1 = df_data_j.rdd.map(velocidad_media)"
   ]
  },
  {
   "cell_type": "markdown",
   "source": [
    "Rendimiento:"
   ],
   "metadata": {
    "id": "Gj56_GrSBgg1"
   }
  },
  {
   "cell_type": "code",
   "execution_count": 25,
   "metadata": {
    "id": "lmGPiMsb3zg9",
    "colab": {
     "base_uri": "https://localhost:8080/"
    },
    "outputId": "e437b347-8f50-48d5-e0d4-26dd99f09714"
   },
   "outputs": [
    {
     "output_type": "stream",
     "name": "stdout",
     "text": [
      "Han transcurrido 101.543 segundos de ejecución.\n",
      "Cantidad de datos procesados: 923696\n",
      "Velocidad de procesamiento: 9096.6 registros/s\n"
     ]
    }
   ],
   "source": [
    "result_count1 , tiempo_ejecucion1 , velocidad_ejecucion1 =  calcularRendimiento(results1, cant_datos)\n",
    "interpretar_rendimiento(tiempo_ejecucion1, velocidad_ejecucion1, cant_datos)"
   ]
  },
  {
   "cell_type": "code",
   "execution_count": 26,
   "metadata": {
    "id": "vJfJeWrK5G4T",
    "colab": {
     "base_uri": "https://localhost:8080/",
     "height": 363
    },
    "outputId": "98671049-3fcf-4508-b8e9-aed0c3013ac2"
   },
   "outputs": [
    {
     "output_type": "execute_result",
     "data": {
      "text/plain": [
       "<pandas.io.formats.style.Styler at 0x7f6ceab84a90>"
      ],
      "text/html": [
       "<style type=\"text/css\">\n",
       "</style>\n",
       "<table id=\"T_1d849_\" class=\"dataframe\">\n",
       "  <thead>\n",
       "    <tr>\n",
       "      <th class=\"blank level0\" >&nbsp;</th>\n",
       "      <th class=\"col_heading level0 col0\" >Velocidad media en millas por hora</th>\n",
       "    </tr>\n",
       "  </thead>\n",
       "  <tbody>\n",
       "    <tr>\n",
       "      <th id=\"T_1d849_level0_row0\" class=\"row_heading level0 row0\" >0</th>\n",
       "      <td id=\"T_1d849_row0_col0\" class=\"data row0 col0\" >613.469388</td>\n",
       "    </tr>\n",
       "    <tr>\n",
       "      <th id=\"T_1d849_level0_row1\" class=\"row_heading level0 row1\" >1</th>\n",
       "      <td id=\"T_1d849_row1_col0\" class=\"data row1 col0\" >34.285714</td>\n",
       "    </tr>\n",
       "    <tr>\n",
       "      <th id=\"T_1d849_level0_row2\" class=\"row_heading level0 row2\" >2</th>\n",
       "      <td id=\"T_1d849_row2_col0\" class=\"data row2 col0\" >5.806452</td>\n",
       "    </tr>\n",
       "    <tr>\n",
       "      <th id=\"T_1d849_level0_row3\" class=\"row_heading level0 row3\" >3</th>\n",
       "      <td id=\"T_1d849_row3_col0\" class=\"data row3 col0\" >38.571429</td>\n",
       "    </tr>\n",
       "    <tr>\n",
       "      <th id=\"T_1d849_level0_row4\" class=\"row_heading level0 row4\" >4</th>\n",
       "      <td id=\"T_1d849_row4_col0\" class=\"data row4 col0\" >31.764706</td>\n",
       "    </tr>\n",
       "    <tr>\n",
       "      <th id=\"T_1d849_level0_row5\" class=\"row_heading level0 row5\" >5</th>\n",
       "      <td id=\"T_1d849_row5_col0\" class=\"data row5 col0\" >8.344371</td>\n",
       "    </tr>\n",
       "    <tr>\n",
       "      <th id=\"T_1d849_level0_row6\" class=\"row_heading level0 row6\" >6</th>\n",
       "      <td id=\"T_1d849_row6_col0\" class=\"data row6 col0\" >11.775701</td>\n",
       "    </tr>\n",
       "    <tr>\n",
       "      <th id=\"T_1d849_level0_row7\" class=\"row_heading level0 row7\" >7</th>\n",
       "      <td id=\"T_1d849_row7_col0\" class=\"data row7 col0\" >18.000000</td>\n",
       "    </tr>\n",
       "    <tr>\n",
       "      <th id=\"T_1d849_level0_row8\" class=\"row_heading level0 row8\" >8</th>\n",
       "      <td id=\"T_1d849_row8_col0\" class=\"data row8 col0\" >20.964706</td>\n",
       "    </tr>\n",
       "    <tr>\n",
       "      <th id=\"T_1d849_level0_row9\" class=\"row_heading level0 row9\" >9</th>\n",
       "      <td id=\"T_1d849_row9_col0\" class=\"data row9 col0\" >24.768000</td>\n",
       "    </tr>\n",
       "  </tbody>\n",
       "</table>\n"
      ]
     },
     "metadata": {},
     "execution_count": 26
    }
   ],
   "source": [
    "mostrar_resultados_rdd(results1,['Velocidad media en millas por hora'])"
   ]
  },
  {
   "cell_type": "markdown",
   "metadata": {
    "id": "QlFRShuCGN9L"
   },
   "source": [
    "## Consulta #2: Viajes en taxi más comunes"
   ]
  },
  {
   "cell_type": "markdown",
   "metadata": {
    "id": "xLKUJbP6GYgX"
   },
   "source": [
    "##### **SQL**\n"
   ]
  },
  {
   "cell_type": "markdown",
   "metadata": {
    "id": "ZqXYH_KTa6ir"
   },
   "source": [
    "Esta consulta obtiene los viajes en taxi más comunes en función del destino y del origen de la zona de Nueva York. Esta consulta se realizó mediante SQL y se ordenó la salida descendentemente para hacer un top 10 de los viajes más comunes."
   ]
  },
  {
   "cell_type": "code",
   "execution_count": 27,
   "metadata": {
    "id": "JWFE8aCJiqDE"
   },
   "outputs": [],
   "source": [
    "df_data_j.createOrReplaceTempView('data')\n",
    "results2 = spark.sql(\"SELECT COUNT(*) AS CANTIDAD_VIAJES, PUZone, DOZone \\\n",
    "                     FROM data \\\n",
    "                     GROUP BY PUZone, DOZone \\\n",
    "                     ORDER BY CANTIDAD_VIAJES DESC\")"
   ]
  },
  {
   "cell_type": "markdown",
   "source": [
    "Rendimiento:"
   ],
   "metadata": {
    "id": "014XZW_TIeF-"
   }
  },
  {
   "cell_type": "code",
   "execution_count": 28,
   "metadata": {
    "id": "J8kq2tWt_2wZ",
    "colab": {
     "base_uri": "https://localhost:8080/"
    },
    "outputId": "6fd4f16f-acbe-4ca5-d9ac-4f98fd4cdac9"
   },
   "outputs": [
    {
     "output_type": "stream",
     "name": "stdout",
     "text": [
      "Han transcurrido 77.698 segundos de ejecución.\n",
      "Cantidad de datos procesados: 923696\n",
      "Velocidad de procesamiento: 11888.29 registros/s\n"
     ]
    }
   ],
   "source": [
    "result_count2, tiempo_ejecucion2, velocidad_ejecucion2 =  calcularRendimiento(results2, cant_datos)\n",
    "interpretar_rendimiento(tiempo_ejecucion2 , velocidad_ejecucion2, cant_datos)"
   ]
  },
  {
   "cell_type": "code",
   "execution_count": 29,
   "metadata": {
    "id": "w3Js-naVAMOu",
    "colab": {
     "base_uri": "https://localhost:8080/",
     "height": 363
    },
    "outputId": "9020b4c5-8011-4b81-e4c1-2709705ed8f7"
   },
   "outputs": [
    {
     "output_type": "execute_result",
     "data": {
      "text/plain": [
       "   CANTIDAD_VIAJES                     PUZone                        DOZone\n",
       "0             3428      Upper East Side South         Upper East Side North\n",
       "1             3123      Upper East Side North         Upper East Side North\n",
       "2             3005      Upper East Side North         Upper East Side South\n",
       "3             2938  Times Sq/Theatre District     West Chelsea/Hudson Yards\n",
       "4             2804               East Village                  East Village\n",
       "5             2689      Upper East Side South         Upper East Side South\n",
       "6             2592      Upper West Side South           Lincoln Square East\n",
       "7             2533      Upper West Side South         Upper West Side North\n",
       "8             2465        Lincoln Square East         Upper West Side South\n",
       "9             2200  Times Sq/Theatre District  Penn Station/Madison Sq West"
      ],
      "text/html": [
       "\n",
       "  <div id=\"df-e302d363-81ae-406d-a96b-58d16b6ddef4\">\n",
       "    <div class=\"colab-df-container\">\n",
       "      <div>\n",
       "<style scoped>\n",
       "    .dataframe tbody tr th:only-of-type {\n",
       "        vertical-align: middle;\n",
       "    }\n",
       "\n",
       "    .dataframe tbody tr th {\n",
       "        vertical-align: top;\n",
       "    }\n",
       "\n",
       "    .dataframe thead th {\n",
       "        text-align: right;\n",
       "    }\n",
       "</style>\n",
       "<table border=\"1\" class=\"dataframe\">\n",
       "  <thead>\n",
       "    <tr style=\"text-align: right;\">\n",
       "      <th></th>\n",
       "      <th>CANTIDAD_VIAJES</th>\n",
       "      <th>PUZone</th>\n",
       "      <th>DOZone</th>\n",
       "    </tr>\n",
       "  </thead>\n",
       "  <tbody>\n",
       "    <tr>\n",
       "      <th>0</th>\n",
       "      <td>3428</td>\n",
       "      <td>Upper East Side South</td>\n",
       "      <td>Upper East Side North</td>\n",
       "    </tr>\n",
       "    <tr>\n",
       "      <th>1</th>\n",
       "      <td>3123</td>\n",
       "      <td>Upper East Side North</td>\n",
       "      <td>Upper East Side North</td>\n",
       "    </tr>\n",
       "    <tr>\n",
       "      <th>2</th>\n",
       "      <td>3005</td>\n",
       "      <td>Upper East Side North</td>\n",
       "      <td>Upper East Side South</td>\n",
       "    </tr>\n",
       "    <tr>\n",
       "      <th>3</th>\n",
       "      <td>2938</td>\n",
       "      <td>Times Sq/Theatre District</td>\n",
       "      <td>West Chelsea/Hudson Yards</td>\n",
       "    </tr>\n",
       "    <tr>\n",
       "      <th>4</th>\n",
       "      <td>2804</td>\n",
       "      <td>East Village</td>\n",
       "      <td>East Village</td>\n",
       "    </tr>\n",
       "    <tr>\n",
       "      <th>5</th>\n",
       "      <td>2689</td>\n",
       "      <td>Upper East Side South</td>\n",
       "      <td>Upper East Side South</td>\n",
       "    </tr>\n",
       "    <tr>\n",
       "      <th>6</th>\n",
       "      <td>2592</td>\n",
       "      <td>Upper West Side South</td>\n",
       "      <td>Lincoln Square East</td>\n",
       "    </tr>\n",
       "    <tr>\n",
       "      <th>7</th>\n",
       "      <td>2533</td>\n",
       "      <td>Upper West Side South</td>\n",
       "      <td>Upper West Side North</td>\n",
       "    </tr>\n",
       "    <tr>\n",
       "      <th>8</th>\n",
       "      <td>2465</td>\n",
       "      <td>Lincoln Square East</td>\n",
       "      <td>Upper West Side South</td>\n",
       "    </tr>\n",
       "    <tr>\n",
       "      <th>9</th>\n",
       "      <td>2200</td>\n",
       "      <td>Times Sq/Theatre District</td>\n",
       "      <td>Penn Station/Madison Sq West</td>\n",
       "    </tr>\n",
       "  </tbody>\n",
       "</table>\n",
       "</div>\n",
       "      <button class=\"colab-df-convert\" onclick=\"convertToInteractive('df-e302d363-81ae-406d-a96b-58d16b6ddef4')\"\n",
       "              title=\"Convert this dataframe to an interactive table.\"\n",
       "              style=\"display:none;\">\n",
       "        \n",
       "  <svg xmlns=\"http://www.w3.org/2000/svg\" height=\"24px\"viewBox=\"0 0 24 24\"\n",
       "       width=\"24px\">\n",
       "    <path d=\"M0 0h24v24H0V0z\" fill=\"none\"/>\n",
       "    <path d=\"M18.56 5.44l.94 2.06.94-2.06 2.06-.94-2.06-.94-.94-2.06-.94 2.06-2.06.94zm-11 1L8.5 8.5l.94-2.06 2.06-.94-2.06-.94L8.5 2.5l-.94 2.06-2.06.94zm10 10l.94 2.06.94-2.06 2.06-.94-2.06-.94-.94-2.06-.94 2.06-2.06.94z\"/><path d=\"M17.41 7.96l-1.37-1.37c-.4-.4-.92-.59-1.43-.59-.52 0-1.04.2-1.43.59L10.3 9.45l-7.72 7.72c-.78.78-.78 2.05 0 2.83L4 21.41c.39.39.9.59 1.41.59.51 0 1.02-.2 1.41-.59l7.78-7.78 2.81-2.81c.8-.78.8-2.07 0-2.86zM5.41 20L4 18.59l7.72-7.72 1.47 1.35L5.41 20z\"/>\n",
       "  </svg>\n",
       "      </button>\n",
       "      \n",
       "  <style>\n",
       "    .colab-df-container {\n",
       "      display:flex;\n",
       "      flex-wrap:wrap;\n",
       "      gap: 12px;\n",
       "    }\n",
       "\n",
       "    .colab-df-convert {\n",
       "      background-color: #E8F0FE;\n",
       "      border: none;\n",
       "      border-radius: 50%;\n",
       "      cursor: pointer;\n",
       "      display: none;\n",
       "      fill: #1967D2;\n",
       "      height: 32px;\n",
       "      padding: 0 0 0 0;\n",
       "      width: 32px;\n",
       "    }\n",
       "\n",
       "    .colab-df-convert:hover {\n",
       "      background-color: #E2EBFA;\n",
       "      box-shadow: 0px 1px 2px rgba(60, 64, 67, 0.3), 0px 1px 3px 1px rgba(60, 64, 67, 0.15);\n",
       "      fill: #174EA6;\n",
       "    }\n",
       "\n",
       "    [theme=dark] .colab-df-convert {\n",
       "      background-color: #3B4455;\n",
       "      fill: #D2E3FC;\n",
       "    }\n",
       "\n",
       "    [theme=dark] .colab-df-convert:hover {\n",
       "      background-color: #434B5C;\n",
       "      box-shadow: 0px 1px 3px 1px rgba(0, 0, 0, 0.15);\n",
       "      filter: drop-shadow(0px 1px 2px rgba(0, 0, 0, 0.3));\n",
       "      fill: #FFFFFF;\n",
       "    }\n",
       "  </style>\n",
       "\n",
       "      <script>\n",
       "        const buttonEl =\n",
       "          document.querySelector('#df-e302d363-81ae-406d-a96b-58d16b6ddef4 button.colab-df-convert');\n",
       "        buttonEl.style.display =\n",
       "          google.colab.kernel.accessAllowed ? 'block' : 'none';\n",
       "\n",
       "        async function convertToInteractive(key) {\n",
       "          const element = document.querySelector('#df-e302d363-81ae-406d-a96b-58d16b6ddef4');\n",
       "          const dataTable =\n",
       "            await google.colab.kernel.invokeFunction('convertToInteractive',\n",
       "                                                     [key], {});\n",
       "          if (!dataTable) return;\n",
       "\n",
       "          const docLinkHtml = 'Like what you see? Visit the ' +\n",
       "            '<a target=\"_blank\" href=https://colab.research.google.com/notebooks/data_table.ipynb>data table notebook</a>'\n",
       "            + ' to learn more about interactive tables.';\n",
       "          element.innerHTML = '';\n",
       "          dataTable['output_type'] = 'display_data';\n",
       "          await google.colab.output.renderOutput(dataTable, element);\n",
       "          const docLink = document.createElement('div');\n",
       "          docLink.innerHTML = docLinkHtml;\n",
       "          element.appendChild(docLink);\n",
       "        }\n",
       "      </script>\n",
       "    </div>\n",
       "  </div>\n",
       "  "
      ]
     },
     "metadata": {},
     "execution_count": 29
    }
   ],
   "source": [
    "mostar_resultados_sql_df(results2)"
   ]
  },
  {
   "cell_type": "markdown",
   "metadata": {
    "id": "dp63W6XhGdvc"
   },
   "source": [
    "##### **RDD**\n"
   ]
  },
  {
   "cell_type": "markdown",
   "metadata": {
    "id": "36UxQ8y4a6is"
   },
   "source": [
    "Esta consulta tiene el mismo propósito que la anterior, pero se realizó mediante RDD, empleando map y reduceByKey"
   ]
  },
  {
   "cell_type": "code",
   "execution_count": 30,
   "metadata": {
    "id": "c1L2-W7Kmmet"
   },
   "outputs": [],
   "source": [
    "results3 = df_data_j.rdd.map(lambda x: (str(x.PUBorough + \" [\" + x.PUZone + \"]\" + \" -> \" + x.PUBorough + \" [\" + x.DOZone + \"]\"), 1)) \\\n",
    "                       .reduceByKey(add) \\\n",
    "                       .sortBy(lambda x: x[1], False)"
   ]
  },
  {
   "cell_type": "markdown",
   "source": [
    "Rendimiento:"
   ],
   "metadata": {
    "id": "w63JSCW7KFhr"
   }
  },
  {
   "cell_type": "code",
   "execution_count": 31,
   "metadata": {
    "id": "QX7ah_I2BgzO",
    "colab": {
     "base_uri": "https://localhost:8080/"
    },
    "outputId": "baab0d98-4d98-4831-98e5-48d8e0822296"
   },
   "outputs": [
    {
     "output_type": "stream",
     "name": "stdout",
     "text": [
      "Han transcurrido 13.721 segundos de ejecución.\n",
      "Cantidad de datos procesados: 923696\n",
      "Velocidad de procesamiento: 67319.87 registros/s\n"
     ]
    }
   ],
   "source": [
    "result_count3, tiempo_ejecucion3, velocidad_ejecucion3 =  calcularRendimiento(results3, cant_datos)\n",
    "interpretar_rendimiento(tiempo_ejecucion3 , velocidad_ejecucion3, cant_datos)"
   ]
  },
  {
   "cell_type": "code",
   "execution_count": 32,
   "metadata": {
    "id": "yVJ8Bp2OBdmo",
    "colab": {
     "base_uri": "https://localhost:8080/",
     "height": 363
    },
    "outputId": "ba325d9d-29a3-42e8-a7da-b77bd1fb2895"
   },
   "outputs": [
    {
     "output_type": "execute_result",
     "data": {
      "text/plain": [
       "<pandas.io.formats.style.Styler at 0x7f6cdd4aaa90>"
      ],
      "text/html": [
       "<style type=\"text/css\">\n",
       "</style>\n",
       "<table id=\"T_be408_\" class=\"dataframe\">\n",
       "  <thead>\n",
       "    <tr>\n",
       "      <th class=\"blank level0\" >&nbsp;</th>\n",
       "      <th class=\"col_heading level0 col0\" >Trayecto</th>\n",
       "      <th class=\"col_heading level0 col1\" >Cantidad de Viajes</th>\n",
       "    </tr>\n",
       "  </thead>\n",
       "  <tbody>\n",
       "    <tr>\n",
       "      <th id=\"T_be408_level0_row0\" class=\"row_heading level0 row0\" >0</th>\n",
       "      <td id=\"T_be408_row0_col0\" class=\"data row0 col0\" >Manhattan [Upper East Side South] -> Manhattan [Upper East Side North]</td>\n",
       "      <td id=\"T_be408_row0_col1\" class=\"data row0 col1\" >3428</td>\n",
       "    </tr>\n",
       "    <tr>\n",
       "      <th id=\"T_be408_level0_row1\" class=\"row_heading level0 row1\" >1</th>\n",
       "      <td id=\"T_be408_row1_col0\" class=\"data row1 col0\" >Manhattan [Upper East Side North] -> Manhattan [Upper East Side North]</td>\n",
       "      <td id=\"T_be408_row1_col1\" class=\"data row1 col1\" >3123</td>\n",
       "    </tr>\n",
       "    <tr>\n",
       "      <th id=\"T_be408_level0_row2\" class=\"row_heading level0 row2\" >2</th>\n",
       "      <td id=\"T_be408_row2_col0\" class=\"data row2 col0\" >Manhattan [Upper East Side North] -> Manhattan [Upper East Side South]</td>\n",
       "      <td id=\"T_be408_row2_col1\" class=\"data row2 col1\" >3005</td>\n",
       "    </tr>\n",
       "    <tr>\n",
       "      <th id=\"T_be408_level0_row3\" class=\"row_heading level0 row3\" >3</th>\n",
       "      <td id=\"T_be408_row3_col0\" class=\"data row3 col0\" >Manhattan [Times Sq/Theatre District] -> Manhattan [West Chelsea/Hudson Yards]</td>\n",
       "      <td id=\"T_be408_row3_col1\" class=\"data row3 col1\" >2938</td>\n",
       "    </tr>\n",
       "    <tr>\n",
       "      <th id=\"T_be408_level0_row4\" class=\"row_heading level0 row4\" >4</th>\n",
       "      <td id=\"T_be408_row4_col0\" class=\"data row4 col0\" >Manhattan [East Village] -> Manhattan [East Village]</td>\n",
       "      <td id=\"T_be408_row4_col1\" class=\"data row4 col1\" >2804</td>\n",
       "    </tr>\n",
       "    <tr>\n",
       "      <th id=\"T_be408_level0_row5\" class=\"row_heading level0 row5\" >5</th>\n",
       "      <td id=\"T_be408_row5_col0\" class=\"data row5 col0\" >Manhattan [Upper East Side South] -> Manhattan [Upper East Side South]</td>\n",
       "      <td id=\"T_be408_row5_col1\" class=\"data row5 col1\" >2689</td>\n",
       "    </tr>\n",
       "    <tr>\n",
       "      <th id=\"T_be408_level0_row6\" class=\"row_heading level0 row6\" >6</th>\n",
       "      <td id=\"T_be408_row6_col0\" class=\"data row6 col0\" >Manhattan [Upper West Side South] -> Manhattan [Lincoln Square East]</td>\n",
       "      <td id=\"T_be408_row6_col1\" class=\"data row6 col1\" >2592</td>\n",
       "    </tr>\n",
       "    <tr>\n",
       "      <th id=\"T_be408_level0_row7\" class=\"row_heading level0 row7\" >7</th>\n",
       "      <td id=\"T_be408_row7_col0\" class=\"data row7 col0\" >Manhattan [Upper West Side South] -> Manhattan [Upper West Side North]</td>\n",
       "      <td id=\"T_be408_row7_col1\" class=\"data row7 col1\" >2533</td>\n",
       "    </tr>\n",
       "    <tr>\n",
       "      <th id=\"T_be408_level0_row8\" class=\"row_heading level0 row8\" >8</th>\n",
       "      <td id=\"T_be408_row8_col0\" class=\"data row8 col0\" >Manhattan [Lincoln Square East] -> Manhattan [Upper West Side South]</td>\n",
       "      <td id=\"T_be408_row8_col1\" class=\"data row8 col1\" >2465</td>\n",
       "    </tr>\n",
       "    <tr>\n",
       "      <th id=\"T_be408_level0_row9\" class=\"row_heading level0 row9\" >9</th>\n",
       "      <td id=\"T_be408_row9_col0\" class=\"data row9 col0\" >Manhattan [Times Sq/Theatre District] -> Manhattan [Penn Station/Madison Sq West]</td>\n",
       "      <td id=\"T_be408_row9_col1\" class=\"data row9 col1\" >2200</td>\n",
       "    </tr>\n",
       "  </tbody>\n",
       "</table>\n"
      ]
     },
     "metadata": {},
     "execution_count": 32
    }
   ],
   "source": [
    "mostrar_resultados_rdd(results3,['Trayecto', 'Cantidad de Viajes'])"
   ]
  },
  {
   "cell_type": "markdown",
   "metadata": {
    "id": "XbkU7nbXNIAX"
   },
   "source": [
    "## Consulta #3: Propina media en funcion del número de pasajeros"
   ]
  },
  {
   "cell_type": "markdown",
   "metadata": {
    "id": "An29BOqrNsa_"
   },
   "source": [
    "##### **SQL**\n"
   ]
  },
  {
   "cell_type": "markdown",
   "metadata": {
    "id": "KY2IMKNHa6iu"
   },
   "source": [
    "Para obtener el resultado deseado mediante SQL agrupamos el resultado por el número de pasajeros y para cada uno se realiza la media."
   ]
  },
  {
   "cell_type": "code",
   "execution_count": 33,
   "metadata": {
    "id": "HfFii7dkDahv"
   },
   "outputs": [],
   "source": [
    "df_data_j.createOrReplaceTempView('data')\n",
    "results4 = spark.sql(\"SELECT passenger_count, AVG(tip_amount) \\\n",
    "                     FROM data \\\n",
    "                     GROUP BY passenger_count \\\n",
    "                     ORDER BY passenger_count ASC\")"
   ]
  },
  {
   "cell_type": "markdown",
   "source": [
    "Rendimiento:"
   ],
   "metadata": {
    "id": "YDwwYDmwNzSD"
   }
  },
  {
   "cell_type": "code",
   "execution_count": 34,
   "metadata": {
    "colab": {
     "base_uri": "https://localhost:8080/"
    },
    "id": "05IC3bo4CL2E",
    "outputId": "b4147fa1-2dc3-4b57-947c-d40a76e7c145"
   },
   "outputs": [
    {
     "output_type": "stream",
     "name": "stdout",
     "text": [
      "Han transcurrido 75.909 segundos de ejecución.\n",
      "Cantidad de datos procesados: 923696\n",
      "Velocidad de procesamiento: 12168.46 registros/s\n"
     ]
    }
   ],
   "source": [
    "result_count4 , tiempo_ejecucion4 , velocidad_ejecucion4 =  calcularRendimiento(results4, cant_datos)\n",
    "interpretar_rendimiento(tiempo_ejecucion4 , velocidad_ejecucion4, cant_datos)"
   ]
  },
  {
   "cell_type": "code",
   "execution_count": 35,
   "metadata": {
    "id": "AmiX4JgWCSu7",
    "colab": {
     "base_uri": "https://localhost:8080/",
     "height": 237
    },
    "outputId": "b8b8efa1-3fc7-4458-d2d8-3f4face568df"
   },
   "outputs": [
    {
     "output_type": "execute_result",
     "data": {
      "text/plain": [
       "   passenger_count  avg(tip_amount)\n",
       "0                1         1.425553\n",
       "1                2         1.430132\n",
       "2                3         1.349700\n",
       "3                4         1.205851\n",
       "4                5         1.425809\n",
       "5                6         1.400791"
      ],
      "text/html": [
       "\n",
       "  <div id=\"df-5f6a6e85-a678-4248-92b8-45259b13b5f9\">\n",
       "    <div class=\"colab-df-container\">\n",
       "      <div>\n",
       "<style scoped>\n",
       "    .dataframe tbody tr th:only-of-type {\n",
       "        vertical-align: middle;\n",
       "    }\n",
       "\n",
       "    .dataframe tbody tr th {\n",
       "        vertical-align: top;\n",
       "    }\n",
       "\n",
       "    .dataframe thead th {\n",
       "        text-align: right;\n",
       "    }\n",
       "</style>\n",
       "<table border=\"1\" class=\"dataframe\">\n",
       "  <thead>\n",
       "    <tr style=\"text-align: right;\">\n",
       "      <th></th>\n",
       "      <th>passenger_count</th>\n",
       "      <th>avg(tip_amount)</th>\n",
       "    </tr>\n",
       "  </thead>\n",
       "  <tbody>\n",
       "    <tr>\n",
       "      <th>0</th>\n",
       "      <td>1</td>\n",
       "      <td>1.425553</td>\n",
       "    </tr>\n",
       "    <tr>\n",
       "      <th>1</th>\n",
       "      <td>2</td>\n",
       "      <td>1.430132</td>\n",
       "    </tr>\n",
       "    <tr>\n",
       "      <th>2</th>\n",
       "      <td>3</td>\n",
       "      <td>1.349700</td>\n",
       "    </tr>\n",
       "    <tr>\n",
       "      <th>3</th>\n",
       "      <td>4</td>\n",
       "      <td>1.205851</td>\n",
       "    </tr>\n",
       "    <tr>\n",
       "      <th>4</th>\n",
       "      <td>5</td>\n",
       "      <td>1.425809</td>\n",
       "    </tr>\n",
       "    <tr>\n",
       "      <th>5</th>\n",
       "      <td>6</td>\n",
       "      <td>1.400791</td>\n",
       "    </tr>\n",
       "  </tbody>\n",
       "</table>\n",
       "</div>\n",
       "      <button class=\"colab-df-convert\" onclick=\"convertToInteractive('df-5f6a6e85-a678-4248-92b8-45259b13b5f9')\"\n",
       "              title=\"Convert this dataframe to an interactive table.\"\n",
       "              style=\"display:none;\">\n",
       "        \n",
       "  <svg xmlns=\"http://www.w3.org/2000/svg\" height=\"24px\"viewBox=\"0 0 24 24\"\n",
       "       width=\"24px\">\n",
       "    <path d=\"M0 0h24v24H0V0z\" fill=\"none\"/>\n",
       "    <path d=\"M18.56 5.44l.94 2.06.94-2.06 2.06-.94-2.06-.94-.94-2.06-.94 2.06-2.06.94zm-11 1L8.5 8.5l.94-2.06 2.06-.94-2.06-.94L8.5 2.5l-.94 2.06-2.06.94zm10 10l.94 2.06.94-2.06 2.06-.94-2.06-.94-.94-2.06-.94 2.06-2.06.94z\"/><path d=\"M17.41 7.96l-1.37-1.37c-.4-.4-.92-.59-1.43-.59-.52 0-1.04.2-1.43.59L10.3 9.45l-7.72 7.72c-.78.78-.78 2.05 0 2.83L4 21.41c.39.39.9.59 1.41.59.51 0 1.02-.2 1.41-.59l7.78-7.78 2.81-2.81c.8-.78.8-2.07 0-2.86zM5.41 20L4 18.59l7.72-7.72 1.47 1.35L5.41 20z\"/>\n",
       "  </svg>\n",
       "      </button>\n",
       "      \n",
       "  <style>\n",
       "    .colab-df-container {\n",
       "      display:flex;\n",
       "      flex-wrap:wrap;\n",
       "      gap: 12px;\n",
       "    }\n",
       "\n",
       "    .colab-df-convert {\n",
       "      background-color: #E8F0FE;\n",
       "      border: none;\n",
       "      border-radius: 50%;\n",
       "      cursor: pointer;\n",
       "      display: none;\n",
       "      fill: #1967D2;\n",
       "      height: 32px;\n",
       "      padding: 0 0 0 0;\n",
       "      width: 32px;\n",
       "    }\n",
       "\n",
       "    .colab-df-convert:hover {\n",
       "      background-color: #E2EBFA;\n",
       "      box-shadow: 0px 1px 2px rgba(60, 64, 67, 0.3), 0px 1px 3px 1px rgba(60, 64, 67, 0.15);\n",
       "      fill: #174EA6;\n",
       "    }\n",
       "\n",
       "    [theme=dark] .colab-df-convert {\n",
       "      background-color: #3B4455;\n",
       "      fill: #D2E3FC;\n",
       "    }\n",
       "\n",
       "    [theme=dark] .colab-df-convert:hover {\n",
       "      background-color: #434B5C;\n",
       "      box-shadow: 0px 1px 3px 1px rgba(0, 0, 0, 0.15);\n",
       "      filter: drop-shadow(0px 1px 2px rgba(0, 0, 0, 0.3));\n",
       "      fill: #FFFFFF;\n",
       "    }\n",
       "  </style>\n",
       "\n",
       "      <script>\n",
       "        const buttonEl =\n",
       "          document.querySelector('#df-5f6a6e85-a678-4248-92b8-45259b13b5f9 button.colab-df-convert');\n",
       "        buttonEl.style.display =\n",
       "          google.colab.kernel.accessAllowed ? 'block' : 'none';\n",
       "\n",
       "        async function convertToInteractive(key) {\n",
       "          const element = document.querySelector('#df-5f6a6e85-a678-4248-92b8-45259b13b5f9');\n",
       "          const dataTable =\n",
       "            await google.colab.kernel.invokeFunction('convertToInteractive',\n",
       "                                                     [key], {});\n",
       "          if (!dataTable) return;\n",
       "\n",
       "          const docLinkHtml = 'Like what you see? Visit the ' +\n",
       "            '<a target=\"_blank\" href=https://colab.research.google.com/notebooks/data_table.ipynb>data table notebook</a>'\n",
       "            + ' to learn more about interactive tables.';\n",
       "          element.innerHTML = '';\n",
       "          dataTable['output_type'] = 'display_data';\n",
       "          await google.colab.output.renderOutput(dataTable, element);\n",
       "          const docLink = document.createElement('div');\n",
       "          docLink.innerHTML = docLinkHtml;\n",
       "          element.appendChild(docLink);\n",
       "        }\n",
       "      </script>\n",
       "    </div>\n",
       "  </div>\n",
       "  "
      ]
     },
     "metadata": {},
     "execution_count": 35
    }
   ],
   "source": [
    "mostar_resultados_sql_df(results4)"
   ]
  },
  {
   "cell_type": "markdown",
   "metadata": {
    "id": "-lfYHU5XRgeT"
   },
   "source": [
    "##### **RDD**\n"
   ]
  },
  {
   "cell_type": "markdown",
   "metadata": {
    "id": "EpjiUbcea6iw"
   },
   "source": [
    "Para obtener el resultado deseado mediante RDD Se usarán las funciones de transformación map y reduceByKey mediante cual se asignará a cada clave (Passenger_count) el valor de la propina media que le corresponde a cada una."
   ]
  },
  {
   "cell_type": "code",
   "execution_count": 36,
   "metadata": {
    "id": "fHvt8dfALlIu"
   },
   "outputs": [],
   "source": [
    "results5 = df_data_j.rdd.map(lambda x: (x.passenger_count, (x.tip_amount, 1))) \\\n",
    "                       .reduceByKey(lambda x, y: (x[0]+y[0], x[1]+y[1])) \\\n",
    "                       .map(lambda x: (x[0], x[1][0] / x[1][1]))"
   ]
  },
  {
   "cell_type": "markdown",
   "source": [
    "Rendimiento:"
   ],
   "metadata": {
    "id": "FFt_t-g7Sm2u"
   }
  },
  {
   "cell_type": "code",
   "execution_count": 37,
   "metadata": {
    "colab": {
     "base_uri": "https://localhost:8080/"
    },
    "id": "FPB00djEDlDU",
    "outputId": "9fa3c62a-7b15-4bbc-de67-e5f5279821e8"
   },
   "outputs": [
    {
     "output_type": "stream",
     "name": "stdout",
     "text": [
      "Han transcurrido 28.164 segundos de ejecución.\n",
      "Cantidad de datos procesados: 923696\n",
      "Velocidad de procesamiento: 32797.05 registros/s\n"
     ]
    }
   ],
   "source": [
    "result_count5, tiempo_ejecucion5, velocidad_ejecucion5 =  calcularRendimiento(results5, cant_datos)\n",
    "interpretar_rendimiento(tiempo_ejecucion5, velocidad_ejecucion5, cant_datos)"
   ]
  },
  {
   "cell_type": "code",
   "execution_count": 38,
   "metadata": {
    "colab": {
     "base_uri": "https://localhost:8080/",
     "height": 237
    },
    "id": "ZK0M_uvLDqaW",
    "outputId": "585acff6-8680-4176-c39f-1ea0453c163c"
   },
   "outputs": [
    {
     "output_type": "execute_result",
     "data": {
      "text/plain": [
       "<pandas.io.formats.style.Styler at 0x7f6cdd3fb150>"
      ],
      "text/html": [
       "<style type=\"text/css\">\n",
       "</style>\n",
       "<table id=\"T_008ec_\" class=\"dataframe\">\n",
       "  <thead>\n",
       "    <tr>\n",
       "      <th class=\"blank level0\" >&nbsp;</th>\n",
       "      <th class=\"col_heading level0 col0\" >Número de pasajeros</th>\n",
       "      <th class=\"col_heading level0 col1\" >Propina media</th>\n",
       "    </tr>\n",
       "  </thead>\n",
       "  <tbody>\n",
       "    <tr>\n",
       "      <th id=\"T_008ec_level0_row0\" class=\"row_heading level0 row0\" >0</th>\n",
       "      <td id=\"T_008ec_row0_col0\" class=\"data row0 col0\" >1</td>\n",
       "      <td id=\"T_008ec_row0_col1\" class=\"data row0 col1\" >1.425553</td>\n",
       "    </tr>\n",
       "    <tr>\n",
       "      <th id=\"T_008ec_level0_row1\" class=\"row_heading level0 row1\" >1</th>\n",
       "      <td id=\"T_008ec_row1_col0\" class=\"data row1 col0\" >2</td>\n",
       "      <td id=\"T_008ec_row1_col1\" class=\"data row1 col1\" >1.430132</td>\n",
       "    </tr>\n",
       "    <tr>\n",
       "      <th id=\"T_008ec_level0_row2\" class=\"row_heading level0 row2\" >2</th>\n",
       "      <td id=\"T_008ec_row2_col0\" class=\"data row2 col0\" >3</td>\n",
       "      <td id=\"T_008ec_row2_col1\" class=\"data row2 col1\" >1.349700</td>\n",
       "    </tr>\n",
       "    <tr>\n",
       "      <th id=\"T_008ec_level0_row3\" class=\"row_heading level0 row3\" >3</th>\n",
       "      <td id=\"T_008ec_row3_col0\" class=\"data row3 col0\" >4</td>\n",
       "      <td id=\"T_008ec_row3_col1\" class=\"data row3 col1\" >1.205851</td>\n",
       "    </tr>\n",
       "    <tr>\n",
       "      <th id=\"T_008ec_level0_row4\" class=\"row_heading level0 row4\" >4</th>\n",
       "      <td id=\"T_008ec_row4_col0\" class=\"data row4 col0\" >5</td>\n",
       "      <td id=\"T_008ec_row4_col1\" class=\"data row4 col1\" >1.425809</td>\n",
       "    </tr>\n",
       "    <tr>\n",
       "      <th id=\"T_008ec_level0_row5\" class=\"row_heading level0 row5\" >5</th>\n",
       "      <td id=\"T_008ec_row5_col0\" class=\"data row5 col0\" >6</td>\n",
       "      <td id=\"T_008ec_row5_col1\" class=\"data row5 col1\" >1.400791</td>\n",
       "    </tr>\n",
       "  </tbody>\n",
       "</table>\n"
      ]
     },
     "metadata": {},
     "execution_count": 38
    }
   ],
   "source": [
    "mostrar_resultados_rdd(results5,['Número de pasajeros', 'Propina media'])"
   ]
  },
  {
   "cell_type": "markdown",
   "metadata": {
    "id": "e631IxM0RnZk"
   },
   "source": [
    "##### **DataFrame**\n"
   ]
  },
  {
   "cell_type": "markdown",
   "metadata": {
    "id": "ETdiPqawa6iv"
   },
   "source": [
    "El resultado se obtiene aplicando una agrupación por el campo \"passenger_count\", donde con el resultado obtenido se realiza una agregación por \"tip_amount\" (propina) y se ordena ascendentemente por el número de pasajeros."
   ]
  },
  {
   "cell_type": "code",
   "execution_count": 39,
   "metadata": {
    "id": "YPaJyoltRl-Z"
   },
   "outputs": [],
   "source": [
    "results6 = df_data_j.groupBy(\"passenger_count\") \\\n",
    "                   .agg(F.mean('tip_amount'), F.min('tip_amount'), F.max('tip_amount')) \\\n",
    "                   .orderBy('passenger_count')"
   ]
  },
  {
   "cell_type": "markdown",
   "source": [
    "Rendimiento:"
   ],
   "metadata": {
    "id": "uz0GwXaATWtB"
   }
  },
  {
   "cell_type": "code",
   "execution_count": 40,
   "metadata": {
    "colab": {
     "base_uri": "https://localhost:8080/"
    },
    "id": "RdM3bgqjCvqG",
    "outputId": "ebf7c136-1384-47e8-88e5-feb5e376f4ba"
   },
   "outputs": [
    {
     "output_type": "stream",
     "name": "stdout",
     "text": [
      "Han transcurrido 74.708 segundos de ejecución.\n",
      "Cantidad de datos procesados: 923696\n",
      "Velocidad de procesamiento: 12364.08 registros/s\n"
     ]
    }
   ],
   "source": [
    "result_count6, tiempo_ejecucion6, velocidad_ejecucion6 =  calcularRendimiento(results6, cant_datos)\n",
    "interpretar_rendimiento(tiempo_ejecucion6, velocidad_ejecucion6, cant_datos)"
   ]
  },
  {
   "cell_type": "code",
   "execution_count": 41,
   "metadata": {
    "colab": {
     "base_uri": "https://localhost:8080/",
     "height": 237
    },
    "id": "qYSXD3osC_s5",
    "outputId": "d28387e9-dbfa-4c15-ef30-e8a44252f24d"
   },
   "outputs": [
    {
     "output_type": "execute_result",
     "data": {
      "text/plain": [
       "   passenger_count  avg(tip_amount)  min(tip_amount)  max(tip_amount)\n",
       "0                1         1.425553              0.0             8.79\n",
       "1                2         1.430132              0.0             8.79\n",
       "2                3         1.349700              0.0             8.79\n",
       "3                4         1.205851              0.0             8.77\n",
       "4                5         1.425809              0.0             8.79\n",
       "5                6         1.400791              0.0             8.79"
      ],
      "text/html": [
       "\n",
       "  <div id=\"df-19eb1745-c9ae-40bc-81ac-1f3aa662e6cf\">\n",
       "    <div class=\"colab-df-container\">\n",
       "      <div>\n",
       "<style scoped>\n",
       "    .dataframe tbody tr th:only-of-type {\n",
       "        vertical-align: middle;\n",
       "    }\n",
       "\n",
       "    .dataframe tbody tr th {\n",
       "        vertical-align: top;\n",
       "    }\n",
       "\n",
       "    .dataframe thead th {\n",
       "        text-align: right;\n",
       "    }\n",
       "</style>\n",
       "<table border=\"1\" class=\"dataframe\">\n",
       "  <thead>\n",
       "    <tr style=\"text-align: right;\">\n",
       "      <th></th>\n",
       "      <th>passenger_count</th>\n",
       "      <th>avg(tip_amount)</th>\n",
       "      <th>min(tip_amount)</th>\n",
       "      <th>max(tip_amount)</th>\n",
       "    </tr>\n",
       "  </thead>\n",
       "  <tbody>\n",
       "    <tr>\n",
       "      <th>0</th>\n",
       "      <td>1</td>\n",
       "      <td>1.425553</td>\n",
       "      <td>0.0</td>\n",
       "      <td>8.79</td>\n",
       "    </tr>\n",
       "    <tr>\n",
       "      <th>1</th>\n",
       "      <td>2</td>\n",
       "      <td>1.430132</td>\n",
       "      <td>0.0</td>\n",
       "      <td>8.79</td>\n",
       "    </tr>\n",
       "    <tr>\n",
       "      <th>2</th>\n",
       "      <td>3</td>\n",
       "      <td>1.349700</td>\n",
       "      <td>0.0</td>\n",
       "      <td>8.79</td>\n",
       "    </tr>\n",
       "    <tr>\n",
       "      <th>3</th>\n",
       "      <td>4</td>\n",
       "      <td>1.205851</td>\n",
       "      <td>0.0</td>\n",
       "      <td>8.77</td>\n",
       "    </tr>\n",
       "    <tr>\n",
       "      <th>4</th>\n",
       "      <td>5</td>\n",
       "      <td>1.425809</td>\n",
       "      <td>0.0</td>\n",
       "      <td>8.79</td>\n",
       "    </tr>\n",
       "    <tr>\n",
       "      <th>5</th>\n",
       "      <td>6</td>\n",
       "      <td>1.400791</td>\n",
       "      <td>0.0</td>\n",
       "      <td>8.79</td>\n",
       "    </tr>\n",
       "  </tbody>\n",
       "</table>\n",
       "</div>\n",
       "      <button class=\"colab-df-convert\" onclick=\"convertToInteractive('df-19eb1745-c9ae-40bc-81ac-1f3aa662e6cf')\"\n",
       "              title=\"Convert this dataframe to an interactive table.\"\n",
       "              style=\"display:none;\">\n",
       "        \n",
       "  <svg xmlns=\"http://www.w3.org/2000/svg\" height=\"24px\"viewBox=\"0 0 24 24\"\n",
       "       width=\"24px\">\n",
       "    <path d=\"M0 0h24v24H0V0z\" fill=\"none\"/>\n",
       "    <path d=\"M18.56 5.44l.94 2.06.94-2.06 2.06-.94-2.06-.94-.94-2.06-.94 2.06-2.06.94zm-11 1L8.5 8.5l.94-2.06 2.06-.94-2.06-.94L8.5 2.5l-.94 2.06-2.06.94zm10 10l.94 2.06.94-2.06 2.06-.94-2.06-.94-.94-2.06-.94 2.06-2.06.94z\"/><path d=\"M17.41 7.96l-1.37-1.37c-.4-.4-.92-.59-1.43-.59-.52 0-1.04.2-1.43.59L10.3 9.45l-7.72 7.72c-.78.78-.78 2.05 0 2.83L4 21.41c.39.39.9.59 1.41.59.51 0 1.02-.2 1.41-.59l7.78-7.78 2.81-2.81c.8-.78.8-2.07 0-2.86zM5.41 20L4 18.59l7.72-7.72 1.47 1.35L5.41 20z\"/>\n",
       "  </svg>\n",
       "      </button>\n",
       "      \n",
       "  <style>\n",
       "    .colab-df-container {\n",
       "      display:flex;\n",
       "      flex-wrap:wrap;\n",
       "      gap: 12px;\n",
       "    }\n",
       "\n",
       "    .colab-df-convert {\n",
       "      background-color: #E8F0FE;\n",
       "      border: none;\n",
       "      border-radius: 50%;\n",
       "      cursor: pointer;\n",
       "      display: none;\n",
       "      fill: #1967D2;\n",
       "      height: 32px;\n",
       "      padding: 0 0 0 0;\n",
       "      width: 32px;\n",
       "    }\n",
       "\n",
       "    .colab-df-convert:hover {\n",
       "      background-color: #E2EBFA;\n",
       "      box-shadow: 0px 1px 2px rgba(60, 64, 67, 0.3), 0px 1px 3px 1px rgba(60, 64, 67, 0.15);\n",
       "      fill: #174EA6;\n",
       "    }\n",
       "\n",
       "    [theme=dark] .colab-df-convert {\n",
       "      background-color: #3B4455;\n",
       "      fill: #D2E3FC;\n",
       "    }\n",
       "\n",
       "    [theme=dark] .colab-df-convert:hover {\n",
       "      background-color: #434B5C;\n",
       "      box-shadow: 0px 1px 3px 1px rgba(0, 0, 0, 0.15);\n",
       "      filter: drop-shadow(0px 1px 2px rgba(0, 0, 0, 0.3));\n",
       "      fill: #FFFFFF;\n",
       "    }\n",
       "  </style>\n",
       "\n",
       "      <script>\n",
       "        const buttonEl =\n",
       "          document.querySelector('#df-19eb1745-c9ae-40bc-81ac-1f3aa662e6cf button.colab-df-convert');\n",
       "        buttonEl.style.display =\n",
       "          google.colab.kernel.accessAllowed ? 'block' : 'none';\n",
       "\n",
       "        async function convertToInteractive(key) {\n",
       "          const element = document.querySelector('#df-19eb1745-c9ae-40bc-81ac-1f3aa662e6cf');\n",
       "          const dataTable =\n",
       "            await google.colab.kernel.invokeFunction('convertToInteractive',\n",
       "                                                     [key], {});\n",
       "          if (!dataTable) return;\n",
       "\n",
       "          const docLinkHtml = 'Like what you see? Visit the ' +\n",
       "            '<a target=\"_blank\" href=https://colab.research.google.com/notebooks/data_table.ipynb>data table notebook</a>'\n",
       "            + ' to learn more about interactive tables.';\n",
       "          element.innerHTML = '';\n",
       "          dataTable['output_type'] = 'display_data';\n",
       "          await google.colab.output.renderOutput(dataTable, element);\n",
       "          const docLink = document.createElement('div');\n",
       "          docLink.innerHTML = docLinkHtml;\n",
       "          element.appendChild(docLink);\n",
       "        }\n",
       "      </script>\n",
       "    </div>\n",
       "  </div>\n",
       "  "
      ]
     },
     "metadata": {},
     "execution_count": 41
    }
   ],
   "source": [
    "mostar_resultados_sql_df(results6)"
   ]
  },
  {
   "cell_type": "markdown",
   "source": [
    "## Guardando los resultados"
   ],
   "metadata": {
    "id": "83Uo9FecjzHQ"
   }
  },
  {
   "cell_type": "code",
   "source": [
    "final_results_df = pd.DataFrame([\n",
    "  [result_count1, tiempo_ejecucion1, velocidad_ejecucion1],\n",
    "  [result_count2, tiempo_ejecucion2, velocidad_ejecucion2],\n",
    "  [result_count3, tiempo_ejecucion3, velocidad_ejecucion3],\n",
    "  [result_count4, tiempo_ejecucion4, velocidad_ejecucion4],\n",
    "  [result_count5, tiempo_ejecucion5, velocidad_ejecucion5],\n",
    "  [result_count6, tiempo_ejecucion6, velocidad_ejecucion6],\n",
    "], index=[\"c1_rdd\", \"c2_sql\", \"c2_rdd\", \"c3_sql\", \"c3_rdd\", \"c3_df\"], columns = [\"count\", \"tiempo\", \"velocidad\"])\n",
    "final_results_df.index.name = \"id\"\n",
    "final_results_df"
   ],
   "metadata": {
    "id": "hXA1hIObHDkJ",
    "colab": {
     "base_uri": "https://localhost:8080/",
     "height": 269
    },
    "outputId": "8046a6a7-1a6e-42f2-a0aa-0718a18010d0"
   },
   "execution_count": 42,
   "outputs": [
    {
     "output_type": "execute_result",
     "data": {
      "text/plain": [
       "         count   tiempo  velocidad\n",
       "id                                \n",
       "c1_rdd  923696  101.543    9096.60\n",
       "c2_sql   15687   77.698   11888.29\n",
       "c2_rdd   15687   13.721   67319.87\n",
       "c3_sql       6   75.909   12168.46\n",
       "c3_rdd       6   28.164   32797.05\n",
       "c3_df        6   74.708   12364.08"
      ],
      "text/html": [
       "\n",
       "  <div id=\"df-b370d624-d66d-489a-9961-e37f7894c106\">\n",
       "    <div class=\"colab-df-container\">\n",
       "      <div>\n",
       "<style scoped>\n",
       "    .dataframe tbody tr th:only-of-type {\n",
       "        vertical-align: middle;\n",
       "    }\n",
       "\n",
       "    .dataframe tbody tr th {\n",
       "        vertical-align: top;\n",
       "    }\n",
       "\n",
       "    .dataframe thead th {\n",
       "        text-align: right;\n",
       "    }\n",
       "</style>\n",
       "<table border=\"1\" class=\"dataframe\">\n",
       "  <thead>\n",
       "    <tr style=\"text-align: right;\">\n",
       "      <th></th>\n",
       "      <th>count</th>\n",
       "      <th>tiempo</th>\n",
       "      <th>velocidad</th>\n",
       "    </tr>\n",
       "    <tr>\n",
       "      <th>id</th>\n",
       "      <th></th>\n",
       "      <th></th>\n",
       "      <th></th>\n",
       "    </tr>\n",
       "  </thead>\n",
       "  <tbody>\n",
       "    <tr>\n",
       "      <th>c1_rdd</th>\n",
       "      <td>923696</td>\n",
       "      <td>101.543</td>\n",
       "      <td>9096.60</td>\n",
       "    </tr>\n",
       "    <tr>\n",
       "      <th>c2_sql</th>\n",
       "      <td>15687</td>\n",
       "      <td>77.698</td>\n",
       "      <td>11888.29</td>\n",
       "    </tr>\n",
       "    <tr>\n",
       "      <th>c2_rdd</th>\n",
       "      <td>15687</td>\n",
       "      <td>13.721</td>\n",
       "      <td>67319.87</td>\n",
       "    </tr>\n",
       "    <tr>\n",
       "      <th>c3_sql</th>\n",
       "      <td>6</td>\n",
       "      <td>75.909</td>\n",
       "      <td>12168.46</td>\n",
       "    </tr>\n",
       "    <tr>\n",
       "      <th>c3_rdd</th>\n",
       "      <td>6</td>\n",
       "      <td>28.164</td>\n",
       "      <td>32797.05</td>\n",
       "    </tr>\n",
       "    <tr>\n",
       "      <th>c3_df</th>\n",
       "      <td>6</td>\n",
       "      <td>74.708</td>\n",
       "      <td>12364.08</td>\n",
       "    </tr>\n",
       "  </tbody>\n",
       "</table>\n",
       "</div>\n",
       "      <button class=\"colab-df-convert\" onclick=\"convertToInteractive('df-b370d624-d66d-489a-9961-e37f7894c106')\"\n",
       "              title=\"Convert this dataframe to an interactive table.\"\n",
       "              style=\"display:none;\">\n",
       "        \n",
       "  <svg xmlns=\"http://www.w3.org/2000/svg\" height=\"24px\"viewBox=\"0 0 24 24\"\n",
       "       width=\"24px\">\n",
       "    <path d=\"M0 0h24v24H0V0z\" fill=\"none\"/>\n",
       "    <path d=\"M18.56 5.44l.94 2.06.94-2.06 2.06-.94-2.06-.94-.94-2.06-.94 2.06-2.06.94zm-11 1L8.5 8.5l.94-2.06 2.06-.94-2.06-.94L8.5 2.5l-.94 2.06-2.06.94zm10 10l.94 2.06.94-2.06 2.06-.94-2.06-.94-.94-2.06-.94 2.06-2.06.94z\"/><path d=\"M17.41 7.96l-1.37-1.37c-.4-.4-.92-.59-1.43-.59-.52 0-1.04.2-1.43.59L10.3 9.45l-7.72 7.72c-.78.78-.78 2.05 0 2.83L4 21.41c.39.39.9.59 1.41.59.51 0 1.02-.2 1.41-.59l7.78-7.78 2.81-2.81c.8-.78.8-2.07 0-2.86zM5.41 20L4 18.59l7.72-7.72 1.47 1.35L5.41 20z\"/>\n",
       "  </svg>\n",
       "      </button>\n",
       "      \n",
       "  <style>\n",
       "    .colab-df-container {\n",
       "      display:flex;\n",
       "      flex-wrap:wrap;\n",
       "      gap: 12px;\n",
       "    }\n",
       "\n",
       "    .colab-df-convert {\n",
       "      background-color: #E8F0FE;\n",
       "      border: none;\n",
       "      border-radius: 50%;\n",
       "      cursor: pointer;\n",
       "      display: none;\n",
       "      fill: #1967D2;\n",
       "      height: 32px;\n",
       "      padding: 0 0 0 0;\n",
       "      width: 32px;\n",
       "    }\n",
       "\n",
       "    .colab-df-convert:hover {\n",
       "      background-color: #E2EBFA;\n",
       "      box-shadow: 0px 1px 2px rgba(60, 64, 67, 0.3), 0px 1px 3px 1px rgba(60, 64, 67, 0.15);\n",
       "      fill: #174EA6;\n",
       "    }\n",
       "\n",
       "    [theme=dark] .colab-df-convert {\n",
       "      background-color: #3B4455;\n",
       "      fill: #D2E3FC;\n",
       "    }\n",
       "\n",
       "    [theme=dark] .colab-df-convert:hover {\n",
       "      background-color: #434B5C;\n",
       "      box-shadow: 0px 1px 3px 1px rgba(0, 0, 0, 0.15);\n",
       "      filter: drop-shadow(0px 1px 2px rgba(0, 0, 0, 0.3));\n",
       "      fill: #FFFFFF;\n",
       "    }\n",
       "  </style>\n",
       "\n",
       "      <script>\n",
       "        const buttonEl =\n",
       "          document.querySelector('#df-b370d624-d66d-489a-9961-e37f7894c106 button.colab-df-convert');\n",
       "        buttonEl.style.display =\n",
       "          google.colab.kernel.accessAllowed ? 'block' : 'none';\n",
       "\n",
       "        async function convertToInteractive(key) {\n",
       "          const element = document.querySelector('#df-b370d624-d66d-489a-9961-e37f7894c106');\n",
       "          const dataTable =\n",
       "            await google.colab.kernel.invokeFunction('convertToInteractive',\n",
       "                                                     [key], {});\n",
       "          if (!dataTable) return;\n",
       "\n",
       "          const docLinkHtml = 'Like what you see? Visit the ' +\n",
       "            '<a target=\"_blank\" href=https://colab.research.google.com/notebooks/data_table.ipynb>data table notebook</a>'\n",
       "            + ' to learn more about interactive tables.';\n",
       "          element.innerHTML = '';\n",
       "          dataTable['output_type'] = 'display_data';\n",
       "          await google.colab.output.renderOutput(dataTable, element);\n",
       "          const docLink = document.createElement('div');\n",
       "          docLink.innerHTML = docLinkHtml;\n",
       "          element.appendChild(docLink);\n",
       "        }\n",
       "      </script>\n",
       "    </div>\n",
       "  </div>\n",
       "  "
      ]
     },
     "metadata": {},
     "execution_count": 42
    }
   ]
  },
  {
   "cell_type": "code",
   "source": [
    "final_results_df.to_csv(f\"final_results/final_result_{num_cores}.csv\", sep=\";\")"
   ],
   "metadata": {
    "id": "w7hfZte_Q8Rh"
   },
   "execution_count": 43,
   "outputs": []
  },
  {
   "cell_type": "markdown",
   "source": [
    "## Gráficas"
   ],
   "metadata": {
    "id": "g4G2v9QDj3gS"
   }
  },
  {
   "cell_type": "markdown",
   "source": [
    "### Consulta 1"
   ],
   "metadata": {
    "id": "0aaYhVCnlL4_"
   }
  },
  {
   "cell_type": "code",
   "source": [
    "final_result_1_df = pd.read_csv(\"final_results/final_result_1.csv\", sep=\";\")\n",
    "final_result_1_df[\"num_cores\"] = 1\n",
    "\n",
    "final_result_2_df = pd.read_csv(\"final_results/final_result_2.csv\", sep=\";\")\n",
    "final_result_2_df[\"num_cores\"] = 2\n",
    "\n",
    "final_result_3_df = pd.read_csv(\"final_results/final_result_3.csv\", sep=\";\")\n",
    "final_result_3_df[\"num_cores\"] = 3\n",
    "\n",
    "final_result_4_df = pd.read_csv(\"final_results/final_result_4.csv\", sep=\";\")\n",
    "final_result_4_df[\"num_cores\"] = 4\n",
    "\n",
    "\n",
    "final_results_df = final_result_1_df.append(final_result_2_df).append(final_result_3_df).append(final_result_4_df).reset_index(drop=True)"
   ],
   "metadata": {
    "id": "uJjlmYHqk_Pu"
   },
   "execution_count": 61,
   "outputs": []
  },
  {
   "cell_type": "code",
   "source": [
    "final_results_df"
   ],
   "metadata": {
    "colab": {
     "base_uri": "https://localhost:8080/",
     "height": 802
    },
    "id": "0k3dyqkQoul-",
    "outputId": "e85526d9-13ad-468d-e1ff-0da3821801d9"
   },
   "execution_count": 66,
   "outputs": [
    {
     "output_type": "execute_result",
     "data": {
      "text/plain": [
       "        id   count   tiempo  velocidad  num_cores\n",
       "0   c1_rdd  923696  101.207    9126.80          1\n",
       "1   c2_sql   15687   78.857   11713.56          1\n",
       "2   c2_rdd   15687   11.852   77935.88          1\n",
       "3   c3_sql       6   71.373   12941.81          1\n",
       "4   c3_rdd       6   25.652   36008.73          1\n",
       "5    c3_df       6   69.303   13328.37          1\n",
       "6   c1_rdd  923696   91.428   10102.99          2\n",
       "7   c2_sql   15687   73.223   12614.83          2\n",
       "8   c2_rdd   15687   11.697   78968.62          2\n",
       "9   c3_sql       6   73.323   12597.63          2\n",
       "10  c3_rdd       6   25.003   36943.41          2\n",
       "11   c3_df       6   68.011   13581.57          2\n",
       "12  c1_rdd  923696  101.101    9136.37          3\n",
       "13  c2_sql   15687   81.370   11351.80          3\n",
       "14  c2_rdd   15687   14.209   65007.81          3\n",
       "15  c3_sql       6   77.997   11842.71          3\n",
       "16  c3_rdd       6   28.664   32224.95          3\n",
       "17   c3_df       6   76.623   12055.07          3\n",
       "18  c1_rdd  923696  101.543    9096.60          4\n",
       "19  c2_sql   15687   77.698   11888.29          4\n",
       "20  c2_rdd   15687   13.721   67319.87          4\n",
       "21  c3_sql       6   75.909   12168.46          4\n",
       "22  c3_rdd       6   28.164   32797.05          4\n",
       "23   c3_df       6   74.708   12364.08          4"
      ],
      "text/html": [
       "\n",
       "  <div id=\"df-5a1bdd08-44f4-4cbb-8e83-5336f5d09ee8\">\n",
       "    <div class=\"colab-df-container\">\n",
       "      <div>\n",
       "<style scoped>\n",
       "    .dataframe tbody tr th:only-of-type {\n",
       "        vertical-align: middle;\n",
       "    }\n",
       "\n",
       "    .dataframe tbody tr th {\n",
       "        vertical-align: top;\n",
       "    }\n",
       "\n",
       "    .dataframe thead th {\n",
       "        text-align: right;\n",
       "    }\n",
       "</style>\n",
       "<table border=\"1\" class=\"dataframe\">\n",
       "  <thead>\n",
       "    <tr style=\"text-align: right;\">\n",
       "      <th></th>\n",
       "      <th>id</th>\n",
       "      <th>count</th>\n",
       "      <th>tiempo</th>\n",
       "      <th>velocidad</th>\n",
       "      <th>num_cores</th>\n",
       "    </tr>\n",
       "  </thead>\n",
       "  <tbody>\n",
       "    <tr>\n",
       "      <th>0</th>\n",
       "      <td>c1_rdd</td>\n",
       "      <td>923696</td>\n",
       "      <td>101.207</td>\n",
       "      <td>9126.80</td>\n",
       "      <td>1</td>\n",
       "    </tr>\n",
       "    <tr>\n",
       "      <th>1</th>\n",
       "      <td>c2_sql</td>\n",
       "      <td>15687</td>\n",
       "      <td>78.857</td>\n",
       "      <td>11713.56</td>\n",
       "      <td>1</td>\n",
       "    </tr>\n",
       "    <tr>\n",
       "      <th>2</th>\n",
       "      <td>c2_rdd</td>\n",
       "      <td>15687</td>\n",
       "      <td>11.852</td>\n",
       "      <td>77935.88</td>\n",
       "      <td>1</td>\n",
       "    </tr>\n",
       "    <tr>\n",
       "      <th>3</th>\n",
       "      <td>c3_sql</td>\n",
       "      <td>6</td>\n",
       "      <td>71.373</td>\n",
       "      <td>12941.81</td>\n",
       "      <td>1</td>\n",
       "    </tr>\n",
       "    <tr>\n",
       "      <th>4</th>\n",
       "      <td>c3_rdd</td>\n",
       "      <td>6</td>\n",
       "      <td>25.652</td>\n",
       "      <td>36008.73</td>\n",
       "      <td>1</td>\n",
       "    </tr>\n",
       "    <tr>\n",
       "      <th>5</th>\n",
       "      <td>c3_df</td>\n",
       "      <td>6</td>\n",
       "      <td>69.303</td>\n",
       "      <td>13328.37</td>\n",
       "      <td>1</td>\n",
       "    </tr>\n",
       "    <tr>\n",
       "      <th>6</th>\n",
       "      <td>c1_rdd</td>\n",
       "      <td>923696</td>\n",
       "      <td>91.428</td>\n",
       "      <td>10102.99</td>\n",
       "      <td>2</td>\n",
       "    </tr>\n",
       "    <tr>\n",
       "      <th>7</th>\n",
       "      <td>c2_sql</td>\n",
       "      <td>15687</td>\n",
       "      <td>73.223</td>\n",
       "      <td>12614.83</td>\n",
       "      <td>2</td>\n",
       "    </tr>\n",
       "    <tr>\n",
       "      <th>8</th>\n",
       "      <td>c2_rdd</td>\n",
       "      <td>15687</td>\n",
       "      <td>11.697</td>\n",
       "      <td>78968.62</td>\n",
       "      <td>2</td>\n",
       "    </tr>\n",
       "    <tr>\n",
       "      <th>9</th>\n",
       "      <td>c3_sql</td>\n",
       "      <td>6</td>\n",
       "      <td>73.323</td>\n",
       "      <td>12597.63</td>\n",
       "      <td>2</td>\n",
       "    </tr>\n",
       "    <tr>\n",
       "      <th>10</th>\n",
       "      <td>c3_rdd</td>\n",
       "      <td>6</td>\n",
       "      <td>25.003</td>\n",
       "      <td>36943.41</td>\n",
       "      <td>2</td>\n",
       "    </tr>\n",
       "    <tr>\n",
       "      <th>11</th>\n",
       "      <td>c3_df</td>\n",
       "      <td>6</td>\n",
       "      <td>68.011</td>\n",
       "      <td>13581.57</td>\n",
       "      <td>2</td>\n",
       "    </tr>\n",
       "    <tr>\n",
       "      <th>12</th>\n",
       "      <td>c1_rdd</td>\n",
       "      <td>923696</td>\n",
       "      <td>101.101</td>\n",
       "      <td>9136.37</td>\n",
       "      <td>3</td>\n",
       "    </tr>\n",
       "    <tr>\n",
       "      <th>13</th>\n",
       "      <td>c2_sql</td>\n",
       "      <td>15687</td>\n",
       "      <td>81.370</td>\n",
       "      <td>11351.80</td>\n",
       "      <td>3</td>\n",
       "    </tr>\n",
       "    <tr>\n",
       "      <th>14</th>\n",
       "      <td>c2_rdd</td>\n",
       "      <td>15687</td>\n",
       "      <td>14.209</td>\n",
       "      <td>65007.81</td>\n",
       "      <td>3</td>\n",
       "    </tr>\n",
       "    <tr>\n",
       "      <th>15</th>\n",
       "      <td>c3_sql</td>\n",
       "      <td>6</td>\n",
       "      <td>77.997</td>\n",
       "      <td>11842.71</td>\n",
       "      <td>3</td>\n",
       "    </tr>\n",
       "    <tr>\n",
       "      <th>16</th>\n",
       "      <td>c3_rdd</td>\n",
       "      <td>6</td>\n",
       "      <td>28.664</td>\n",
       "      <td>32224.95</td>\n",
       "      <td>3</td>\n",
       "    </tr>\n",
       "    <tr>\n",
       "      <th>17</th>\n",
       "      <td>c3_df</td>\n",
       "      <td>6</td>\n",
       "      <td>76.623</td>\n",
       "      <td>12055.07</td>\n",
       "      <td>3</td>\n",
       "    </tr>\n",
       "    <tr>\n",
       "      <th>18</th>\n",
       "      <td>c1_rdd</td>\n",
       "      <td>923696</td>\n",
       "      <td>101.543</td>\n",
       "      <td>9096.60</td>\n",
       "      <td>4</td>\n",
       "    </tr>\n",
       "    <tr>\n",
       "      <th>19</th>\n",
       "      <td>c2_sql</td>\n",
       "      <td>15687</td>\n",
       "      <td>77.698</td>\n",
       "      <td>11888.29</td>\n",
       "      <td>4</td>\n",
       "    </tr>\n",
       "    <tr>\n",
       "      <th>20</th>\n",
       "      <td>c2_rdd</td>\n",
       "      <td>15687</td>\n",
       "      <td>13.721</td>\n",
       "      <td>67319.87</td>\n",
       "      <td>4</td>\n",
       "    </tr>\n",
       "    <tr>\n",
       "      <th>21</th>\n",
       "      <td>c3_sql</td>\n",
       "      <td>6</td>\n",
       "      <td>75.909</td>\n",
       "      <td>12168.46</td>\n",
       "      <td>4</td>\n",
       "    </tr>\n",
       "    <tr>\n",
       "      <th>22</th>\n",
       "      <td>c3_rdd</td>\n",
       "      <td>6</td>\n",
       "      <td>28.164</td>\n",
       "      <td>32797.05</td>\n",
       "      <td>4</td>\n",
       "    </tr>\n",
       "    <tr>\n",
       "      <th>23</th>\n",
       "      <td>c3_df</td>\n",
       "      <td>6</td>\n",
       "      <td>74.708</td>\n",
       "      <td>12364.08</td>\n",
       "      <td>4</td>\n",
       "    </tr>\n",
       "  </tbody>\n",
       "</table>\n",
       "</div>\n",
       "      <button class=\"colab-df-convert\" onclick=\"convertToInteractive('df-5a1bdd08-44f4-4cbb-8e83-5336f5d09ee8')\"\n",
       "              title=\"Convert this dataframe to an interactive table.\"\n",
       "              style=\"display:none;\">\n",
       "        \n",
       "  <svg xmlns=\"http://www.w3.org/2000/svg\" height=\"24px\"viewBox=\"0 0 24 24\"\n",
       "       width=\"24px\">\n",
       "    <path d=\"M0 0h24v24H0V0z\" fill=\"none\"/>\n",
       "    <path d=\"M18.56 5.44l.94 2.06.94-2.06 2.06-.94-2.06-.94-.94-2.06-.94 2.06-2.06.94zm-11 1L8.5 8.5l.94-2.06 2.06-.94-2.06-.94L8.5 2.5l-.94 2.06-2.06.94zm10 10l.94 2.06.94-2.06 2.06-.94-2.06-.94-.94-2.06-.94 2.06-2.06.94z\"/><path d=\"M17.41 7.96l-1.37-1.37c-.4-.4-.92-.59-1.43-.59-.52 0-1.04.2-1.43.59L10.3 9.45l-7.72 7.72c-.78.78-.78 2.05 0 2.83L4 21.41c.39.39.9.59 1.41.59.51 0 1.02-.2 1.41-.59l7.78-7.78 2.81-2.81c.8-.78.8-2.07 0-2.86zM5.41 20L4 18.59l7.72-7.72 1.47 1.35L5.41 20z\"/>\n",
       "  </svg>\n",
       "      </button>\n",
       "      \n",
       "  <style>\n",
       "    .colab-df-container {\n",
       "      display:flex;\n",
       "      flex-wrap:wrap;\n",
       "      gap: 12px;\n",
       "    }\n",
       "\n",
       "    .colab-df-convert {\n",
       "      background-color: #E8F0FE;\n",
       "      border: none;\n",
       "      border-radius: 50%;\n",
       "      cursor: pointer;\n",
       "      display: none;\n",
       "      fill: #1967D2;\n",
       "      height: 32px;\n",
       "      padding: 0 0 0 0;\n",
       "      width: 32px;\n",
       "    }\n",
       "\n",
       "    .colab-df-convert:hover {\n",
       "      background-color: #E2EBFA;\n",
       "      box-shadow: 0px 1px 2px rgba(60, 64, 67, 0.3), 0px 1px 3px 1px rgba(60, 64, 67, 0.15);\n",
       "      fill: #174EA6;\n",
       "    }\n",
       "\n",
       "    [theme=dark] .colab-df-convert {\n",
       "      background-color: #3B4455;\n",
       "      fill: #D2E3FC;\n",
       "    }\n",
       "\n",
       "    [theme=dark] .colab-df-convert:hover {\n",
       "      background-color: #434B5C;\n",
       "      box-shadow: 0px 1px 3px 1px rgba(0, 0, 0, 0.15);\n",
       "      filter: drop-shadow(0px 1px 2px rgba(0, 0, 0, 0.3));\n",
       "      fill: #FFFFFF;\n",
       "    }\n",
       "  </style>\n",
       "\n",
       "      <script>\n",
       "        const buttonEl =\n",
       "          document.querySelector('#df-5a1bdd08-44f4-4cbb-8e83-5336f5d09ee8 button.colab-df-convert');\n",
       "        buttonEl.style.display =\n",
       "          google.colab.kernel.accessAllowed ? 'block' : 'none';\n",
       "\n",
       "        async function convertToInteractive(key) {\n",
       "          const element = document.querySelector('#df-5a1bdd08-44f4-4cbb-8e83-5336f5d09ee8');\n",
       "          const dataTable =\n",
       "            await google.colab.kernel.invokeFunction('convertToInteractive',\n",
       "                                                     [key], {});\n",
       "          if (!dataTable) return;\n",
       "\n",
       "          const docLinkHtml = 'Like what you see? Visit the ' +\n",
       "            '<a target=\"_blank\" href=https://colab.research.google.com/notebooks/data_table.ipynb>data table notebook</a>'\n",
       "            + ' to learn more about interactive tables.';\n",
       "          element.innerHTML = '';\n",
       "          dataTable['output_type'] = 'display_data';\n",
       "          await google.colab.output.renderOutput(dataTable, element);\n",
       "          const docLink = document.createElement('div');\n",
       "          docLink.innerHTML = docLinkHtml;\n",
       "          element.appendChild(docLink);\n",
       "        }\n",
       "      </script>\n",
       "    </div>\n",
       "  </div>\n",
       "  "
      ]
     },
     "metadata": {},
     "execution_count": 66
    }
   ]
  },
  {
   "cell_type": "code",
   "source": [
    "sns.pairplot(final_results_df, x_vars=[\"num_cores\"], y_vars=[\"tiempo\"], hue=\"id\")"
   ],
   "metadata": {
    "colab": {
     "base_uri": "https://localhost:8080/",
     "height": 214
    },
    "id": "9dykShBuoeIL",
    "outputId": "a1257877-c788-4ac9-b8a9-1349932b20aa"
   },
   "execution_count": 67,
   "outputs": [
    {
     "output_type": "execute_result",
     "data": {
      "text/plain": [
       "<seaborn.axisgrid.PairGrid at 0x7f6cc87165d0>"
      ]
     },
     "metadata": {},
     "execution_count": 67
    },
    {
     "output_type": "display_data",
     "data": {
      "text/plain": [
       "<Figure size 249.625x180 with 1 Axes>"
      ],
      "image/png": "[encoded data removed]"
     },
     "metadata": {
      "needs_background": "light"
     }
    }
   ]
  },
  {
   "cell_type": "code",
   "source": [
    "sns.pairplot(final_results_df, x_vars=[\"num_cores\"], y_vars=[\"velocidad\"], hue=\"id\")"
   ],
   "metadata": {
    "colab": {
     "base_uri": "https://localhost:8080/",
     "height": 214
    },
    "id": "XTx4s7EuoewA",
    "outputId": "fe65aa6d-58d1-4149-c9bb-355abcefefb0"
   },
   "execution_count": 68,
   "outputs": [
    {
     "output_type": "execute_result",
     "data": {
      "text/plain": [
       "<seaborn.axisgrid.PairGrid at 0x7f6cc8716f10>"
      ]
     },
     "metadata": {},
     "execution_count": 68
    },
    {
     "output_type": "display_data",
     "data": {
      "text/plain": [
       "<Figure size 249.625x180 with 1 Axes>"
      ],
      "image/png": "[encoded data removed]"
     },
     "metadata": {
      "needs_background": "light"
     }
    }
   ]
  }
 ],
 "metadata": {
  "colab": {
   "provenance": [],
   "collapsed_sections": []
  },
  "kernelspec": {
   "display_name": "Python 3",
   "name": "python3"
  },
  "language_info": {
   "name": "python"
  }
 },
 "nbformat": 4,
 "nbformat_minor": 0
}
