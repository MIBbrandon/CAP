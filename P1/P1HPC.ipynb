{
 "cells": [
  {
   "cell_type": "markdown",
   "metadata": {
    "id": "3cMDcQXTa6iU",
    "pycharm": {
     "name": "#%% md\n"
    }
   },
   "source": [
    "# COMPUTACIÓN DE ALTAS PRESTACIONES\n",
    "## Práctica #1 - Procesamiento de datos mediante Apache Spark"
   ]
  },
  {
   "cell_type": "markdown",
   "metadata": {
    "id": "nXvDfq3Aa6iV",
    "pycharm": {
     "name": "#%% md\n"
    }
   },
   "source": [
    "* Martha María Del Toro Carballo       100486134@alumnos.uc3m.es\n",
    "* Brandon Solo                         100405959@alumnos.uc3m.es\n",
    "* Manuel Santiago Férnandez Arias      manuefer@inf.uc3m.es"
   ]
  },
  {
   "cell_type": "markdown",
   "metadata": {
    "id": "tnjqBvm0a6iY",
    "pycharm": {
     "name": "#%% md\n"
    }
   },
   "source": [
    "### Inicializando Spark"
   ]
  },
  {
   "cell_type": "code",
   "execution_count": 1,
   "metadata": {
    "id": "yMuKMbpm9tlL",
    "colab": {
     "base_uri": "https://localhost:8080/"
    },
    "outputId": "f277f4f7-9e7e-4cf7-a8f7-d94e5e837f06",
    "pycharm": {
     "name": "#%%\n"
    }
   },
   "outputs": [
    {
     "name": "stdout",
     "output_type": "stream",
     "text": [
      "Reading package lists... Done\r\n",
      "E: Could not open lock file /var/lib/apt/lists/lock - open (13: Permission denied)\r\n",
      "E: Unable to lock directory /var/lib/apt/lists/\r\n",
      "W: Problem unlinking the file /var/cache/apt/pkgcache.bin - RemoveCaches (13: Permission denied)\r\n",
      "W: Problem unlinking the file /var/cache/apt/srcpkgcache.bin - RemoveCaches (13: Permission denied)\r\n",
      "E: Could not open lock file /var/lib/dpkg/lock-frontend - open (13: Permission denied)\r\n",
      "E: Unable to acquire the dpkg frontend lock (/var/lib/dpkg/lock-frontend), are you root?\r\n"
     ]
    }
   ],
   "source": [
    "# !apt-get update\n",
    "# !apt-get install openjdk-8-jdk-headless -qq > /dev/null\n",
    "# !wget -q https://dlcdn.apache.org/spark/spark-3.1.3/spark-3.1.3-bin-hadoop3.2.tgz\n",
    "# !tar xf spark-3.1.3-bin-hadoop3.2.tgz\n",
    "# !pip install -q findspark"
   ]
  },
  {
   "cell_type": "code",
   "execution_count": 2,
   "metadata": {
    "id": "F5ZR4kqO92UH",
    "pycharm": {
     "name": "#%%\n"
    }
   },
   "outputs": [],
   "source": [
    "import os\n",
    "# os.environ[\"JAVA_HOME\"] = \"/usr/lib/jvm/java-8-openjdk-amd64\"\n",
    "# os.environ[\"SPARK_HOME\"] = \"/content/spark-3.1.3-bin-hadoop3.2\""
   ]
  },
  {
   "cell_type": "code",
   "execution_count": 3,
   "metadata": {
    "id": "3EtTb2-r94BI",
    "pycharm": {
     "name": "#%%\n"
    }
   },
   "outputs": [],
   "source": [
    "import findspark\n",
    "findspark.init()"
   ]
  },
  {
   "cell_type": "code",
   "source": [
    "num_cores = 3"
   ],
   "metadata": {
    "id": "LF4M6LEmS1iW",
    "pycharm": {
     "name": "#%%\n"
    }
   },
   "execution_count": 4,
   "outputs": []
  },
  {
   "cell_type": "code",
   "execution_count": 5,
   "metadata": {
    "colab": {
     "base_uri": "https://localhost:8080/",
     "height": 219
    },
    "id": "EcUvT_eEiLv2",
    "outputId": "18f1bbc4-e1f8-47e0-f10d-be63621446ef",
    "pycharm": {
     "name": "#%%\n"
    }
   },
   "outputs": [
    {
     "name": "stderr",
     "output_type": "stream",
     "text": [
      "22/11/11 00:11:26 WARN Utils: Your hostname, pop-os resolves to a loopback address: 127.0.1.1; using 192.168.1.35 instead (on interface enp3s0)\n",
      "22/11/11 00:11:26 WARN Utils: Set SPARK_LOCAL_IP if you need to bind to another address\n",
      "22/11/11 00:11:27 WARN NativeCodeLoader: Unable to load native-hadoop library for your platform... using builtin-java classes where applicable\n",
      "Using Spark's default log4j profile: org/apache/spark/log4j-defaults.properties\n",
      "Setting default log level to \"WARN\".\n",
      "To adjust logging level use sc.setLogLevel(newLevel). For SparkR, use setLogLevel(newLevel).\n"
     ]
    },
    {
     "data": {
      "text/plain": "<pyspark.sql.session.SparkSession at 0x7f00bf32bb50>",
      "text/html": "\n            <div>\n                <p><b>SparkSession - in-memory</b></p>\n                \n        <div>\n            <p><b>SparkContext</b></p>\n\n            <p><a href=\"http://192.168.1.35:4050\">Spark UI</a></p>\n\n            <dl>\n              <dt>Version</dt>\n                <dd><code>v3.1.3</code></dd>\n              <dt>Master</dt>\n                <dd><code>local[*]</code></dd>\n              <dt>AppName</dt>\n                <dd><code>pyspark-shell</code></dd>\n            </dl>\n        </div>\n        \n            </div>\n        "
     },
     "execution_count": 5,
     "metadata": {},
     "output_type": "execute_result"
    }
   ],
   "source": [
    "from pyspark.sql import SparkSession\n",
    "from pyspark import SparkContext, SparkConf\n",
    "\n",
    "conf = SparkConf().set('spark.ui.port', '4050')\n",
    "sc = SparkContext(conf=conf)\n",
    "spark = SparkSession.builder.master(f'local[{num_cores}]').getOrCreate() \n",
    "\n",
    "spark"
   ]
  },
  {
   "cell_type": "code",
   "execution_count": 6,
   "metadata": {
    "id": "X5YTbeyw_39w",
    "colab": {
     "base_uri": "https://localhost:8080/"
    },
    "outputId": "bb21c3e5-b47b-45ce-e3f4-eb0c3b57f5bd",
    "pycharm": {
     "name": "#%%\n"
    }
   },
   "outputs": [
    {
     "name": "stdout",
     "output_type": "stream",
     "text": [
      "Your runtime has 33.0 gigabytes of available RAM\n",
      "\n"
     ]
    }
   ],
   "source": [
    "from psutil import virtual_memory\n",
    "ram_gb = virtual_memory().total / 1e9\n",
    "print('Your runtime has {:.1f} gigabytes of available RAM\\n'.format(ram_gb))"
   ]
  },
  {
   "cell_type": "markdown",
   "metadata": {
    "id": "WekI31zkUTgC",
    "pycharm": {
     "name": "#%% md\n"
    }
   },
   "source": [
    "### Otras librerías a usar"
   ]
  },
  {
   "cell_type": "code",
   "execution_count": 2,
   "metadata": {
    "id": "7JmuP4iuUSbC",
    "pycharm": {
     "name": "#%%\n"
    }
   },
   "outputs": [],
   "source": [
    "from datetime import datetime\n",
    "from time import time\n",
    "import numpy as np\n",
    "from csv import writer\n",
    "import matplotlib.pyplot as plt\n",
    "from operator import add\n",
    "from pyspark.sql import functions as F\n",
    "import os\n",
    "import pandas as pd\n",
    "from operator import add\n",
    "import seaborn as sns"
   ]
  },
  {
   "cell_type": "markdown",
   "metadata": {
    "id": "5urYUpjWa6ie",
    "pycharm": {
     "name": "#%% md\n"
    }
   },
   "source": [
    "### Funciones"
   ]
  },
  {
   "cell_type": "code",
   "execution_count": 8,
   "metadata": {
    "id": "PR2FhlFSa6ie",
    "pycharm": {
     "name": "#%%\n"
    }
   },
   "outputs": [],
   "source": [
    "cant_datos = 0\n",
    "result_count = 0\n",
    "tiempo_ejecucion = 0\n",
    "velocidad_ejecucion = 0\n",
    "\n",
    "def calcularRendimiento(results, cant_datos):\n",
    "    t_0 = time()\n",
    "    result_count = results.count() # Acción\n",
    "    t_1 = time()\n",
    "    tiempo_ejecucion = np.round(t_1 - t_0, 3)\n",
    "    velocidad_ejecucion = round(cant_datos / tiempo_ejecucion, 2)\n",
    "\n",
    "    return result_count , tiempo_ejecucion , velocidad_ejecucion\n",
    "\n",
    "def interpretar_rendimiento(tiempo_ejecucion,velocidad_ejecucion,cant_datos):\n",
    "    print(f'Han transcurrido {tiempo_ejecucion} segundos de ejecución.')\n",
    "    print(f'Cantidad de datos procesados: {cant_datos}')\n",
    "    print(f'Velocidad de procesamiento: {velocidad_ejecucion} registros/s')\n",
    "  \n",
    "def mostrar_grafico(data1, data2, title, cant_datos, legend = ['sql', 'rdd', 'data_frame'], n_cores = 4):\n",
    "    x = [i for i in range(1,n_cores + 1)] # n_cores\n",
    "\n",
    "    plt.figure(1, [14, 5], 150)\n",
    "\n",
    "    plt.subplot(121)\n",
    "    plt.title(title)\n",
    "    plt.ylabel(\"Tiempo de ejecución (seg.)\")\n",
    "    plt.xlabel(\"Número de cores\")\n",
    "    plt.grid(True)\n",
    "    plt.xticks(x)\n",
    "\n",
    "    for y in data1:\n",
    "        plt.plot(x, y)\n",
    "\n",
    "    plt.legend(legend)\n",
    "\n",
    "    plt.subplot(122)\n",
    "    plt.title(\"Cantidad de registros: \" + str(cant_datos))\n",
    "    plt.ylabel(\"Registros procesados por segundo\")\n",
    "    plt.xlabel(\"Número de cores\")\n",
    "    plt.grid(True)\n",
    "    plt.xticks(x)\n",
    "\n",
    "    for y in data2:\n",
    "        plt.plot(x, y)\n",
    "\n",
    "    plt.legend(legend)\n",
    "\n",
    "    plt.show()\n",
    "\n",
    "def mostrar_resultados_rdd(results,columns,nfilas = 10):\n",
    "    df = pd.DataFrame(results.take(nfilas), columns = columns)\n",
    "    return df.style\n",
    "\n",
    "def mostar_resultados_sql_df(results,nfilas = 10):\n",
    "    return results.limit(nfilas).toPandas()\n",
    "\n"
   ]
  },
  {
   "cell_type": "markdown",
   "metadata": {
    "id": "v-IRLtMwcuER",
    "pycharm": {
     "name": "#%% md\n"
    }
   },
   "source": [
    "# Obtención de los datos"
   ]
  },
  {
   "cell_type": "code",
   "execution_count": 9,
   "metadata": {
    "id": "oNGI5b8XUvbL",
    "pycharm": {
     "name": "#%%\n"
    }
   },
   "outputs": [
    {
     "name": "stderr",
     "output_type": "stream",
     "text": [
      "                                                                                \r"
     ]
    }
   ],
   "source": [
    "# Datos generales\n",
    "path = \"tripdata_2017-01.csv\"\n",
    "df_data = spark.read.csv(path, header=True, inferSchema=True)\n",
    "\n",
    "path = \"taxi+_zone_lookup.csv\"\n",
    "#df_zones = spark.read.csv(path, header=True, inferSchema=True)\n",
    "df_zones = spark.read.option(\"delimiter\", \";\").csv(path, header=True, inferSchema=True)"
   ]
  },
  {
   "cell_type": "markdown",
   "metadata": {
    "id": "e1ApfEg1vUq0",
    "pycharm": {
     "name": "#%% md\n"
    }
   },
   "source": [
    "# Limpieza de Datos\n",
    "\n"
   ]
  },
  {
   "cell_type": "markdown",
   "metadata": {
    "id": "6pizO9Mya6ig",
    "pycharm": {
     "name": "#%% md\n"
    }
   },
   "source": [
    "## Análisis previo de los datos"
   ]
  },
  {
   "cell_type": "markdown",
   "metadata": {
    "id": "8tRS0vhpa6ig",
    "pycharm": {
     "name": "#%% md\n"
    }
   },
   "source": [
    "A continuación se hace un breve análisis de los datos"
   ]
  },
  {
   "cell_type": "code",
   "execution_count": 10,
   "metadata": {
    "id": "tklR4GUka6ih",
    "colab": {
     "base_uri": "https://localhost:8080/"
    },
    "outputId": "7b742db2-d4e5-431f-f985-c3cfebfd6d7c",
    "pycharm": {
     "name": "#%%\n"
    }
   },
   "outputs": [
    {
     "name": "stdout",
     "output_type": "stream",
     "text": [
      "+-------+------------------+\n",
      "|summary|      total_amount|\n",
      "+-------+------------------+\n",
      "|  count|            971010|\n",
      "|   mean|16.078110822760525|\n",
      "| stddev| 546.7901022658476|\n",
      "|    min|            -120.3|\n",
      "|    max|          538580.0|\n",
      "+-------+------------------+\n",
      "\n"
     ]
    }
   ],
   "source": [
    "df_data.select(\"total_amount\").describe().show()"
   ]
  },
  {
   "cell_type": "code",
   "execution_count": 11,
   "metadata": {
    "id": "cy28E_mya6ih",
    "colab": {
     "base_uri": "https://localhost:8080/"
    },
    "outputId": "ec85516b-886e-4192-f83c-951cd926c76a",
    "pycharm": {
     "name": "#%%\n"
    }
   },
   "outputs": [
    {
     "name": "stdout",
     "output_type": "stream",
     "text": [
      "+-------+------------------+\n",
      "|summary|        tip_amount|\n",
      "+-------+------------------+\n",
      "|  count|            971010|\n",
      "|   mean| 1.679028269533815|\n",
      "| stddev|2.5713641104199563|\n",
      "|    min|             -6.06|\n",
      "|    max|             366.0|\n",
      "+-------+------------------+\n",
      "\n"
     ]
    }
   ],
   "source": [
    "df_data.select(\"tip_amount\").describe().show()"
   ]
  },
  {
   "cell_type": "code",
   "execution_count": 12,
   "metadata": {
    "id": "HKBdpJmMa6ih",
    "colab": {
     "base_uri": "https://localhost:8080/"
    },
    "outputId": "7de84124-279f-405e-e444-c52af4f00aff",
    "pycharm": {
     "name": "#%%\n"
    }
   },
   "outputs": [
    {
     "name": "stdout",
     "output_type": "stream",
     "text": [
      "+-------+------------------+\n",
      "|summary|     trip_distance|\n",
      "+-------+------------------+\n",
      "|  count|            971010|\n",
      "|   mean| 3.031284878631532|\n",
      "| stddev|3.7858472332117032|\n",
      "|    min|               0.0|\n",
      "|    max|             151.7|\n",
      "+-------+------------------+\n",
      "\n"
     ]
    }
   ],
   "source": [
    "df_data.select(\"trip_distance\").describe().show()"
   ]
  },
  {
   "cell_type": "code",
   "execution_count": 13,
   "metadata": {
    "id": "Mwc3-P3Ea6ii",
    "colab": {
     "base_uri": "https://localhost:8080/"
    },
    "outputId": "b017f759-28df-4f81-a9e3-d998b74c39b9",
    "pycharm": {
     "name": "#%%\n"
    }
   },
   "outputs": [
    {
     "name": "stdout",
     "output_type": "stream",
     "text": [
      "+-------+------------------+\n",
      "|summary|   passenger_count|\n",
      "+-------+------------------+\n",
      "|  count|            971010|\n",
      "|   mean|1.6859888157691476|\n",
      "| stddev|1.2917046837574013|\n",
      "|    min|                 0|\n",
      "|    max|                 9|\n",
      "+-------+------------------+\n",
      "\n"
     ]
    }
   ],
   "source": [
    "df_data.select(\"passenger_count\").describe().show()"
   ]
  },
  {
   "cell_type": "markdown",
   "metadata": {
    "id": "tSSOSwvoa6ii",
    "pycharm": {
     "name": "#%% md\n"
    }
   },
   "source": [
    "Representación de la dispersión y valores atípicos de propinas mediante un boxplot"
   ]
  },
  {
   "cell_type": "code",
   "execution_count": 14,
   "metadata": {
    "id": "6Ej30G8Wa6ii",
    "colab": {
     "base_uri": "https://localhost:8080/",
     "height": 265
    },
    "outputId": "f5cea6be-b88a-4c3a-fad1-03e8707d4277",
    "pycharm": {
     "name": "#%%\n"
    }
   },
   "outputs": [
    {
     "name": "stderr",
     "output_type": "stream",
     "text": [
      "                                                                                \r"
     ]
    },
    {
     "data": {
      "text/plain": "<Figure size 640x480 with 1 Axes>",
      "image/png": "[encoded data removed]"
     },
     "metadata": {},
     "output_type": "display_data"
    }
   ],
   "source": [
    "data = df_data.select(\"tip_amount\").rdd.flatMap(lambda x: x).collect()\n",
    "\n",
    "plt.boxplot(data)\n",
    "plt.show()"
   ]
  },
  {
   "cell_type": "markdown",
   "metadata": {
    "id": "XRGo5an6vydi",
    "pycharm": {
     "name": "#%% md\n"
    }
   },
   "source": [
    "## Limpieza de datos nulos"
   ]
  },
  {
   "cell_type": "code",
   "execution_count": 15,
   "metadata": {
    "id": "e9orxgCMvoBc",
    "colab": {
     "base_uri": "https://localhost:8080/"
    },
    "outputId": "53307684-abfa-4d0b-fe99-bc0538cd1829",
    "pycharm": {
     "name": "#%%\n"
    }
   },
   "outputs": [
    {
     "name": "stdout",
     "output_type": "stream",
     "text": [
      "Cantidad de filas eliminadas: 0\n"
     ]
    },
    {
     "name": "stderr",
     "output_type": "stream",
     "text": [
      "                                                                                \r"
     ]
    }
   ],
   "source": [
    "# -------- Limpieza en datos generales --------\n",
    "rows1 = df_data.count()\n",
    "\n",
    "# Eliminación de nulos\n",
    "df_data_filtered = df_data.dropna()\n",
    "\n",
    "rows2 = df_data_filtered.count()\n",
    "\n",
    "print(\"Cantidad de filas eliminadas: \" + str(rows1 - rows2))"
   ]
  },
  {
   "cell_type": "code",
   "execution_count": 16,
   "metadata": {
    "id": "92AibCeRp94W",
    "colab": {
     "base_uri": "https://localhost:8080/"
    },
    "outputId": "052b315d-1742-4f4b-8751-cba90f31dad5",
    "pycharm": {
     "name": "#%%\n"
    }
   },
   "outputs": [
    {
     "name": "stdout",
     "output_type": "stream",
     "text": [
      "Cantidad de filas eliminadas: 2\n"
     ]
    }
   ],
   "source": [
    "# -------- Limpieza en datos de zonas --------\n",
    "rows1 = df_zones.count()\n",
    "\n",
    "# Eliminación de nulos\n",
    "df_zones_filtered = df_zones.dropna()\n",
    "\n",
    "listaNulos = [\"Unknown\", \"NA\", \"N/A\"]\n",
    "\n",
    "rdd_df_filtered = df_zones_filtered.rdd.filter(lambda x: x.Borough not in listaNulos)     \\\n",
    "                                       .filter(lambda x: x.Zone not in listaNulos)        \\\n",
    "                                       .filter(lambda x: x.service_zone not in listaNulos)\n",
    "\n",
    "df_zones_filtered = spark.createDataFrame(rdd_df_filtered)\n",
    "rows2 = df_zones_filtered.count()\n",
    "\n",
    "print(\"Cantidad de filas eliminadas: \" + str(rows1 - rows2))"
   ]
  },
  {
   "cell_type": "markdown",
   "metadata": {
    "id": "FDnFG8BPACPK",
    "pycharm": {
     "name": "#%% md\n"
    }
   },
   "source": [
    "## Eliminación de valores sin sentido lógico"
   ]
  },
  {
   "cell_type": "markdown",
   "metadata": {
    "id": "8sg9hFEta6ik",
    "pycharm": {
     "name": "#%% md\n"
    }
   },
   "source": [
    "A partir del análisis previo de los datos se detectaron valores negativos o iguales a 0. Por tanto, se procede a eliminar las filas que contienen:\n",
    "- Propinas negativas\n",
    "- Distancia de viajes negativa o igual a 0\n",
    "- Coste del viaje negativo o igual a 0\n",
    "- Tiempos sin sentido (llegada antes o igual que salida)"
   ]
  },
  {
   "cell_type": "code",
   "execution_count": 17,
   "metadata": {
    "id": "SUm7MES86OGZ",
    "colab": {
     "base_uri": "https://localhost:8080/"
    },
    "outputId": "3bc8ef32-0f67-45a9-c2c0-224876bd6bb9",
    "pycharm": {
     "name": "#%%\n"
    }
   },
   "outputs": [
    {
     "name": "stderr",
     "output_type": "stream",
     "text": [
      "[Stage 25:=======>                                                (2 + 14) / 16]\r"
     ]
    },
    {
     "name": "stdout",
     "output_type": "stream",
     "text": [
      "Cantidad de filas eliminadas: 6709\n"
     ]
    },
    {
     "name": "stderr",
     "output_type": "stream",
     "text": [
      "                                                                                \r"
     ]
    }
   ],
   "source": [
    "rows1 = df_data_filtered.count()\n",
    "\n",
    "# Filtrando propinas, importes negativos y tiempos\n",
    "rdd_df_filtered = df_data_filtered.rdd.filter(lambda x: x.tip_amount >= 0) \\\n",
    "                                      .filter(lambda x: x.trip_distance > 0) \\\n",
    "                                      .filter(lambda x: x.total_amount >= 0) \\\n",
    "                                      .filter(lambda x: x.passenger_count > 0)\n",
    "\n",
    "df_data_filtered = spark.createDataFrame(rdd_df_filtered)\n",
    "rows2 = df_data_filtered.count()\n",
    "\n",
    "print(\"Cantidad de filas eliminadas: \" + str(rows1 - rows2))"
   ]
  },
  {
   "cell_type": "markdown",
   "metadata": {
    "id": "GirYEAFma6ik",
    "pycharm": {
     "name": "#%% md\n"
    }
   },
   "source": [
    "## Filtrado de los valores atípicos"
   ]
  },
  {
   "cell_type": "code",
   "execution_count": 18,
   "metadata": {
    "id": "sYqCBCtXa6ik",
    "colab": {
     "base_uri": "https://localhost:8080/"
    },
    "outputId": "c2e47e1d-263e-464f-9a65-dda2da8de7d8",
    "pycharm": {
     "name": "#%%\n"
    }
   },
   "outputs": [
    {
     "name": "stderr",
     "output_type": "stream",
     "text": [
      "[Stage 30:=================================================>      (14 + 2) / 16]\r"
     ]
    },
    {
     "name": "stdout",
     "output_type": "stream",
     "text": [
      "Cantidad de filas eliminadas: 29837\n"
     ]
    },
    {
     "name": "stderr",
     "output_type": "stream",
     "text": [
      "                                                                                \r"
     ]
    }
   ],
   "source": [
    "quantiles = df_data_filtered.approxQuantile(\"tip_amount\", [0.25, 0.75], 0.0)\n",
    "Q1 = quantiles[0]\n",
    "Q3 = quantiles[1]\n",
    "IQR = Q3 - Q1\n",
    "upperRange = Q3 + 3*IQR\n",
    "rdd_df_filtered = df_data_filtered.rdd.filter(lambda x: x.tip_amount < upperRange)\n",
    "\n",
    "df_data_filtered = spark.createDataFrame(rdd_df_filtered)\n",
    "rows2 = df_data_filtered.count()\n",
    "\n",
    "print(\"Cantidad de filas eliminadas: \" + str(rows1 - rows2))"
   ]
  },
  {
   "cell_type": "markdown",
   "metadata": {
    "id": "NmXkZ31Ha6ik",
    "pycharm": {
     "name": "#%% md\n"
    }
   },
   "source": [
    "Representación de la dispersión resultante del filtrado de valores atípicos teniendo en cuenta las propinas mediante un boxplot"
   ]
  },
  {
   "cell_type": "code",
   "execution_count": 19,
   "metadata": {
    "id": "h60lCMy7a6ik",
    "colab": {
     "base_uri": "https://localhost:8080/",
     "height": 265
    },
    "outputId": "cb49a9ae-95ac-45df-c2e0-2368e03da978",
    "pycharm": {
     "name": "#%%\n"
    }
   },
   "outputs": [
    {
     "name": "stderr",
     "output_type": "stream",
     "text": [
      "                                                                                \r"
     ]
    },
    {
     "data": {
      "text/plain": "<Figure size 640x480 with 1 Axes>",
      "image/png": "[encoded data removed]"
     },
     "metadata": {},
     "output_type": "display_data"
    }
   ],
   "source": [
    "data = df_data_filtered.select(\"tip_amount\").rdd.flatMap(lambda x: x).collect()\n",
    "\n",
    "plt.boxplot(data)\n",
    "plt.show()"
   ]
  },
  {
   "cell_type": "markdown",
   "metadata": {
    "id": "3aiSirvP0xg9",
    "pycharm": {
     "name": "#%% md\n"
    }
   },
   "source": [
    "## Conversión del formato de tiempo"
   ]
  },
  {
   "cell_type": "code",
   "execution_count": 20,
   "metadata": {
    "id": "yEVbrMZ7062G",
    "pycharm": {
     "name": "#%%\n"
    }
   },
   "outputs": [],
   "source": [
    "from pyspark.sql.functions import to_timestamp\n",
    "\n",
    "df_data_final = df_data_filtered.withColumn(\"tpep_pickup_datetime\", to_timestamp(\"tpep_pickup_datetime\"))\n",
    "df_data_final = df_data_final.withColumn(\"tpep_dropoff_datetime\", to_timestamp(\"tpep_dropoff_datetime\"))"
   ]
  },
  {
   "cell_type": "markdown",
   "metadata": {
    "id": "BpaKFVUVXzLZ",
    "pycharm": {
     "name": "#%% md\n"
    }
   },
   "source": [
    "Ahora que tenemos las columnas de Pickup y Dropoff formateadas a *timestamp*, se filtran los datos buscando un orden lógico de fechas:\n",
    "\n",
    "*   El tiempo de llegada es mayor que el de salida\n",
    "*   Los tiempos son diferentes"
   ]
  },
  {
   "cell_type": "code",
   "execution_count": 21,
   "metadata": {
    "id": "d9DWUgsLXwwf",
    "pycharm": {
     "name": "#%%\n"
    }
   },
   "outputs": [
    {
     "name": "stderr",
     "output_type": "stream",
     "text": [
      "Traceback (most recent call last):\n",
      "  File \"/home/brandon/.conda/envs/CAP/lib/python3.8/site-packages/pyspark/python/lib/pyspark.zip/pyspark/daemon.py\", line 186, in manager\n",
      "  File \"/home/brandon/.conda/envs/CAP/lib/python3.8/site-packages/pyspark/python/lib/pyspark.zip/pyspark/daemon.py\", line 74, in worker\n",
      "  File \"/home/brandon/.conda/envs/CAP/lib/python3.8/site-packages/pyspark/python/lib/pyspark.zip/pyspark/worker.py\", line 643, in main\n",
      "    if read_int(infile) == SpecialLengths.END_OF_STREAM:\n",
      "  File \"/home/brandon/.conda/envs/CAP/lib/python3.8/site-packages/pyspark/python/lib/pyspark.zip/pyspark/serializers.py\", line 564, in read_int\n",
      "    raise EOFError\n",
      "EOFError\n"
     ]
    }
   ],
   "source": [
    "df_data_final = df_data_final.rdd.filter(lambda x: (x.tpep_dropoff_datetime - x.tpep_pickup_datetime).seconds > 0)\n",
    "df_data_final = spark.createDataFrame(df_data_final)"
   ]
  },
  {
   "cell_type": "markdown",
   "metadata": {
    "id": "IZIEwe1e7Lno",
    "pycharm": {
     "name": "#%% md\n"
    }
   },
   "source": [
    "## Join con los datos de las zonas"
   ]
  },
  {
   "cell_type": "code",
   "execution_count": 22,
   "metadata": {
    "id": "fBFG20Qr7YyA",
    "pycharm": {
     "name": "#%%\n"
    }
   },
   "outputs": [
    {
     "name": "stderr",
     "output_type": "stream",
     "text": [
      "                                                                                \r"
     ]
    }
   ],
   "source": [
    "# ------- JOIN PULocation con la tabla de zonas -------\n",
    "df_data_j = df_data_final.join(df_zones_filtered, on=[df_data_final.PULocationID == df_zones_filtered.LocationID], how = 'inner')\n",
    "\n",
    "# Eliminación de columna redundante \n",
    "df_data_j = df_data_j.drop(\"LocationID\")\n",
    "\n",
    "# Renombrado de las nuevas columnas  \n",
    "df_data_j = df_data_j.withColumnRenamed(\"Borough\",\"PUBorough\")\n",
    "df_data_j = df_data_j.withColumnRenamed(\"Zone\",\"PUZone\")\n",
    "df_data_j = df_data_j.withColumnRenamed(\"service_zone\",\"PUService_zone\")\n",
    "\n",
    "# ------- JOIN DOLocation con la tabla de zonas -------\n",
    "df_data_j = df_data_j.join(df_zones_filtered, df_data_final.DOLocationID == df_zones_filtered.LocationID, how='inner')\n",
    "\n",
    "# Eliminación de columna redundante \n",
    "df_data_j = df_data_j.drop(\"LocationID\")\n",
    "\n",
    "# Renombrado de las nuevas columnas  \n",
    "df_data_j = df_data_j.withColumnRenamed(\"Borough\",\"DOBorough\")\n",
    "df_data_j = df_data_j.withColumnRenamed(\"Zone\",\"DOZone\")\n",
    "df_data_j = df_data_j.withColumnRenamed(\"service_zone\",\"DOService_zone\")\n",
    "\n",
    "cant_datos = df_data_j.count()"
   ]
  },
  {
   "cell_type": "markdown",
   "metadata": {
    "id": "mgQcuIrrISFY",
    "pycharm": {
     "name": "#%% md\n"
    }
   },
   "source": [
    "# Enunciado de la práctica"
   ]
  },
  {
   "cell_type": "markdown",
   "metadata": {
    "id": "3sVO0fcIIk6-",
    "pycharm": {
     "name": "#%% md\n"
    }
   },
   "source": [
    "Realice los estudios que considere necesarios sobre los datos que contiene los registros de la compañía YellowCab de Nueva York en término de viajes en taxi. Es obligatorio proporcionar al menos tres estudios. Ejemplos de estudios:\n",
    "\n",
    "1. Velocidad media de los taxis en función de la hora.\n",
    "2. Viajes en taxi más comunes\n",
    "3. Registros financieros (propinas, personas, etc.)\n",
    "\n",
    "Será necesario realizar al menos una ejecución basada en una consulta SQL (spark.sql(.....)), al menos una consulta mediante una concatenación de llamadas a métodos del DataFrame como: select, groupBy, y finalmente una haciendo uso de RDDs. Con el objetivo de estudiar el mejor método de trabajo, uno de los estudios realizados tiene que estar implementado de las tres formas.\n",
    "\n",
    "Tendrá que preparar un informe, indicando los siguientes aspectos:\n",
    "*   Tiempo de ejecución.\n",
    "*   Cantidad de datos procesados en término de número de viajes.\n",
    "*   Velocidad de procesamiento."
   ]
  },
  {
   "cell_type": "markdown",
   "metadata": {
    "id": "dH0a5XKZI28t",
    "pycharm": {
     "name": "#%% md\n"
    }
   },
   "source": [
    "## Consulta #1: Velocidad media de los taxis en función de la hora"
   ]
  },
  {
   "cell_type": "markdown",
   "metadata": {
    "id": "BvWwrMnma6ip",
    "pycharm": {
     "name": "#%% md\n"
    }
   },
   "source": [
    "##### **RDD**\n"
   ]
  },
  {
   "cell_type": "markdown",
   "source": [
    "Para obtener el resultado deseado se creó una función velocidad_media que se aplicará al conjunto de datos con map (rdd)."
   ],
   "metadata": {
    "id": "RtL4K4s2A6De",
    "pycharm": {
     "name": "#%% md\n"
    }
   }
  },
  {
   "cell_type": "code",
   "execution_count": 23,
   "metadata": {
    "id": "hca60gkQIRBN",
    "pycharm": {
     "name": "#%%\n"
    }
   },
   "outputs": [],
   "source": [
    "def velocidad_media(x):\n",
    "    distancia = x.trip_distance\n",
    "    t_destino = x.tpep_dropoff_datetime\n",
    "    t_origen = x.tpep_pickup_datetime\n",
    "\n",
    "    tiempo = (t_destino - t_origen).seconds / 3600\n",
    "\n",
    "    return distancia / tiempo"
   ]
  },
  {
   "cell_type": "code",
   "execution_count": 24,
   "metadata": {
    "id": "A4r0bZulvKUS",
    "pycharm": {
     "name": "#%%\n"
    }
   },
   "outputs": [],
   "source": [
    "results1 = df_data_j.rdd.map(velocidad_media)"
   ]
  },
  {
   "cell_type": "markdown",
   "source": [
    "Rendimiento:"
   ],
   "metadata": {
    "id": "Gj56_GrSBgg1",
    "pycharm": {
     "name": "#%% md\n"
    }
   }
  },
  {
   "cell_type": "code",
   "execution_count": 25,
   "metadata": {
    "id": "lmGPiMsb3zg9",
    "colab": {
     "base_uri": "https://localhost:8080/"
    },
    "outputId": "e437b347-8f50-48d5-e0d4-26dd99f09714",
    "pycharm": {
     "name": "#%%\n"
    }
   },
   "outputs": [
    {
     "name": "stderr",
     "output_type": "stream",
     "text": [
      "[Stage 42:===============================================>     (180 + 16) / 200]\r"
     ]
    },
    {
     "name": "stdout",
     "output_type": "stream",
     "text": [
      "Han transcurrido 13.127 segundos de ejecución.\n",
      "Cantidad de datos procesados: 923696\n",
      "Velocidad de procesamiento: 70366.12 registros/s\n"
     ]
    },
    {
     "name": "stderr",
     "output_type": "stream",
     "text": [
      "                                                                                \r"
     ]
    }
   ],
   "source": [
    "result_count1 , tiempo_ejecucion1 , velocidad_ejecucion1 =  calcularRendimiento(results1, cant_datos)\n",
    "interpretar_rendimiento(tiempo_ejecucion1, velocidad_ejecucion1, cant_datos)"
   ]
  },
  {
   "cell_type": "code",
   "execution_count": 26,
   "metadata": {
    "id": "vJfJeWrK5G4T",
    "colab": {
     "base_uri": "https://localhost:8080/",
     "height": 363
    },
    "outputId": "98671049-3fcf-4508-b8e9-aed0c3013ac2",
    "pycharm": {
     "name": "#%%\n"
    }
   },
   "outputs": [
    {
     "data": {
      "text/plain": "<pandas.io.formats.style.Styler at 0x7f00e2beb190>",
      "text/html": "<style type=\"text/css\">\n</style>\n<table id=\"T_a19c2\">\n  <thead>\n    <tr>\n      <th class=\"blank level0\" >&nbsp;</th>\n      <th id=\"T_a19c2_level0_col0\" class=\"col_heading level0 col0\" >Velocidad media en millas por hora</th>\n    </tr>\n  </thead>\n  <tbody>\n    <tr>\n      <th id=\"T_a19c2_level0_row0\" class=\"row_heading level0 row0\" >0</th>\n      <td id=\"T_a19c2_row0_col0\" class=\"data row0 col0\" >613.469388</td>\n    </tr>\n    <tr>\n      <th id=\"T_a19c2_level0_row1\" class=\"row_heading level0 row1\" >1</th>\n      <td id=\"T_a19c2_row1_col0\" class=\"data row1 col0\" >34.285714</td>\n    </tr>\n    <tr>\n      <th id=\"T_a19c2_level0_row2\" class=\"row_heading level0 row2\" >2</th>\n      <td id=\"T_a19c2_row2_col0\" class=\"data row2 col0\" >5.806452</td>\n    </tr>\n    <tr>\n      <th id=\"T_a19c2_level0_row3\" class=\"row_heading level0 row3\" >3</th>\n      <td id=\"T_a19c2_row3_col0\" class=\"data row3 col0\" >38.571429</td>\n    </tr>\n    <tr>\n      <th id=\"T_a19c2_level0_row4\" class=\"row_heading level0 row4\" >4</th>\n      <td id=\"T_a19c2_row4_col0\" class=\"data row4 col0\" >31.764706</td>\n    </tr>\n    <tr>\n      <th id=\"T_a19c2_level0_row5\" class=\"row_heading level0 row5\" >5</th>\n      <td id=\"T_a19c2_row5_col0\" class=\"data row5 col0\" >8.344371</td>\n    </tr>\n    <tr>\n      <th id=\"T_a19c2_level0_row6\" class=\"row_heading level0 row6\" >6</th>\n      <td id=\"T_a19c2_row6_col0\" class=\"data row6 col0\" >11.775701</td>\n    </tr>\n    <tr>\n      <th id=\"T_a19c2_level0_row7\" class=\"row_heading level0 row7\" >7</th>\n      <td id=\"T_a19c2_row7_col0\" class=\"data row7 col0\" >18.000000</td>\n    </tr>\n    <tr>\n      <th id=\"T_a19c2_level0_row8\" class=\"row_heading level0 row8\" >8</th>\n      <td id=\"T_a19c2_row8_col0\" class=\"data row8 col0\" >20.964706</td>\n    </tr>\n    <tr>\n      <th id=\"T_a19c2_level0_row9\" class=\"row_heading level0 row9\" >9</th>\n      <td id=\"T_a19c2_row9_col0\" class=\"data row9 col0\" >24.768000</td>\n    </tr>\n  </tbody>\n</table>\n"
     },
     "execution_count": 26,
     "metadata": {},
     "output_type": "execute_result"
    }
   ],
   "source": [
    "mostrar_resultados_rdd(results1,['Velocidad media en millas por hora'])"
   ]
  },
  {
   "cell_type": "markdown",
   "metadata": {
    "id": "QlFRShuCGN9L",
    "pycharm": {
     "name": "#%% md\n"
    }
   },
   "source": [
    "## Consulta #2: Viajes en taxi más comunes"
   ]
  },
  {
   "cell_type": "markdown",
   "metadata": {
    "id": "xLKUJbP6GYgX",
    "pycharm": {
     "name": "#%% md\n"
    }
   },
   "source": [
    "##### **SQL**\n"
   ]
  },
  {
   "cell_type": "markdown",
   "metadata": {
    "id": "ZqXYH_KTa6ir",
    "pycharm": {
     "name": "#%% md\n"
    }
   },
   "source": [
    "Esta consulta obtiene los viajes en taxi más comunes en función del destino y del origen de la zona de Nueva York. Esta consulta se realizó mediante SQL y se ordenó la salida descendentemente para hacer un top 10 de los viajes más comunes."
   ]
  },
  {
   "cell_type": "code",
   "execution_count": 27,
   "metadata": {
    "id": "JWFE8aCJiqDE",
    "pycharm": {
     "name": "#%%\n"
    }
   },
   "outputs": [],
   "source": [
    "df_data_j.createOrReplaceTempView('data')\n",
    "results2 = spark.sql(\"SELECT COUNT(*) AS CANTIDAD_VIAJES, PUZone, DOZone \\\n",
    "                     FROM data \\\n",
    "                     GROUP BY PUZone, DOZone \\\n",
    "                     ORDER BY CANTIDAD_VIAJES DESC\")"
   ]
  },
  {
   "cell_type": "markdown",
   "source": [
    "Rendimiento:"
   ],
   "metadata": {
    "id": "014XZW_TIeF-",
    "pycharm": {
     "name": "#%% md\n"
    }
   }
  },
  {
   "cell_type": "code",
   "execution_count": 28,
   "metadata": {
    "id": "J8kq2tWt_2wZ",
    "colab": {
     "base_uri": "https://localhost:8080/"
    },
    "outputId": "6fd4f16f-acbe-4ca5-d9ac-4f98fd4cdac9",
    "pycharm": {
     "name": "#%%\n"
    }
   },
   "outputs": [
    {
     "name": "stderr",
     "output_type": "stream",
     "text": [
      "[Stage 50:===================================>                 (133 + 17) / 200]\r"
     ]
    },
    {
     "name": "stdout",
     "output_type": "stream",
     "text": [
      "Han transcurrido 10.18 segundos de ejecución.\n",
      "Cantidad de datos procesados: 923696\n",
      "Velocidad de procesamiento: 90736.35 registros/s\n"
     ]
    },
    {
     "name": "stderr",
     "output_type": "stream",
     "text": [
      "                                                                                \r"
     ]
    }
   ],
   "source": [
    "result_count2, tiempo_ejecucion2, velocidad_ejecucion2 =  calcularRendimiento(results2, cant_datos)\n",
    "interpretar_rendimiento(tiempo_ejecucion2 , velocidad_ejecucion2, cant_datos)"
   ]
  },
  {
   "cell_type": "code",
   "execution_count": 29,
   "metadata": {
    "id": "w3Js-naVAMOu",
    "colab": {
     "base_uri": "https://localhost:8080/",
     "height": 363
    },
    "outputId": "9020b4c5-8011-4b81-e4c1-2709705ed8f7",
    "pycharm": {
     "name": "#%%\n"
    }
   },
   "outputs": [
    {
     "name": "stderr",
     "output_type": "stream",
     "text": [
      "                                                                                \r"
     ]
    },
    {
     "data": {
      "text/plain": "   CANTIDAD_VIAJES                     PUZone                        DOZone\n0             3428      Upper East Side South         Upper East Side North\n1             3123      Upper East Side North         Upper East Side North\n2             3005      Upper East Side North         Upper East Side South\n3             2938  Times Sq/Theatre District     West Chelsea/Hudson Yards\n4             2804               East Village                  East Village\n5             2689      Upper East Side South         Upper East Side South\n6             2592      Upper West Side South           Lincoln Square East\n7             2533      Upper West Side South         Upper West Side North\n8             2465        Lincoln Square East         Upper West Side South\n9             2200  Times Sq/Theatre District  Penn Station/Madison Sq West",
      "text/html": "<div>\n<style scoped>\n    .dataframe tbody tr th:only-of-type {\n        vertical-align: middle;\n    }\n\n    .dataframe tbody tr th {\n        vertical-align: top;\n    }\n\n    .dataframe thead th {\n        text-align: right;\n    }\n</style>\n<table border=\"1\" class=\"dataframe\">\n  <thead>\n    <tr style=\"text-align: right;\">\n      <th></th>\n      <th>CANTIDAD_VIAJES</th>\n      <th>PUZone</th>\n      <th>DOZone</th>\n    </tr>\n  </thead>\n  <tbody>\n    <tr>\n      <th>0</th>\n      <td>3428</td>\n      <td>Upper East Side South</td>\n      <td>Upper East Side North</td>\n    </tr>\n    <tr>\n      <th>1</th>\n      <td>3123</td>\n      <td>Upper East Side North</td>\n      <td>Upper East Side North</td>\n    </tr>\n    <tr>\n      <th>2</th>\n      <td>3005</td>\n      <td>Upper East Side North</td>\n      <td>Upper East Side South</td>\n    </tr>\n    <tr>\n      <th>3</th>\n      <td>2938</td>\n      <td>Times Sq/Theatre District</td>\n      <td>West Chelsea/Hudson Yards</td>\n    </tr>\n    <tr>\n      <th>4</th>\n      <td>2804</td>\n      <td>East Village</td>\n      <td>East Village</td>\n    </tr>\n    <tr>\n      <th>5</th>\n      <td>2689</td>\n      <td>Upper East Side South</td>\n      <td>Upper East Side South</td>\n    </tr>\n    <tr>\n      <th>6</th>\n      <td>2592</td>\n      <td>Upper West Side South</td>\n      <td>Lincoln Square East</td>\n    </tr>\n    <tr>\n      <th>7</th>\n      <td>2533</td>\n      <td>Upper West Side South</td>\n      <td>Upper West Side North</td>\n    </tr>\n    <tr>\n      <th>8</th>\n      <td>2465</td>\n      <td>Lincoln Square East</td>\n      <td>Upper West Side South</td>\n    </tr>\n    <tr>\n      <th>9</th>\n      <td>2200</td>\n      <td>Times Sq/Theatre District</td>\n      <td>Penn Station/Madison Sq West</td>\n    </tr>\n  </tbody>\n</table>\n</div>"
     },
     "execution_count": 29,
     "metadata": {},
     "output_type": "execute_result"
    }
   ],
   "source": [
    "mostar_resultados_sql_df(results2)"
   ]
  },
  {
   "cell_type": "markdown",
   "metadata": {
    "id": "dp63W6XhGdvc",
    "pycharm": {
     "name": "#%% md\n"
    }
   },
   "source": [
    "##### **RDD**\n"
   ]
  },
  {
   "cell_type": "markdown",
   "metadata": {
    "id": "36UxQ8y4a6is",
    "pycharm": {
     "name": "#%% md\n"
    }
   },
   "source": [
    "Esta consulta tiene el mismo propósito que la anterior, pero se realizó mediante RDD, empleando map y reduceByKey"
   ]
  },
  {
   "cell_type": "code",
   "execution_count": 30,
   "metadata": {
    "id": "c1L2-W7Kmmet",
    "pycharm": {
     "name": "#%%\n"
    }
   },
   "outputs": [
    {
     "name": "stderr",
     "output_type": "stream",
     "text": [
      "                                                                                \r"
     ]
    }
   ],
   "source": [
    "results3 = df_data_j.rdd.map(lambda x: (str(x.PUBorough + \" [\" + x.PUZone + \"]\" + \" -> \" + x.PUBorough + \" [\" + x.DOZone + \"]\"), 1)) \\\n",
    "                       .reduceByKey(add) \\\n",
    "                       .sortBy(lambda x: x[1], False)"
   ]
  },
  {
   "cell_type": "markdown",
   "source": [
    "Rendimiento:"
   ],
   "metadata": {
    "id": "w63JSCW7KFhr",
    "pycharm": {
     "name": "#%% md\n"
    }
   }
  },
  {
   "cell_type": "code",
   "execution_count": 31,
   "metadata": {
    "id": "QX7ah_I2BgzO",
    "colab": {
     "base_uri": "https://localhost:8080/"
    },
    "outputId": "baab0d98-4d98-4831-98e5-48d8e0822296",
    "pycharm": {
     "name": "#%%\n"
    }
   },
   "outputs": [
    {
     "name": "stderr",
     "output_type": "stream",
     "text": [
      "[Stage 72:=================================================>   (187 + 13) / 200]\r"
     ]
    },
    {
     "name": "stdout",
     "output_type": "stream",
     "text": [
      "Han transcurrido 2.127 segundos de ejecución.\n",
      "Cantidad de datos procesados: 923696\n",
      "Velocidad de procesamiento: 434271.74 registros/s\n"
     ]
    },
    {
     "name": "stderr",
     "output_type": "stream",
     "text": [
      "                                                                                \r"
     ]
    }
   ],
   "source": [
    "result_count3, tiempo_ejecucion3, velocidad_ejecucion3 =  calcularRendimiento(results3, cant_datos)\n",
    "interpretar_rendimiento(tiempo_ejecucion3 , velocidad_ejecucion3, cant_datos)"
   ]
  },
  {
   "cell_type": "code",
   "execution_count": 32,
   "metadata": {
    "id": "yVJ8Bp2OBdmo",
    "colab": {
     "base_uri": "https://localhost:8080/",
     "height": 363
    },
    "outputId": "ba325d9d-29a3-42e8-a7da-b77bd1fb2895",
    "pycharm": {
     "name": "#%%\n"
    }
   },
   "outputs": [
    {
     "data": {
      "text/plain": "<pandas.io.formats.style.Styler at 0x7f00f0508df0>",
      "text/html": "<style type=\"text/css\">\n</style>\n<table id=\"T_bb845\">\n  <thead>\n    <tr>\n      <th class=\"blank level0\" >&nbsp;</th>\n      <th id=\"T_bb845_level0_col0\" class=\"col_heading level0 col0\" >Trayecto</th>\n      <th id=\"T_bb845_level0_col1\" class=\"col_heading level0 col1\" >Cantidad de Viajes</th>\n    </tr>\n  </thead>\n  <tbody>\n    <tr>\n      <th id=\"T_bb845_level0_row0\" class=\"row_heading level0 row0\" >0</th>\n      <td id=\"T_bb845_row0_col0\" class=\"data row0 col0\" >Manhattan [Upper East Side South] -> Manhattan [Upper East Side North]</td>\n      <td id=\"T_bb845_row0_col1\" class=\"data row0 col1\" >3428</td>\n    </tr>\n    <tr>\n      <th id=\"T_bb845_level0_row1\" class=\"row_heading level0 row1\" >1</th>\n      <td id=\"T_bb845_row1_col0\" class=\"data row1 col0\" >Manhattan [Upper East Side North] -> Manhattan [Upper East Side North]</td>\n      <td id=\"T_bb845_row1_col1\" class=\"data row1 col1\" >3123</td>\n    </tr>\n    <tr>\n      <th id=\"T_bb845_level0_row2\" class=\"row_heading level0 row2\" >2</th>\n      <td id=\"T_bb845_row2_col0\" class=\"data row2 col0\" >Manhattan [Upper East Side North] -> Manhattan [Upper East Side South]</td>\n      <td id=\"T_bb845_row2_col1\" class=\"data row2 col1\" >3005</td>\n    </tr>\n    <tr>\n      <th id=\"T_bb845_level0_row3\" class=\"row_heading level0 row3\" >3</th>\n      <td id=\"T_bb845_row3_col0\" class=\"data row3 col0\" >Manhattan [Times Sq/Theatre District] -> Manhattan [West Chelsea/Hudson Yards]</td>\n      <td id=\"T_bb845_row3_col1\" class=\"data row3 col1\" >2938</td>\n    </tr>\n    <tr>\n      <th id=\"T_bb845_level0_row4\" class=\"row_heading level0 row4\" >4</th>\n      <td id=\"T_bb845_row4_col0\" class=\"data row4 col0\" >Manhattan [East Village] -> Manhattan [East Village]</td>\n      <td id=\"T_bb845_row4_col1\" class=\"data row4 col1\" >2804</td>\n    </tr>\n    <tr>\n      <th id=\"T_bb845_level0_row5\" class=\"row_heading level0 row5\" >5</th>\n      <td id=\"T_bb845_row5_col0\" class=\"data row5 col0\" >Manhattan [Upper East Side South] -> Manhattan [Upper East Side South]</td>\n      <td id=\"T_bb845_row5_col1\" class=\"data row5 col1\" >2689</td>\n    </tr>\n    <tr>\n      <th id=\"T_bb845_level0_row6\" class=\"row_heading level0 row6\" >6</th>\n      <td id=\"T_bb845_row6_col0\" class=\"data row6 col0\" >Manhattan [Upper West Side South] -> Manhattan [Lincoln Square East]</td>\n      <td id=\"T_bb845_row6_col1\" class=\"data row6 col1\" >2592</td>\n    </tr>\n    <tr>\n      <th id=\"T_bb845_level0_row7\" class=\"row_heading level0 row7\" >7</th>\n      <td id=\"T_bb845_row7_col0\" class=\"data row7 col0\" >Manhattan [Upper West Side South] -> Manhattan [Upper West Side North]</td>\n      <td id=\"T_bb845_row7_col1\" class=\"data row7 col1\" >2533</td>\n    </tr>\n    <tr>\n      <th id=\"T_bb845_level0_row8\" class=\"row_heading level0 row8\" >8</th>\n      <td id=\"T_bb845_row8_col0\" class=\"data row8 col0\" >Manhattan [Lincoln Square East] -> Manhattan [Upper West Side South]</td>\n      <td id=\"T_bb845_row8_col1\" class=\"data row8 col1\" >2465</td>\n    </tr>\n    <tr>\n      <th id=\"T_bb845_level0_row9\" class=\"row_heading level0 row9\" >9</th>\n      <td id=\"T_bb845_row9_col0\" class=\"data row9 col0\" >Manhattan [Times Sq/Theatre District] -> Manhattan [Penn Station/Madison Sq West]</td>\n      <td id=\"T_bb845_row9_col1\" class=\"data row9 col1\" >2200</td>\n    </tr>\n  </tbody>\n</table>\n"
     },
     "execution_count": 32,
     "metadata": {},
     "output_type": "execute_result"
    }
   ],
   "source": [
    "mostrar_resultados_rdd(results3,['Trayecto', 'Cantidad de Viajes'])"
   ]
  },
  {
   "cell_type": "markdown",
   "metadata": {
    "id": "XbkU7nbXNIAX",
    "pycharm": {
     "name": "#%% md\n"
    }
   },
   "source": [
    "## Consulta #3: Propina media en funcion del número de pasajeros"
   ]
  },
  {
   "cell_type": "markdown",
   "metadata": {
    "id": "An29BOqrNsa_",
    "pycharm": {
     "name": "#%% md\n"
    }
   },
   "source": [
    "##### **SQL**\n"
   ]
  },
  {
   "cell_type": "markdown",
   "metadata": {
    "id": "KY2IMKNHa6iu",
    "pycharm": {
     "name": "#%% md\n"
    }
   },
   "source": [
    "Para obtener el resultado deseado mediante SQL agrupamos el resultado por el número de pasajeros y para cada uno se realiza la media."
   ]
  },
  {
   "cell_type": "code",
   "execution_count": 33,
   "metadata": {
    "id": "HfFii7dkDahv",
    "pycharm": {
     "name": "#%%\n"
    }
   },
   "outputs": [],
   "source": [
    "df_data_j.createOrReplaceTempView('data')\n",
    "results4 = spark.sql(\"SELECT passenger_count, AVG(tip_amount) \\\n",
    "                     FROM data \\\n",
    "                     GROUP BY passenger_count \\\n",
    "                     ORDER BY passenger_count ASC\")"
   ]
  },
  {
   "cell_type": "markdown",
   "source": [
    "Rendimiento:"
   ],
   "metadata": {
    "id": "YDwwYDmwNzSD",
    "pycharm": {
     "name": "#%% md\n"
    }
   }
  },
  {
   "cell_type": "code",
   "execution_count": 34,
   "metadata": {
    "colab": {
     "base_uri": "https://localhost:8080/"
    },
    "id": "05IC3bo4CL2E",
    "outputId": "b4147fa1-2dc3-4b57-947c-d40a76e7c145",
    "pycharm": {
     "name": "#%%\n"
    }
   },
   "outputs": [
    {
     "name": "stderr",
     "output_type": "stream",
     "text": [
      "[Stage 80:==========================================>             (12 + 4) / 16]\r"
     ]
    },
    {
     "name": "stdout",
     "output_type": "stream",
     "text": [
      "Han transcurrido 10.398 segundos de ejecución.\n",
      "Cantidad de datos procesados: 923696\n",
      "Velocidad de procesamiento: 88834.01 registros/s\n"
     ]
    },
    {
     "name": "stderr",
     "output_type": "stream",
     "text": [
      "                                                                                \r"
     ]
    }
   ],
   "source": [
    "result_count4 , tiempo_ejecucion4 , velocidad_ejecucion4 =  calcularRendimiento(results4, cant_datos)\n",
    "interpretar_rendimiento(tiempo_ejecucion4 , velocidad_ejecucion4, cant_datos)"
   ]
  },
  {
   "cell_type": "code",
   "execution_count": 35,
   "metadata": {
    "id": "AmiX4JgWCSu7",
    "colab": {
     "base_uri": "https://localhost:8080/",
     "height": 237
    },
    "outputId": "b8b8efa1-3fc7-4458-d2d8-3f4face568df",
    "pycharm": {
     "name": "#%%\n"
    }
   },
   "outputs": [
    {
     "name": "stderr",
     "output_type": "stream",
     "text": [
      "                                                                                \r"
     ]
    },
    {
     "data": {
      "text/plain": "   passenger_count  avg(tip_amount)\n0                1         1.425553\n1                2         1.430132\n2                3         1.349700\n3                4         1.205851\n4                5         1.425809\n5                6         1.400791",
      "text/html": "<div>\n<style scoped>\n    .dataframe tbody tr th:only-of-type {\n        vertical-align: middle;\n    }\n\n    .dataframe tbody tr th {\n        vertical-align: top;\n    }\n\n    .dataframe thead th {\n        text-align: right;\n    }\n</style>\n<table border=\"1\" class=\"dataframe\">\n  <thead>\n    <tr style=\"text-align: right;\">\n      <th></th>\n      <th>passenger_count</th>\n      <th>avg(tip_amount)</th>\n    </tr>\n  </thead>\n  <tbody>\n    <tr>\n      <th>0</th>\n      <td>1</td>\n      <td>1.425553</td>\n    </tr>\n    <tr>\n      <th>1</th>\n      <td>2</td>\n      <td>1.430132</td>\n    </tr>\n    <tr>\n      <th>2</th>\n      <td>3</td>\n      <td>1.349700</td>\n    </tr>\n    <tr>\n      <th>3</th>\n      <td>4</td>\n      <td>1.205851</td>\n    </tr>\n    <tr>\n      <th>4</th>\n      <td>5</td>\n      <td>1.425809</td>\n    </tr>\n    <tr>\n      <th>5</th>\n      <td>6</td>\n      <td>1.400791</td>\n    </tr>\n  </tbody>\n</table>\n</div>"
     },
     "execution_count": 35,
     "metadata": {},
     "output_type": "execute_result"
    }
   ],
   "source": [
    "mostar_resultados_sql_df(results4)"
   ]
  },
  {
   "cell_type": "markdown",
   "metadata": {
    "id": "-lfYHU5XRgeT",
    "pycharm": {
     "name": "#%% md\n"
    }
   },
   "source": [
    "##### **RDD**\n"
   ]
  },
  {
   "cell_type": "markdown",
   "metadata": {
    "id": "EpjiUbcea6iw",
    "pycharm": {
     "name": "#%% md\n"
    }
   },
   "source": [
    "Para obtener el resultado deseado mediante RDD Se usarán las funciones de transformación map y reduceByKey mediante cual se asignará a cada clave (Passenger_count) el valor de la propina media que le corresponde a cada una."
   ]
  },
  {
   "cell_type": "code",
   "execution_count": 36,
   "metadata": {
    "id": "fHvt8dfALlIu",
    "pycharm": {
     "name": "#%%\n"
    }
   },
   "outputs": [],
   "source": [
    "results5 = df_data_j.rdd.map(lambda x: (x.passenger_count, (x.tip_amount, 1))) \\\n",
    "                       .reduceByKey(lambda x, y: (x[0]+y[0], x[1]+y[1])) \\\n",
    "                       .map(lambda x: (x[0], x[1][0] / x[1][1]))"
   ]
  },
  {
   "cell_type": "markdown",
   "source": [
    "Rendimiento:"
   ],
   "metadata": {
    "id": "FFt_t-g7Sm2u",
    "pycharm": {
     "name": "#%% md\n"
    }
   }
  },
  {
   "cell_type": "code",
   "execution_count": 37,
   "metadata": {
    "colab": {
     "base_uri": "https://localhost:8080/"
    },
    "id": "FPB00djEDlDU",
    "outputId": "9fa3c62a-7b15-4bbc-de67-e5f5279821e8",
    "pycharm": {
     "name": "#%%\n"
    }
   },
   "outputs": [
    {
     "name": "stderr",
     "output_type": "stream",
     "text": [
      "[Stage 94:==================================================>  (189 + 11) / 200]\r"
     ]
    },
    {
     "name": "stdout",
     "output_type": "stream",
     "text": [
      "Han transcurrido 3.77 segundos de ejecución.\n",
      "Cantidad de datos procesados: 923696\n",
      "Velocidad de procesamiento: 245012.2 registros/s\n"
     ]
    },
    {
     "name": "stderr",
     "output_type": "stream",
     "text": [
      "                                                                                \r"
     ]
    }
   ],
   "source": [
    "result_count5, tiempo_ejecucion5, velocidad_ejecucion5 =  calcularRendimiento(results5, cant_datos)\n",
    "interpretar_rendimiento(tiempo_ejecucion5, velocidad_ejecucion5, cant_datos)"
   ]
  },
  {
   "cell_type": "code",
   "execution_count": 38,
   "metadata": {
    "colab": {
     "base_uri": "https://localhost:8080/",
     "height": 237
    },
    "id": "ZK0M_uvLDqaW",
    "outputId": "585acff6-8680-4176-c39f-1ea0453c163c",
    "pycharm": {
     "name": "#%%\n"
    }
   },
   "outputs": [
    {
     "data": {
      "text/plain": "<pandas.io.formats.style.Styler at 0x7f00f0517520>",
      "text/html": "<style type=\"text/css\">\n</style>\n<table id=\"T_533f6\">\n  <thead>\n    <tr>\n      <th class=\"blank level0\" >&nbsp;</th>\n      <th id=\"T_533f6_level0_col0\" class=\"col_heading level0 col0\" >Número de pasajeros</th>\n      <th id=\"T_533f6_level0_col1\" class=\"col_heading level0 col1\" >Propina media</th>\n    </tr>\n  </thead>\n  <tbody>\n    <tr>\n      <th id=\"T_533f6_level0_row0\" class=\"row_heading level0 row0\" >0</th>\n      <td id=\"T_533f6_row0_col0\" class=\"data row0 col0\" >1</td>\n      <td id=\"T_533f6_row0_col1\" class=\"data row0 col1\" >1.425553</td>\n    </tr>\n    <tr>\n      <th id=\"T_533f6_level0_row1\" class=\"row_heading level0 row1\" >1</th>\n      <td id=\"T_533f6_row1_col0\" class=\"data row1 col0\" >2</td>\n      <td id=\"T_533f6_row1_col1\" class=\"data row1 col1\" >1.430132</td>\n    </tr>\n    <tr>\n      <th id=\"T_533f6_level0_row2\" class=\"row_heading level0 row2\" >2</th>\n      <td id=\"T_533f6_row2_col0\" class=\"data row2 col0\" >3</td>\n      <td id=\"T_533f6_row2_col1\" class=\"data row2 col1\" >1.349700</td>\n    </tr>\n    <tr>\n      <th id=\"T_533f6_level0_row3\" class=\"row_heading level0 row3\" >3</th>\n      <td id=\"T_533f6_row3_col0\" class=\"data row3 col0\" >4</td>\n      <td id=\"T_533f6_row3_col1\" class=\"data row3 col1\" >1.205851</td>\n    </tr>\n    <tr>\n      <th id=\"T_533f6_level0_row4\" class=\"row_heading level0 row4\" >4</th>\n      <td id=\"T_533f6_row4_col0\" class=\"data row4 col0\" >5</td>\n      <td id=\"T_533f6_row4_col1\" class=\"data row4 col1\" >1.425809</td>\n    </tr>\n    <tr>\n      <th id=\"T_533f6_level0_row5\" class=\"row_heading level0 row5\" >5</th>\n      <td id=\"T_533f6_row5_col0\" class=\"data row5 col0\" >6</td>\n      <td id=\"T_533f6_row5_col1\" class=\"data row5 col1\" >1.400791</td>\n    </tr>\n  </tbody>\n</table>\n"
     },
     "execution_count": 38,
     "metadata": {},
     "output_type": "execute_result"
    }
   ],
   "source": [
    "mostrar_resultados_rdd(results5,['Número de pasajeros', 'Propina media'])"
   ]
  },
  {
   "cell_type": "markdown",
   "metadata": {
    "id": "e631IxM0RnZk",
    "pycharm": {
     "name": "#%% md\n"
    }
   },
   "source": [
    "##### **DataFrame**\n"
   ]
  },
  {
   "cell_type": "markdown",
   "metadata": {
    "id": "ETdiPqawa6iv",
    "pycharm": {
     "name": "#%% md\n"
    }
   },
   "source": [
    "El resultado se obtiene aplicando una agrupación por el campo \"passenger_count\", donde con el resultado obtenido se realiza una agregación por \"tip_amount\" (propina) y se ordena ascendentemente por el número de pasajeros."
   ]
  },
  {
   "cell_type": "code",
   "execution_count": 39,
   "metadata": {
    "id": "YPaJyoltRl-Z",
    "pycharm": {
     "name": "#%%\n"
    }
   },
   "outputs": [],
   "source": [
    "results6 = df_data_j.groupBy(\"passenger_count\") \\\n",
    "                   .agg(F.mean('tip_amount'), F.min('tip_amount'), F.max('tip_amount')) \\\n",
    "                   .orderBy('passenger_count')"
   ]
  },
  {
   "cell_type": "markdown",
   "source": [
    "Rendimiento:"
   ],
   "metadata": {
    "id": "uz0GwXaATWtB",
    "pycharm": {
     "name": "#%% md\n"
    }
   }
  },
  {
   "cell_type": "code",
   "execution_count": 40,
   "metadata": {
    "colab": {
     "base_uri": "https://localhost:8080/"
    },
    "id": "RdM3bgqjCvqG",
    "outputId": "ebf7c136-1384-47e8-88e5-feb5e376f4ba",
    "pycharm": {
     "name": "#%%\n"
    }
   },
   "outputs": [
    {
     "name": "stderr",
     "output_type": "stream",
     "text": [
      "[Stage 127:===================================================>   (15 + 1) / 16]\r"
     ]
    },
    {
     "name": "stdout",
     "output_type": "stream",
     "text": [
      "Han transcurrido 9.841 segundos de ejecución.\n",
      "Cantidad de datos procesados: 923696\n",
      "Velocidad de procesamiento: 93862.01 registros/s\n"
     ]
    },
    {
     "name": "stderr",
     "output_type": "stream",
     "text": [
      "                                                                                \r"
     ]
    }
   ],
   "source": [
    "result_count6, tiempo_ejecucion6, velocidad_ejecucion6 =  calcularRendimiento(results6, cant_datos)\n",
    "interpretar_rendimiento(tiempo_ejecucion6, velocidad_ejecucion6, cant_datos)"
   ]
  },
  {
   "cell_type": "code",
   "execution_count": 41,
   "metadata": {
    "colab": {
     "base_uri": "https://localhost:8080/",
     "height": 237
    },
    "id": "qYSXD3osC_s5",
    "outputId": "d28387e9-dbfa-4c15-ef30-e8a44252f24d",
    "pycharm": {
     "name": "#%%\n"
    }
   },
   "outputs": [
    {
     "name": "stderr",
     "output_type": "stream",
     "text": [
      "                                                                                \r"
     ]
    },
    {
     "data": {
      "text/plain": "   passenger_count  avg(tip_amount)  min(tip_amount)  max(tip_amount)\n0                1         1.425553              0.0             8.79\n1                2         1.430132              0.0             8.79\n2                3         1.349700              0.0             8.79\n3                4         1.205851              0.0             8.77\n4                5         1.425809              0.0             8.79\n5                6         1.400791              0.0             8.79",
      "text/html": "<div>\n<style scoped>\n    .dataframe tbody tr th:only-of-type {\n        vertical-align: middle;\n    }\n\n    .dataframe tbody tr th {\n        vertical-align: top;\n    }\n\n    .dataframe thead th {\n        text-align: right;\n    }\n</style>\n<table border=\"1\" class=\"dataframe\">\n  <thead>\n    <tr style=\"text-align: right;\">\n      <th></th>\n      <th>passenger_count</th>\n      <th>avg(tip_amount)</th>\n      <th>min(tip_amount)</th>\n      <th>max(tip_amount)</th>\n    </tr>\n  </thead>\n  <tbody>\n    <tr>\n      <th>0</th>\n      <td>1</td>\n      <td>1.425553</td>\n      <td>0.0</td>\n      <td>8.79</td>\n    </tr>\n    <tr>\n      <th>1</th>\n      <td>2</td>\n      <td>1.430132</td>\n      <td>0.0</td>\n      <td>8.79</td>\n    </tr>\n    <tr>\n      <th>2</th>\n      <td>3</td>\n      <td>1.349700</td>\n      <td>0.0</td>\n      <td>8.79</td>\n    </tr>\n    <tr>\n      <th>3</th>\n      <td>4</td>\n      <td>1.205851</td>\n      <td>0.0</td>\n      <td>8.77</td>\n    </tr>\n    <tr>\n      <th>4</th>\n      <td>5</td>\n      <td>1.425809</td>\n      <td>0.0</td>\n      <td>8.79</td>\n    </tr>\n    <tr>\n      <th>5</th>\n      <td>6</td>\n      <td>1.400791</td>\n      <td>0.0</td>\n      <td>8.79</td>\n    </tr>\n  </tbody>\n</table>\n</div>"
     },
     "execution_count": 41,
     "metadata": {},
     "output_type": "execute_result"
    }
   ],
   "source": [
    "mostar_resultados_sql_df(results6)"
   ]
  },
  {
   "cell_type": "markdown",
   "source": [
    "## Guardando los resultados"
   ],
   "metadata": {
    "id": "83Uo9FecjzHQ",
    "pycharm": {
     "name": "#%% md\n"
    }
   }
  },
  {
   "cell_type": "code",
   "source": [
    "final_results_df = pd.DataFrame([\n",
    "  [result_count1, tiempo_ejecucion1, velocidad_ejecucion1],\n",
    "  [result_count2, tiempo_ejecucion2, velocidad_ejecucion2],\n",
    "  [result_count3, tiempo_ejecucion3, velocidad_ejecucion3],\n",
    "  [result_count4, tiempo_ejecucion4, velocidad_ejecucion4],\n",
    "  [result_count5, tiempo_ejecucion5, velocidad_ejecucion5],\n",
    "  [result_count6, tiempo_ejecucion6, velocidad_ejecucion6],\n",
    "], index=[\"c1_rdd\", \"c2_sql\", \"c2_rdd\", \"c3_sql\", \"c3_rdd\", \"c3_df\"], columns = [\"count\", \"tiempo\", \"velocidad\"])\n",
    "final_results_df.index.name = \"id\"\n",
    "final_results_df"
   ],
   "metadata": {
    "id": "hXA1hIObHDkJ",
    "colab": {
     "base_uri": "https://localhost:8080/",
     "height": 269
    },
    "outputId": "8046a6a7-1a6e-42f2-a0aa-0718a18010d0",
    "pycharm": {
     "name": "#%%\n"
    }
   },
   "execution_count": 42,
   "outputs": [
    {
     "data": {
      "text/plain": "         count  tiempo  velocidad\nid                               \nc1_rdd  923696  13.127   70366.12\nc2_sql   15687  10.180   90736.35\nc2_rdd   15687   2.127  434271.74\nc3_sql       6  10.398   88834.01\nc3_rdd       6   3.770  245012.20\nc3_df        6   9.841   93862.01",
      "text/html": "<div>\n<style scoped>\n    .dataframe tbody tr th:only-of-type {\n        vertical-align: middle;\n    }\n\n    .dataframe tbody tr th {\n        vertical-align: top;\n    }\n\n    .dataframe thead th {\n        text-align: right;\n    }\n</style>\n<table border=\"1\" class=\"dataframe\">\n  <thead>\n    <tr style=\"text-align: right;\">\n      <th></th>\n      <th>count</th>\n      <th>tiempo</th>\n      <th>velocidad</th>\n    </tr>\n    <tr>\n      <th>id</th>\n      <th></th>\n      <th></th>\n      <th></th>\n    </tr>\n  </thead>\n  <tbody>\n    <tr>\n      <th>c1_rdd</th>\n      <td>923696</td>\n      <td>13.127</td>\n      <td>70366.12</td>\n    </tr>\n    <tr>\n      <th>c2_sql</th>\n      <td>15687</td>\n      <td>10.180</td>\n      <td>90736.35</td>\n    </tr>\n    <tr>\n      <th>c2_rdd</th>\n      <td>15687</td>\n      <td>2.127</td>\n      <td>434271.74</td>\n    </tr>\n    <tr>\n      <th>c3_sql</th>\n      <td>6</td>\n      <td>10.398</td>\n      <td>88834.01</td>\n    </tr>\n    <tr>\n      <th>c3_rdd</th>\n      <td>6</td>\n      <td>3.770</td>\n      <td>245012.20</td>\n    </tr>\n    <tr>\n      <th>c3_df</th>\n      <td>6</td>\n      <td>9.841</td>\n      <td>93862.01</td>\n    </tr>\n  </tbody>\n</table>\n</div>"
     },
     "execution_count": 42,
     "metadata": {},
     "output_type": "execute_result"
    }
   ]
  },
  {
   "cell_type": "code",
   "source": [
    "final_results_df.to_csv(f\"final_results/final_result_{num_cores}.csv\", sep=\";\")"
   ],
   "metadata": {
    "id": "w7hfZte_Q8Rh",
    "pycharm": {
     "name": "#%%\n"
    }
   },
   "execution_count": 43,
   "outputs": []
  },
  {
   "cell_type": "markdown",
   "source": [
    "## Gráficas"
   ],
   "metadata": {
    "id": "g4G2v9QDj3gS",
    "pycharm": {
     "name": "#%% md\n"
    }
   }
  },
  {
   "cell_type": "markdown",
   "source": [
    "### Consulta 1"
   ],
   "metadata": {
    "id": "0aaYhVCnlL4_",
    "pycharm": {
     "name": "#%% md\n"
    }
   }
  },
  {
   "cell_type": "code",
   "source": [
    "partial_final_result_df_list = []\n",
    "\n",
    "for i in range(1, 7):\n",
    "    partial_final_result_df = pd.read_csv(f\"final_results/final_result_{i}.csv\", sep=\";\")\n",
    "    partial_final_result_df[\"num_cores\"] = i\n",
    "    partial_final_result_df_list.append(partial_final_result_df)\n",
    "\n",
    "\n",
    "final_results_df = pd.concat(partial_final_result_df_list).reset_index(drop=True)\n",
    "final_results_df"
   ],
   "metadata": {
    "id": "uJjlmYHqk_Pu",
    "pycharm": {
     "name": "#%%\n"
    }
   },
   "execution_count": 24,
   "outputs": [
    {
     "data": {
      "text/plain": "        id   count  tiempo  velocidad  num_cores\n0   c1_rdd  923696  17.636   52375.60          1\n1   c2_sql   15687  17.021   54268.02          1\n2   c2_rdd   15687   2.254  409803.02          1\n3   c3_sql       6  14.471   63830.83          1\n4   c3_rdd       6   3.799  243141.88          1\n5    c3_df       6  14.547   63497.35          1\n6   c1_rdd  923696  12.781   72271.03          2\n7   c2_sql   15687  11.109   83148.44          2\n8   c2_rdd   15687   2.186  422550.78          2\n9   c3_sql       6  10.263   90002.53          2\n10  c3_rdd       6   3.901  236784.41          2\n11   c3_df       6  10.035   92047.43          2\n12  c1_rdd  923696  13.127   70366.12          3\n13  c2_sql   15687  10.180   90736.35          3\n14  c2_rdd   15687   2.127  434271.74          3\n15  c3_sql       6  10.398   88834.01          3\n16  c3_rdd       6   3.770  245012.20          3\n17   c3_df       6   9.841   93862.01          3\n18  c1_rdd  923696  11.880   77752.19          4\n19  c2_sql   15687   9.556   96661.36          4\n20  c2_rdd   15687   2.089  442171.37          4\n21  c3_sql       6   9.447   97776.65          4\n22  c3_rdd       6   3.428  269456.24          4\n23   c3_df       6   9.001  102621.49          4\n24  c1_rdd  923696  11.806   78239.54          5\n25  c2_sql   15687   9.348   98812.15          5\n26  c2_rdd   15687   2.104  439019.01          5\n27  c3_sql       6   9.360   98685.47          5\n28  c3_rdd       6   3.418  270244.59          5\n29   c3_df       6   9.210  100292.73          5\n30  c1_rdd  923696  11.837   78034.64          6\n31  c2_sql   15687   9.902   93283.78          6\n32  c2_rdd   15687   1.973  468168.27          6\n33  c3_sql       6   9.490   97333.61          6\n34  c3_rdd       6   3.638  253902.14          6\n35   c3_df       6   9.089  101627.90          6",
      "text/html": "<div>\n<style scoped>\n    .dataframe tbody tr th:only-of-type {\n        vertical-align: middle;\n    }\n\n    .dataframe tbody tr th {\n        vertical-align: top;\n    }\n\n    .dataframe thead th {\n        text-align: right;\n    }\n</style>\n<table border=\"1\" class=\"dataframe\">\n  <thead>\n    <tr style=\"text-align: right;\">\n      <th></th>\n      <th>id</th>\n      <th>count</th>\n      <th>tiempo</th>\n      <th>velocidad</th>\n      <th>num_cores</th>\n    </tr>\n  </thead>\n  <tbody>\n    <tr>\n      <th>0</th>\n      <td>c1_rdd</td>\n      <td>923696</td>\n      <td>17.636</td>\n      <td>52375.60</td>\n      <td>1</td>\n    </tr>\n    <tr>\n      <th>1</th>\n      <td>c2_sql</td>\n      <td>15687</td>\n      <td>17.021</td>\n      <td>54268.02</td>\n      <td>1</td>\n    </tr>\n    <tr>\n      <th>2</th>\n      <td>c2_rdd</td>\n      <td>15687</td>\n      <td>2.254</td>\n      <td>409803.02</td>\n      <td>1</td>\n    </tr>\n    <tr>\n      <th>3</th>\n      <td>c3_sql</td>\n      <td>6</td>\n      <td>14.471</td>\n      <td>63830.83</td>\n      <td>1</td>\n    </tr>\n    <tr>\n      <th>4</th>\n      <td>c3_rdd</td>\n      <td>6</td>\n      <td>3.799</td>\n      <td>243141.88</td>\n      <td>1</td>\n    </tr>\n    <tr>\n      <th>5</th>\n      <td>c3_df</td>\n      <td>6</td>\n      <td>14.547</td>\n      <td>63497.35</td>\n      <td>1</td>\n    </tr>\n    <tr>\n      <th>6</th>\n      <td>c1_rdd</td>\n      <td>923696</td>\n      <td>12.781</td>\n      <td>72271.03</td>\n      <td>2</td>\n    </tr>\n    <tr>\n      <th>7</th>\n      <td>c2_sql</td>\n      <td>15687</td>\n      <td>11.109</td>\n      <td>83148.44</td>\n      <td>2</td>\n    </tr>\n    <tr>\n      <th>8</th>\n      <td>c2_rdd</td>\n      <td>15687</td>\n      <td>2.186</td>\n      <td>422550.78</td>\n      <td>2</td>\n    </tr>\n    <tr>\n      <th>9</th>\n      <td>c3_sql</td>\n      <td>6</td>\n      <td>10.263</td>\n      <td>90002.53</td>\n      <td>2</td>\n    </tr>\n    <tr>\n      <th>10</th>\n      <td>c3_rdd</td>\n      <td>6</td>\n      <td>3.901</td>\n      <td>236784.41</td>\n      <td>2</td>\n    </tr>\n    <tr>\n      <th>11</th>\n      <td>c3_df</td>\n      <td>6</td>\n      <td>10.035</td>\n      <td>92047.43</td>\n      <td>2</td>\n    </tr>\n    <tr>\n      <th>12</th>\n      <td>c1_rdd</td>\n      <td>923696</td>\n      <td>13.127</td>\n      <td>70366.12</td>\n      <td>3</td>\n    </tr>\n    <tr>\n      <th>13</th>\n      <td>c2_sql</td>\n      <td>15687</td>\n      <td>10.180</td>\n      <td>90736.35</td>\n      <td>3</td>\n    </tr>\n    <tr>\n      <th>14</th>\n      <td>c2_rdd</td>\n      <td>15687</td>\n      <td>2.127</td>\n      <td>434271.74</td>\n      <td>3</td>\n    </tr>\n    <tr>\n      <th>15</th>\n      <td>c3_sql</td>\n      <td>6</td>\n      <td>10.398</td>\n      <td>88834.01</td>\n      <td>3</td>\n    </tr>\n    <tr>\n      <th>16</th>\n      <td>c3_rdd</td>\n      <td>6</td>\n      <td>3.770</td>\n      <td>245012.20</td>\n      <td>3</td>\n    </tr>\n    <tr>\n      <th>17</th>\n      <td>c3_df</td>\n      <td>6</td>\n      <td>9.841</td>\n      <td>93862.01</td>\n      <td>3</td>\n    </tr>\n    <tr>\n      <th>18</th>\n      <td>c1_rdd</td>\n      <td>923696</td>\n      <td>11.880</td>\n      <td>77752.19</td>\n      <td>4</td>\n    </tr>\n    <tr>\n      <th>19</th>\n      <td>c2_sql</td>\n      <td>15687</td>\n      <td>9.556</td>\n      <td>96661.36</td>\n      <td>4</td>\n    </tr>\n    <tr>\n      <th>20</th>\n      <td>c2_rdd</td>\n      <td>15687</td>\n      <td>2.089</td>\n      <td>442171.37</td>\n      <td>4</td>\n    </tr>\n    <tr>\n      <th>21</th>\n      <td>c3_sql</td>\n      <td>6</td>\n      <td>9.447</td>\n      <td>97776.65</td>\n      <td>4</td>\n    </tr>\n    <tr>\n      <th>22</th>\n      <td>c3_rdd</td>\n      <td>6</td>\n      <td>3.428</td>\n      <td>269456.24</td>\n      <td>4</td>\n    </tr>\n    <tr>\n      <th>23</th>\n      <td>c3_df</td>\n      <td>6</td>\n      <td>9.001</td>\n      <td>102621.49</td>\n      <td>4</td>\n    </tr>\n    <tr>\n      <th>24</th>\n      <td>c1_rdd</td>\n      <td>923696</td>\n      <td>11.806</td>\n      <td>78239.54</td>\n      <td>5</td>\n    </tr>\n    <tr>\n      <th>25</th>\n      <td>c2_sql</td>\n      <td>15687</td>\n      <td>9.348</td>\n      <td>98812.15</td>\n      <td>5</td>\n    </tr>\n    <tr>\n      <th>26</th>\n      <td>c2_rdd</td>\n      <td>15687</td>\n      <td>2.104</td>\n      <td>439019.01</td>\n      <td>5</td>\n    </tr>\n    <tr>\n      <th>27</th>\n      <td>c3_sql</td>\n      <td>6</td>\n      <td>9.360</td>\n      <td>98685.47</td>\n      <td>5</td>\n    </tr>\n    <tr>\n      <th>28</th>\n      <td>c3_rdd</td>\n      <td>6</td>\n      <td>3.418</td>\n      <td>270244.59</td>\n      <td>5</td>\n    </tr>\n    <tr>\n      <th>29</th>\n      <td>c3_df</td>\n      <td>6</td>\n      <td>9.210</td>\n      <td>100292.73</td>\n      <td>5</td>\n    </tr>\n    <tr>\n      <th>30</th>\n      <td>c1_rdd</td>\n      <td>923696</td>\n      <td>11.837</td>\n      <td>78034.64</td>\n      <td>6</td>\n    </tr>\n    <tr>\n      <th>31</th>\n      <td>c2_sql</td>\n      <td>15687</td>\n      <td>9.902</td>\n      <td>93283.78</td>\n      <td>6</td>\n    </tr>\n    <tr>\n      <th>32</th>\n      <td>c2_rdd</td>\n      <td>15687</td>\n      <td>1.973</td>\n      <td>468168.27</td>\n      <td>6</td>\n    </tr>\n    <tr>\n      <th>33</th>\n      <td>c3_sql</td>\n      <td>6</td>\n      <td>9.490</td>\n      <td>97333.61</td>\n      <td>6</td>\n    </tr>\n    <tr>\n      <th>34</th>\n      <td>c3_rdd</td>\n      <td>6</td>\n      <td>3.638</td>\n      <td>253902.14</td>\n      <td>6</td>\n    </tr>\n    <tr>\n      <th>35</th>\n      <td>c3_df</td>\n      <td>6</td>\n      <td>9.089</td>\n      <td>101627.90</td>\n      <td>6</td>\n    </tr>\n  </tbody>\n</table>\n</div>"
     },
     "execution_count": 24,
     "metadata": {},
     "output_type": "execute_result"
    }
   ]
  },
  {
   "cell_type": "code",
   "source": [
    "sns.pairplot(final_results_df, x_vars=[\"num_cores\"], y_vars=[\"tiempo\"], hue=\"id\")"
   ],
   "metadata": {
    "colab": {
     "base_uri": "https://localhost:8080/",
     "height": 214
    },
    "id": "9dykShBuoeIL",
    "outputId": "a1257877-c788-4ac9-b8a9-1349932b20aa",
    "pycharm": {
     "name": "#%%\n"
    }
   },
   "execution_count": 25,
   "outputs": [
    {
     "data": {
      "text/plain": "<seaborn.axisgrid.PairGrid at 0x7f6944611fa0>"
     },
     "execution_count": 25,
     "metadata": {},
     "output_type": "execute_result"
    },
    {
     "data": {
      "text/plain": "<Figure size 346.75x250 with 1 Axes>",
      "image/png": "[encoded data removed]"
     },
     "metadata": {},
     "output_type": "display_data"
    }
   ]
  },
  {
   "cell_type": "code",
   "execution_count": 26,
   "outputs": [
    {
     "data": {
      "text/plain": "<seaborn.axisgrid.PairGrid at 0x7f69445684f0>"
     },
     "execution_count": 26,
     "metadata": {},
     "output_type": "execute_result"
    },
    {
     "data": {
      "text/plain": "<Figure size 346.75x250 with 1 Axes>",
      "image/png": "[encoded data removed]"
     },
     "metadata": {},
     "output_type": "display_data"
    }
   ],
   "source": [
    "sns.pairplot(final_results_df, x_vars=[\"num_cores\"], y_vars=[\"velocidad\"], hue=\"id\")"
   ],
   "metadata": {
    "collapsed": false,
    "pycharm": {
     "name": "#%%\n"
    }
   }
  },
  {
   "cell_type": "code",
   "execution_count": null,
   "outputs": [],
   "source": [],
   "metadata": {
    "collapsed": false,
    "pycharm": {
     "name": "#%%\n"
    }
   }
  }
 ],
 "metadata": {
  "colab": {
   "provenance": [],
   "collapsed_sections": []
  },
  "kernelspec": {
   "display_name": "Python 3",
   "name": "python3"
  },
  "language_info": {
   "name": "python"
  }
 },
 "nbformat": 4,
 "nbformat_minor": 0
}