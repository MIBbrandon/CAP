{
 "nbformat": 4,
 "nbformat_minor": 0,
 "metadata": {
  "colab": {
   "provenance": [],
   "collapsed_sections": [],
   "mount_file_id": "14Eiv_NcTTRVcny6C-VPbUI8mSWcaEPhU",
   "authorship_tag": "ABX9TyPzDeCf2hYTMbHyMtoX8Okd"
  },
  "kernelspec": {
   "name": "python3",
   "display_name": "Python 3"
  },
  "language_info": {
   "name": "python"
  }
 },
 "cells": [
  {
   "cell_type": "markdown",
   "source": [
    "# Práctica 1\n",
    "\n",
    "Práctica 1 de Computación de Altas Prestaciones"
   ],
   "metadata": {
    "id": "iFYAYvm_9xCi",
    "pycharm": {
     "name": "#%% md\n"
    }
   }
  },
  {
   "cell_type": "markdown",
   "source": [
    "**ONLY MEASURE TIMES FOR ACTIONS, NOT TRANSFORMATIONS.**"
   ],
   "metadata": {
    "id": "VwIkMajzAo4t",
    "pycharm": {
     "name": "#%% md\n"
    }
   }
  },
  {
   "cell_type": "markdown",
   "source": [
    "## Preparación"
   ],
   "metadata": {
    "collapsed": false,
    "pycharm": {
     "name": "#%% md\n"
    }
   }
  },
  {
   "cell_type": "code",
   "execution_count": 1,
   "outputs": [],
   "source": [
    "import os\n",
    "import time\n",
    "import pandas as pd\n",
    "\n",
    "import pyspark"
   ],
   "metadata": {
    "collapsed": false,
    "pycharm": {
     "name": "#%%\n"
    }
   }
  },
  {
   "cell_type": "code",
   "source": [
    "import findspark\n",
    "findspark.init()"
   ],
   "metadata": {
    "id": "3EtTb2-r94BI",
    "executionInfo": {
     "status": "ok",
     "timestamp": 1666280415858,
     "user_tz": -120,
     "elapsed": 6,
     "user": {
      "displayName": "BRANDON SOLO",
      "userId": "12121237605222465026"
     }
    },
    "pycharm": {
     "name": "#%%\n"
    }
   },
   "execution_count": 2,
   "outputs": []
  },
  {
   "cell_type": "code",
   "source": [
    "from pyspark.sql import SparkSession\n",
    "from pyspark import SparkContext, SparkConf\n",
    "\n",
    "conf = SparkConf().set('spark.ui.port', '4050')\n",
    "sc = SparkContext(conf=conf)\n",
    "spark = SparkSession.builder.master('local[*]').getOrCreate()  # * is number of cores, can go up to 16 for my laptop\n",
    "\n",
    "spark"
   ],
   "metadata": {
    "colab": {
     "base_uri": "https://localhost:8080/",
     "height": 219
    },
    "id": "NQoj3fHs950E",
    "executionInfo": {
     "status": "ok",
     "timestamp": 1666280422924,
     "user_tz": -120,
     "elapsed": 7071,
     "user": {
      "displayName": "BRANDON SOLO",
      "userId": "12121237605222465026"
     }
    },
    "outputId": "d2afe86a-ea23-4b39-e0fb-26efd9899ed1",
    "pycharm": {
     "name": "#%%\n"
    }
   },
   "execution_count": 3,
   "outputs": [
    {
     "data": {
      "text/plain": "<pyspark.sql.session.SparkSession at 0x1f82690a910>",
      "text/html": "\n            <div>\n                <p><b>SparkSession - in-memory</b></p>\n                \n        <div>\n            <p><b>SparkContext</b></p>\n\n            <p><a href=\"http://LAPTOP-P4ALQAKF:4050\">Spark UI</a></p>\n\n            <dl>\n              <dt>Version</dt>\n                <dd><code>v3.3.0</code></dd>\n              <dt>Master</dt>\n                <dd><code>local[*]</code></dd>\n              <dt>AppName</dt>\n                <dd><code>pyspark-shell</code></dd>\n            </dl>\n        </div>\n        \n            </div>\n        "
     },
     "execution_count": 3,
     "metadata": {},
     "output_type": "execute_result"
    }
   ]
  },
  {
   "cell_type": "markdown",
   "source": [
    "## Datos\n",
    "\n",
    "Cargamos los datos"
   ],
   "metadata": {
    "collapsed": false,
    "pycharm": {
     "name": "#%% md\n"
    }
   }
  },
  {
   "cell_type": "code",
   "execution_count": 4,
   "outputs": [],
   "source": [
    "from typing import Union, List\n",
    "\n",
    "\n",
    "def file_belongs_to_included_years(file: str, included_years: List[int]):\n",
    "    for included_year in included_years:\n",
    "        if str(included_year) in file:\n",
    "            return True\n",
    "    return False"
   ],
   "metadata": {
    "collapsed": false,
    "pycharm": {
     "name": "#%%\n"
    }
   }
  },
  {
   "cell_type": "code",
   "source": [
    "# Load all the information\n",
    "start = time.time()\n",
    "# taxi_info = spark.read.csv(\"/content/drive/MyDrive/MASTER'S YEAR/Computación de Altas Prestaciones/P1/data/\").cache()\n",
    "\n",
    "files_to_include = [f\"data/{x}\" for x in os.listdir(\"data\") if x.endswith(\".parquet\")]\n",
    "included_years = [x for x in range(2022, 2023)]\n",
    "files_to_include = [file for file in files_to_include if file_belongs_to_included_years(file, included_years)]\n",
    "\n",
    "taxi_info = spark.read.format(\"parquet\").option(\"inferSchema\", \"true\").option(\"timestampFormat\",\"yyyy-MM-dd HH:mm:ss\").option(\"header\", \"true\").option(\"mode\", \"DROPMALFORMED\").load(files_to_include)\n",
    "taxi_info_count = taxi_info.count()\n",
    "end = time.time()"
   ],
   "metadata": {
    "id": "82cTNUxy_DVT",
    "executionInfo": {
     "status": "ok",
     "timestamp": 1666280442102,
     "user_tz": -120,
     "elapsed": 19180,
     "user": {
      "displayName": "BRANDON SOLO",
      "userId": "12121237605222465026"
     }
    },
    "pycharm": {
     "name": "#%%\n"
    }
   },
   "execution_count": 5,
   "outputs": []
  },
  {
   "cell_type": "code",
   "execution_count": 6,
   "outputs": [
    {
     "name": "stdout",
     "output_type": "stream",
     "text": [
      "Count: 19817583\n",
      "Time: 3.1660068035125732s\n"
     ]
    }
   ],
   "source": [
    "print(f\"Count: {taxi_info_count}\\nTime: {end-start}s\")"
   ],
   "metadata": {
    "collapsed": false,
    "pycharm": {
     "name": "#%%\n"
    }
   }
  },
  {
   "cell_type": "code",
   "source": [
    "taxi_info.printSchema()"
   ],
   "metadata": {
    "colab": {
     "base_uri": "https://localhost:8080/"
    },
    "id": "kM0XH3w6AUvQ",
    "executionInfo": {
     "status": "ok",
     "timestamp": 1666280451226,
     "user_tz": -120,
     "elapsed": 217,
     "user": {
      "displayName": "BRANDON SOLO",
      "userId": "12121237605222465026"
     }
    },
    "outputId": "3db24ad7-9e57-40b4-a53e-2de88afe8631",
    "pycharm": {
     "name": "#%%\n"
    }
   },
   "execution_count": 7,
   "outputs": [
    {
     "name": "stdout",
     "output_type": "stream",
     "text": [
      "root\n",
      " |-- VendorID: long (nullable = true)\n",
      " |-- tpep_pickup_datetime: timestamp (nullable = true)\n",
      " |-- tpep_dropoff_datetime: timestamp (nullable = true)\n",
      " |-- passenger_count: double (nullable = true)\n",
      " |-- trip_distance: double (nullable = true)\n",
      " |-- RatecodeID: double (nullable = true)\n",
      " |-- store_and_fwd_flag: string (nullable = true)\n",
      " |-- PULocationID: long (nullable = true)\n",
      " |-- DOLocationID: long (nullable = true)\n",
      " |-- payment_type: long (nullable = true)\n",
      " |-- fare_amount: double (nullable = true)\n",
      " |-- extra: double (nullable = true)\n",
      " |-- mta_tax: double (nullable = true)\n",
      " |-- tip_amount: double (nullable = true)\n",
      " |-- tolls_amount: double (nullable = true)\n",
      " |-- improvement_surcharge: double (nullable = true)\n",
      " |-- total_amount: double (nullable = true)\n",
      " |-- congestion_surcharge: double (nullable = true)\n",
      " |-- airport_fee: double (nullable = true)\n",
      "\n"
     ]
    }
   ]
  },
  {
   "cell_type": "code",
   "execution_count": 8,
   "outputs": [
    {
     "name": "stdout",
     "output_type": "stream",
     "text": [
      "+--------+--------------------+---------------------+---------------+-------------+----------+------------------+------------+------------+------------+-----------+-----+-------+----------+------------+---------------------+------------+--------------------+-----------+\n",
      "|VendorID|tpep_pickup_datetime|tpep_dropoff_datetime|passenger_count|trip_distance|RatecodeID|store_and_fwd_flag|PULocationID|DOLocationID|payment_type|fare_amount|extra|mta_tax|tip_amount|tolls_amount|improvement_surcharge|total_amount|congestion_surcharge|airport_fee|\n",
      "+--------+--------------------+---------------------+---------------+-------------+----------+------------------+------------+------------+------------+-----------+-----+-------+----------+------------+---------------------+------------+--------------------+-----------+\n",
      "|       1| 2022-01-01 01:35:40|  2022-01-01 01:53:29|            2.0|          3.8|       1.0|                 N|         142|         236|           1|       14.5|  3.0|    0.5|      3.65|         0.0|                  0.3|       21.95|                 2.5|        0.0|\n",
      "|       1| 2022-01-01 01:33:43|  2022-01-01 01:42:07|            1.0|          2.1|       1.0|                 N|         236|          42|           1|        8.0|  0.5|    0.5|       4.0|         0.0|                  0.3|        13.3|                 0.0|        0.0|\n",
      "|       2| 2022-01-01 01:53:21|  2022-01-01 02:02:19|            1.0|         0.97|       1.0|                 N|         166|         166|           1|        7.5|  0.5|    0.5|      1.76|         0.0|                  0.3|       10.56|                 0.0|        0.0|\n",
      "|       2| 2022-01-01 01:25:21|  2022-01-01 01:35:23|            1.0|         1.09|       1.0|                 N|         114|          68|           2|        8.0|  0.5|    0.5|       0.0|         0.0|                  0.3|        11.8|                 2.5|        0.0|\n",
      "|       2| 2022-01-01 01:36:48|  2022-01-01 02:14:20|            1.0|          4.3|       1.0|                 N|          68|         163|           1|       23.5|  0.5|    0.5|       3.0|         0.0|                  0.3|        30.3|                 2.5|        0.0|\n",
      "|       1| 2022-01-01 01:40:15|  2022-01-01 02:09:48|            1.0|         10.3|       1.0|                 N|         138|         161|           1|       33.0|  3.0|    0.5|      13.0|        6.55|                  0.3|       56.35|                 2.5|        0.0|\n",
      "|       2| 2022-01-01 01:20:50|  2022-01-01 01:34:58|            1.0|         5.07|       1.0|                 N|         233|          87|           1|       17.0|  0.5|    0.5|       5.2|         0.0|                  0.3|        26.0|                 2.5|        0.0|\n",
      "|       2| 2022-01-01 01:13:04|  2022-01-01 01:22:45|            1.0|         2.02|       1.0|                 N|         238|         152|           2|        9.0|  0.5|    0.5|       0.0|         0.0|                  0.3|        12.8|                 2.5|        0.0|\n",
      "|       2| 2022-01-01 01:30:02|  2022-01-01 01:44:49|            1.0|         2.71|       1.0|                 N|         166|         236|           1|       12.0|  0.5|    0.5|      2.25|         0.0|                  0.3|       18.05|                 2.5|        0.0|\n",
      "|       2| 2022-01-01 01:48:52|  2022-01-01 01:53:28|            1.0|         0.78|       1.0|                 N|         236|         141|           2|        5.0|  0.5|    0.5|       0.0|         0.0|                  0.3|         8.8|                 2.5|        0.0|\n",
      "|       2| 2022-01-01 01:55:03|  2022-01-01 02:04:25|            1.0|         1.91|       1.0|                 N|         141|         229|           2|        8.5|  0.5|    0.5|       0.0|         0.0|                  0.3|        12.3|                 2.5|        0.0|\n",
      "|       2| 2022-01-01 01:31:06|  2022-01-01 01:34:14|            3.0|         0.82|       1.0|                 N|         114|          90|           2|        4.5|  0.5|    0.5|       0.0|         0.0|                  0.3|         8.3|                 2.5|        0.0|\n",
      "|       2| 2022-01-01 01:41:07|  2022-01-01 01:44:46|            3.0|         0.73|       1.0|                 N|         234|         113|           2|        4.5|  0.5|    0.5|       0.0|         0.0|                  0.3|         8.3|                 2.5|        0.0|\n",
      "|       2| 2022-01-01 01:56:34|  2022-01-01 02:12:04|            2.0|         2.16|       1.0|                 N|         246|          79|           1|       11.5|  0.5|    0.5|      3.06|         0.0|                  0.3|       18.36|                 2.5|        0.0|\n",
      "|       2| 2022-01-01 01:39:46|  2022-01-01 01:47:36|            4.0|         1.43|       1.0|                 N|          43|         140|           1|        7.5|  0.5|    0.5|      2.26|         0.0|                  0.3|       13.56|                 2.5|        0.0|\n",
      "|       2| 2022-01-01 01:58:06|  2022-01-01 02:05:45|            1.0|         1.58|       1.0|                 N|         239|         151|           2|        8.0|  0.5|    0.5|       0.0|         0.0|                  0.3|        11.8|                 2.5|        0.0|\n",
      "|       1| 2022-01-01 01:33:52|  2022-01-01 01:47:28|            3.0|          4.2|       1.0|                 N|         148|         141|           1|       14.0|  2.5|    0.5|      3.45|         0.0|                  0.3|       20.75|                 2.5|        0.0|\n",
      "|       1| 2022-01-01 01:53:54|  2022-01-01 02:05:20|            2.0|          2.2|       1.0|                 N|         237|         107|           1|        9.5|  2.5|    0.5|      2.55|         0.0|                  0.3|       15.35|                 2.5|        0.0|\n",
      "|       1| 2022-01-01 01:00:44|  2022-01-01 01:05:29|            1.0|          0.2|       1.0|                 N|           7|           7|           2|        5.0|  0.5|    0.5|       0.0|         0.0|                  0.3|         6.3|                 0.0|        0.0|\n",
      "|       1| 2022-01-01 01:35:50|  2022-01-01 01:48:33|            2.0|          3.9|       1.0|                 N|         107|         263|           1|       13.0|  3.0|    0.5|      3.35|         0.0|                  0.3|       20.15|                 2.5|        0.0|\n",
      "+--------+--------------------+---------------------+---------------+-------------+----------+------------------+------------+------------+------------+-----------+-----+-------+----------+------------+---------------------+------------+--------------------+-----------+\n",
      "only showing top 20 rows\n",
      "\n"
     ]
    }
   ],
   "source": [
    "# Prep SQL of raw dirty taxi_info\n",
    "taxi_info.createOrReplaceTempView('taxi_info')\n",
    "taxi_info_sql = spark.sql(\"SELECT * FROM taxi_info\")\n",
    "taxi_info_sql.show()"
   ],
   "metadata": {
    "collapsed": false,
    "pycharm": {
     "name": "#%%\n"
    }
   }
  },
  {
   "cell_type": "markdown",
   "source": [
    "## Limpieza inicial\n",
    "\n",
    "Para el cleanup inicial, usaremos Dataframe por su facilidad de uso. Una vez se obtenga un Dataframe limpio, se hará la conversión a RDD y SQL para empezar las pruebas.\n"
   ],
   "metadata": {
    "id": "1hvc913_Hh9b",
    "pycharm": {
     "name": "#%% md\n"
    }
   }
  },
  {
   "cell_type": "markdown",
   "source": [
    "### Análisis\n",
    "Antes, es necesario ver una descripción general de todas las columnas"
   ],
   "metadata": {
    "collapsed": false,
    "pycharm": {
     "name": "#%% md\n"
    }
   }
  },
  {
   "cell_type": "markdown",
   "source": [
    "**Propina**"
   ],
   "metadata": {
    "collapsed": false,
    "pycharm": {
     "name": "#%% md\n"
    }
   }
  },
  {
   "cell_type": "code",
   "execution_count": 9,
   "outputs": [
    {
     "name": "stdout",
     "output_type": "stream",
     "text": [
      "+-------+------------------+\n",
      "|summary|        tip_amount|\n",
      "+-------+------------------+\n",
      "|  count|          19817583|\n",
      "|   mean| 2.662275749267665|\n",
      "| stddev|3.1830746114616693|\n",
      "|    min|            -410.0|\n",
      "|    max|           1400.16|\n",
      "+-------+------------------+\n",
      "\n"
     ]
    }
   ],
   "source": [
    "# Maybe the negative is due to coupons or discounts, or maybe error for driving too much.\n",
    "taxi_info.select(\"tip_amount\").describe().show()"
   ],
   "metadata": {
    "collapsed": false,
    "pycharm": {
     "name": "#%%\n"
    }
   }
  },
  {
   "cell_type": "markdown",
   "source": [
    "**Distancias**\n",
    "\n",
    "The distances can't be 0 or less than 0.\n",
    "\n",
    "Don't forget the distance units"
   ],
   "metadata": {
    "collapsed": false,
    "pycharm": {
     "name": "#%% md\n"
    }
   }
  },
  {
   "cell_type": "code",
   "execution_count": 10,
   "outputs": [
    {
     "name": "stdout",
     "output_type": "stream",
     "text": [
      "+-------+-----------------+\n",
      "|summary|    trip_distance|\n",
      "+-------+-----------------+\n",
      "|  count|         19817583|\n",
      "|   mean| 5.94539621860001|\n",
      "| stddev|606.3143426362707|\n",
      "|    min|              0.0|\n",
      "|    max|        357192.65|\n",
      "+-------+-----------------+\n",
      "\n"
     ]
    }
   ],
   "source": [
    "taxi_info.select(\"trip_distance\").describe().show()"
   ],
   "metadata": {
    "collapsed": false,
    "pycharm": {
     "name": "#%%\n"
    }
   }
  },
  {
   "cell_type": "markdown",
   "source": [
    "**Tiempo de viaje**\n",
    "\n",
    "Travel time cannot be negative. That is, the dropoff time cannot be before the pickup time."
   ],
   "metadata": {
    "collapsed": false,
    "pycharm": {
     "name": "#%% md\n"
    }
   }
  },
  {
   "cell_type": "code",
   "execution_count": 11,
   "outputs": [
    {
     "data": {
      "text/plain": "[Row(tpep_pickup_datetime=datetime.datetime(2022, 1, 24, 16, 23, 1), tpep_dropoff_datetime=datetime.datetime(2022, 1, 22, 7, 0, 37)),\n Row(tpep_pickup_datetime=datetime.datetime(2022, 1, 1, 2, 1, 54), tpep_dropoff_datetime=datetime.datetime(2022, 1, 1, 2, 1, 36)),\n Row(tpep_pickup_datetime=datetime.datetime(2022, 1, 1, 2, 1, 44), tpep_dropoff_datetime=datetime.datetime(2022, 1, 1, 2, 1, 20)),\n Row(tpep_pickup_datetime=datetime.datetime(2022, 1, 1, 5, 1, 37), tpep_dropoff_datetime=datetime.datetime(2022, 1, 1, 5, 1, 19)),\n Row(tpep_pickup_datetime=datetime.datetime(2022, 1, 1, 5, 1, 23), tpep_dropoff_datetime=datetime.datetime(2022, 1, 1, 5, 1, 12)),\n Row(tpep_pickup_datetime=datetime.datetime(2022, 1, 1, 7, 1, 30), tpep_dropoff_datetime=datetime.datetime(2022, 1, 1, 7, 1, 22)),\n Row(tpep_pickup_datetime=datetime.datetime(2022, 1, 1, 7, 1, 58), tpep_dropoff_datetime=datetime.datetime(2022, 1, 1, 7, 1, 16)),\n Row(tpep_pickup_datetime=datetime.datetime(2022, 1, 1, 12, 1, 34), tpep_dropoff_datetime=datetime.datetime(2022, 1, 1, 12, 1, 28)),\n Row(tpep_pickup_datetime=datetime.datetime(2022, 1, 1, 12, 1, 33), tpep_dropoff_datetime=datetime.datetime(2022, 1, 1, 12, 1, 29)),\n Row(tpep_pickup_datetime=datetime.datetime(2022, 1, 1, 13, 1, 56), tpep_dropoff_datetime=datetime.datetime(2022, 1, 1, 13, 1, 28))]"
     },
     "execution_count": 11,
     "metadata": {},
     "output_type": "execute_result"
    }
   ],
   "source": [
    "times = taxi_info.select([\"tpep_pickup_datetime\", \"tpep_dropoff_datetime\"])\n",
    "times.filter(times.tpep_pickup_datetime > times.tpep_dropoff_datetime).head(10)  # Showing rows with WRONG info\n",
    "# taxi_info.filter(taxi_info.tpep_pickup_datetime < taxi_info.tpep_dropoff_datetime)  # Todos los que tienen los tiempos que tienen sentido"
   ],
   "metadata": {
    "collapsed": false,
    "pycharm": {
     "name": "#%%\n"
    }
   }
  },
  {
   "cell_type": "markdown",
   "source": [
    "**Número de pasajeros**\n",
    "\n",
    "The number of passengers must be greater than 0, it makes no sense to transport no passengers."
   ],
   "metadata": {
    "collapsed": false,
    "pycharm": {
     "name": "#%% md\n"
    }
   }
  },
  {
   "cell_type": "code",
   "source": [
    "taxi_info.select([\"passenger_count\"]).describe().show()"
   ],
   "metadata": {
    "id": "AdgVYbj5HNoJ",
    "executionInfo": {
     "status": "ok",
     "timestamp": 1666282302822,
     "user_tz": -120,
     "elapsed": 223,
     "user": {
      "displayName": "BRANDON SOLO",
      "userId": "12121237605222465026"
     }
    },
    "pycharm": {
     "name": "#%%\n"
    }
   },
   "execution_count": 12,
   "outputs": [
    {
     "name": "stdout",
     "output_type": "stream",
     "text": [
      "+-------+------------------+\n",
      "|summary|   passenger_count|\n",
      "+-------+------------------+\n",
      "|  count|          19145682|\n",
      "|   mean|1.3967362980331544|\n",
      "| stddev|0.9723353471512736|\n",
      "|    min|               0.0|\n",
      "|    max|               9.0|\n",
      "+-------+------------------+\n",
      "\n"
     ]
    }
   ]
  },
  {
   "cell_type": "markdown",
   "source": [
    "**RateCodeID**\n",
    "\n",
    "The final rate code in effect at the end of the trip.\n",
    "\n",
    "Check that all the codes are less than 6.\n",
    "\n",
    "Some have RatecodeID=99, which is wrong."
   ],
   "metadata": {
    "collapsed": false,
    "pycharm": {
     "name": "#%% md\n"
    }
   }
  },
  {
   "cell_type": "code",
   "source": [
    "taxi_info.select([\"RatecodeID\"]).describe().show()"
   ],
   "metadata": {
    "id": "7EQPsUFmKdwn",
    "executionInfo": {
     "status": "ok",
     "timestamp": 1666283378903,
     "user_tz": -120,
     "elapsed": 210,
     "user": {
      "displayName": "BRANDON SOLO",
      "userId": "12121237605222465026"
     }
    },
    "pycharm": {
     "name": "#%%\n"
    }
   },
   "execution_count": 13,
   "outputs": [
    {
     "name": "stdout",
     "output_type": "stream",
     "text": [
      "+-------+------------------+\n",
      "|summary|        RatecodeID|\n",
      "+-------+------------------+\n",
      "|  count|          19145682|\n",
      "|   mean|1.4064600049243479|\n",
      "| stddev|5.7232994134820165|\n",
      "|    min|               1.0|\n",
      "|    max|              99.0|\n",
      "+-------+------------------+\n",
      "\n"
     ]
    }
   ]
  },
  {
   "cell_type": "code",
   "execution_count": 14,
   "outputs": [
    {
     "data": {
      "text/plain": "DataFrame[VendorID: bigint, tpep_pickup_datetime: timestamp, tpep_dropoff_datetime: timestamp, passenger_count: double, trip_distance: double, RatecodeID: double, store_and_fwd_flag: string, PULocationID: bigint, DOLocationID: bigint, payment_type: bigint, fare_amount: double, extra: double, mta_tax: double, tip_amount: double, tolls_amount: double, improvement_surcharge: double, total_amount: double, congestion_surcharge: double, airport_fee: double]"
     },
     "execution_count": 14,
     "metadata": {},
     "output_type": "execute_result"
    }
   ],
   "source": [
    "valid_rateIDs = [0, 0.5, 1]\n",
    "taxi_info.filter(taxi_info.RatecodeID.isin(valid_rateIDs))"
   ],
   "metadata": {
    "collapsed": false,
    "pycharm": {
     "name": "#%%\n"
    }
   }
  },
  {
   "cell_type": "markdown",
   "source": [
    "**Store and Forward flag**\n",
    "\n",
    "Only Y and N values are allowed"
   ],
   "metadata": {
    "id": "amEBkJc8OQlx",
    "pycharm": {
     "name": "#%% md\n"
    }
   }
  },
  {
   "cell_type": "code",
   "source": [
    "taxi_info.select([\"store_and_fwd_flag\"]).describe().show()"
   ],
   "metadata": {
    "id": "4v9jc77iOXjx",
    "executionInfo": {
     "status": "ok",
     "timestamp": 1666283350227,
     "user_tz": -120,
     "elapsed": 230,
     "user": {
      "displayName": "BRANDON SOLO",
      "userId": "12121237605222465026"
     }
    },
    "pycharm": {
     "name": "#%%\n"
    }
   },
   "execution_count": 15,
   "outputs": [
    {
     "name": "stdout",
     "output_type": "stream",
     "text": [
      "+-------+------------------+\n",
      "|summary|store_and_fwd_flag|\n",
      "+-------+------------------+\n",
      "|  count|          19145682|\n",
      "|   mean|              null|\n",
      "| stddev|              null|\n",
      "|    min|                 N|\n",
      "|    max|                 Y|\n",
      "+-------+------------------+\n",
      "\n"
     ]
    }
   ]
  },
  {
   "cell_type": "code",
   "execution_count": 16,
   "outputs": [
    {
     "data": {
      "text/plain": "DataFrame[VendorID: bigint, tpep_pickup_datetime: timestamp, tpep_dropoff_datetime: timestamp, passenger_count: double, trip_distance: double, RatecodeID: double, store_and_fwd_flag: string, PULocationID: bigint, DOLocationID: bigint, payment_type: bigint, fare_amount: double, extra: double, mta_tax: double, tip_amount: double, tolls_amount: double, improvement_surcharge: double, total_amount: double, congestion_surcharge: double, airport_fee: double]"
     },
     "execution_count": 16,
     "metadata": {},
     "output_type": "execute_result"
    }
   ],
   "source": [
    "valid_flags = [\"Y\", \"N\"]\n",
    "taxi_info.filter(taxi_info.store_and_fwd_flag.isin(valid_flags))"
   ],
   "metadata": {
    "collapsed": false,
    "pycharm": {
     "name": "#%%\n"
    }
   }
  },
  {
   "cell_type": "markdown",
   "source": [
    "**Tipos de pago**\n",
    "\n",
    "Los únicos tipos de pago válidos son [1, 2, 3, 4, 5, 6]"
   ],
   "metadata": {
    "id": "pVCPwxY6O79a",
    "pycharm": {
     "name": "#%% md\n"
    }
   }
  },
  {
   "cell_type": "code",
   "source": [
    "taxi_info.select([\"payment_type\"]).describe().show()"
   ],
   "metadata": {
    "id": "1BMnT56IPARd",
    "executionInfo": {
     "status": "ok",
     "timestamp": 1666283580476,
     "user_tz": -120,
     "elapsed": 218,
     "user": {
      "displayName": "BRANDON SOLO",
      "userId": "12121237605222465026"
     }
    },
    "pycharm": {
     "name": "#%%\n"
    }
   },
   "execution_count": 17,
   "outputs": [
    {
     "name": "stdout",
     "output_type": "stream",
     "text": [
      "+-------+------------------+\n",
      "|summary|      payment_type|\n",
      "+-------+------------------+\n",
      "|  count|          19817583|\n",
      "|   mean| 1.183228247359933|\n",
      "| stddev|0.5026529181517688|\n",
      "|    min|                 0|\n",
      "|    max|                 5|\n",
      "+-------+------------------+\n",
      "\n"
     ]
    }
   ]
  },
  {
   "cell_type": "code",
   "source": [
    "valid_payment_types = [x for x in range(1, 7)]\n",
    "taxi_info.filter(taxi_info.payment_type.isin(valid_payment_types))"
   ],
   "metadata": {
    "colab": {
     "base_uri": "https://localhost:8080/"
    },
    "id": "J_An5WWoPZSG",
    "executionInfo": {
     "status": "ok",
     "timestamp": 1666283609039,
     "user_tz": -120,
     "elapsed": 5772,
     "user": {
      "displayName": "BRANDON SOLO",
      "userId": "12121237605222465026"
     }
    },
    "outputId": "991d6ec3-812a-42c6-e3b5-1440e1be4eff",
    "pycharm": {
     "name": "#%%\n"
    }
   },
   "execution_count": 18,
   "outputs": [
    {
     "data": {
      "text/plain": "DataFrame[VendorID: bigint, tpep_pickup_datetime: timestamp, tpep_dropoff_datetime: timestamp, passenger_count: double, trip_distance: double, RatecodeID: double, store_and_fwd_flag: string, PULocationID: bigint, DOLocationID: bigint, payment_type: bigint, fare_amount: double, extra: double, mta_tax: double, tip_amount: double, tolls_amount: double, improvement_surcharge: double, total_amount: double, congestion_surcharge: double, airport_fee: double]"
     },
     "execution_count": 18,
     "metadata": {},
     "output_type": "execute_result"
    }
   ]
  },
  {
   "cell_type": "markdown",
   "source": [
    "**Fare amount**\n",
    "\n",
    "Shouldn't be free or negative"
   ],
   "metadata": {
    "id": "qCdTHpDkPdrJ",
    "pycharm": {
     "name": "#%% md\n"
    }
   }
  },
  {
   "cell_type": "code",
   "source": [
    "taxi_info.select([\"fare_amount\"]).describe().show()"
   ],
   "metadata": {
    "id": "295xu-2xPngG",
    "executionInfo": {
     "status": "ok",
     "timestamp": 1666283679361,
     "user_tz": -120,
     "elapsed": 1,
     "user": {
      "displayName": "BRANDON SOLO",
      "userId": "12121237605222465026"
     }
    },
    "pycharm": {
     "name": "#%%\n"
    }
   },
   "execution_count": 19,
   "outputs": [
    {
     "name": "stdout",
     "output_type": "stream",
     "text": [
      "+-------+------------------+\n",
      "|summary|       fare_amount|\n",
      "+-------+------------------+\n",
      "|  count|          19817583|\n",
      "|   mean|14.245682625377777|\n",
      "| stddev|127.87273838820566|\n",
      "|    min|           -2564.0|\n",
      "|    max|         401092.32|\n",
      "+-------+------------------+\n",
      "\n"
     ]
    }
   ]
  },
  {
   "cell_type": "markdown",
   "source": [
    "**Extra**\n",
    "\n",
    "Should only be \\$0.5 or \\$1 for rush hour and overnight charges.\n",
    "\n",
    "Can check if charged correctly for rush hour and overnight.\n",
    "\n",
    "TEACHER'S NOTE: ignorar because maybe you have more luggage or have a dog or something."
   ],
   "metadata": {
    "id": "EKFjAg0sQod5",
    "pycharm": {
     "name": "#%% md\n"
    }
   }
  },
  {
   "cell_type": "code",
   "source": [
    "taxi_info.select([\"extra\"]).describe().show()"
   ],
   "metadata": {
    "id": "jJ1jEfsSQ8A6",
    "executionInfo": {
     "status": "ok",
     "timestamp": 1666284085266,
     "user_tz": -120,
     "elapsed": 2,
     "user": {
      "displayName": "BRANDON SOLO",
      "userId": "12121237605222465026"
     }
    },
    "pycharm": {
     "name": "#%%\n"
    }
   },
   "execution_count": 20,
   "outputs": [
    {
     "name": "stdout",
     "output_type": "stream",
     "text": [
      "+-------+------------------+\n",
      "|summary|             extra|\n",
      "+-------+------------------+\n",
      "|  count|          19817583|\n",
      "|   mean| 1.018474091921299|\n",
      "| stddev|1.2483774309899676|\n",
      "|    min|              -7.0|\n",
      "|    max|              33.5|\n",
      "+-------+------------------+\n",
      "\n"
     ]
    }
   ]
  },
  {
   "cell_type": "code",
   "source": [
    "valid_extras = [0, 0.5, 1]\n",
    "taxi_info.filter(taxi_info.extra.isin(valid_extras))"
   ],
   "metadata": {
    "colab": {
     "base_uri": "https://localhost:8080/"
    },
    "id": "Na6z-qWzRmji",
    "executionInfo": {
     "status": "ok",
     "timestamp": 1666284214461,
     "user_tz": -120,
     "elapsed": 1698,
     "user": {
      "displayName": "BRANDON SOLO",
      "userId": "12121237605222465026"
     }
    },
    "outputId": "cb774070-f9cb-4ac6-a4a4-e70fb0d5c105",
    "pycharm": {
     "name": "#%%\n"
    }
   },
   "execution_count": 21,
   "outputs": [
    {
     "data": {
      "text/plain": "DataFrame[VendorID: bigint, tpep_pickup_datetime: timestamp, tpep_dropoff_datetime: timestamp, passenger_count: double, trip_distance: double, RatecodeID: double, store_and_fwd_flag: string, PULocationID: bigint, DOLocationID: bigint, payment_type: bigint, fare_amount: double, extra: double, mta_tax: double, tip_amount: double, tolls_amount: double, improvement_surcharge: double, total_amount: double, congestion_surcharge: double, airport_fee: double]"
     },
     "execution_count": 21,
     "metadata": {},
     "output_type": "execute_result"
    }
   ]
  },
  {
   "cell_type": "markdown",
   "source": [
    "**Tolls amount**\n",
    "\n",
    "Tolls cannot be negative, only 0 or positive."
   ],
   "metadata": {
    "id": "qqNDZf2dRWUl",
    "pycharm": {
     "name": "#%% md\n"
    }
   }
  },
  {
   "cell_type": "code",
   "source": [
    "taxi_info.select([\"tolls_amount\"]).describe().show()"
   ],
   "metadata": {
    "id": "rcdiqkkeShW9",
    "executionInfo": {
     "status": "ok",
     "timestamp": 1666284447980,
     "user_tz": -120,
     "elapsed": 286,
     "user": {
      "displayName": "BRANDON SOLO",
      "userId": "12121237605222465026"
     }
    },
    "pycharm": {
     "name": "#%%\n"
    }
   },
   "execution_count": 22,
   "outputs": [
    {
     "name": "stdout",
     "output_type": "stream",
     "text": [
      "+-------+-------------------+\n",
      "|summary|       tolls_amount|\n",
      "+-------+-------------------+\n",
      "|  count|           19817583|\n",
      "|   mean|0.49548667766586885|\n",
      "| stddev| 1.9695300710419825|\n",
      "|    min|              -83.0|\n",
      "|    max|             911.87|\n",
      "+-------+-------------------+\n",
      "\n"
     ]
    }
   ]
  },
  {
   "cell_type": "code",
   "source": [
    "taxi_info.filter(taxi_info.tolls_amount >= 0)"
   ],
   "metadata": {
    "colab": {
     "base_uri": "https://localhost:8080/"
    },
    "id": "iVkce-ywSxu1",
    "executionInfo": {
     "status": "ok",
     "timestamp": 1666284491876,
     "user_tz": -120,
     "elapsed": 6134,
     "user": {
      "displayName": "BRANDON SOLO",
      "userId": "12121237605222465026"
     }
    },
    "outputId": "d292aea2-dac6-47e5-8661-704ea4f6a285",
    "pycharm": {
     "name": "#%%\n"
    }
   },
   "execution_count": 23,
   "outputs": [
    {
     "data": {
      "text/plain": "DataFrame[VendorID: bigint, tpep_pickup_datetime: timestamp, tpep_dropoff_datetime: timestamp, passenger_count: double, trip_distance: double, RatecodeID: double, store_and_fwd_flag: string, PULocationID: bigint, DOLocationID: bigint, payment_type: bigint, fare_amount: double, extra: double, mta_tax: double, tip_amount: double, tolls_amount: double, improvement_surcharge: double, total_amount: double, congestion_surcharge: double, airport_fee: double]"
     },
     "execution_count": 23,
     "metadata": {},
     "output_type": "execute_result"
    }
   ]
  },
  {
   "cell_type": "markdown",
   "source": [
    "**Total amount**\n",
    "\n",
    "Cannot be negative or 0."
   ],
   "metadata": {
    "id": "vuEA4a_OS3qK",
    "pycharm": {
     "name": "#%% md\n"
    }
   }
  },
  {
   "cell_type": "code",
   "source": [
    "taxi_info.select([\"total_amount\"]).describe().show()"
   ],
   "metadata": {
    "id": "Hnu-z2gxS-Ud",
    "executionInfo": {
     "status": "ok",
     "timestamp": 1666284529777,
     "user_tz": -120,
     "elapsed": 230,
     "user": {
      "displayName": "BRANDON SOLO",
      "userId": "12121237605222465026"
     }
    },
    "pycharm": {
     "name": "#%%\n"
    }
   },
   "execution_count": 24,
   "outputs": [
    {
     "name": "stdout",
     "output_type": "stream",
     "text": [
      "+-------+------------------+\n",
      "|summary|      total_amount|\n",
      "+-------+------------------+\n",
      "|  count|          19817583|\n",
      "|   mean|20.902765702622656|\n",
      "| stddev|128.27128880123067|\n",
      "|    min|           -2567.8|\n",
      "|    max|         401095.62|\n",
      "+-------+------------------+\n",
      "\n"
     ]
    }
   ]
  },
  {
   "cell_type": "code",
   "source": [
    "taxi_info.filter(taxi_info.total_amount >= 0)"
   ],
   "metadata": {
    "colab": {
     "base_uri": "https://localhost:8080/"
    },
    "id": "6rGu5pyCTEtu",
    "executionInfo": {
     "status": "ok",
     "timestamp": 1666284566001,
     "user_tz": -120,
     "elapsed": 841,
     "user": {
      "displayName": "BRANDON SOLO",
      "userId": "12121237605222465026"
     }
    },
    "outputId": "7a81e416-8b37-45d9-ae60-57c7e3dbeb2a",
    "pycharm": {
     "name": "#%%\n"
    }
   },
   "execution_count": 25,
   "outputs": [
    {
     "data": {
      "text/plain": "DataFrame[VendorID: bigint, tpep_pickup_datetime: timestamp, tpep_dropoff_datetime: timestamp, passenger_count: double, trip_distance: double, RatecodeID: double, store_and_fwd_flag: string, PULocationID: bigint, DOLocationID: bigint, payment_type: bigint, fare_amount: double, extra: double, mta_tax: double, tip_amount: double, tolls_amount: double, improvement_surcharge: double, total_amount: double, congestion_surcharge: double, airport_fee: double]"
     },
     "execution_count": 25,
     "metadata": {},
     "output_type": "execute_result"
    }
   ]
  },
  {
   "cell_type": "markdown",
   "source": [
    "**Congestion surcharge**\n",
    "\n",
    "Cannot be negative. Only 0 or positive."
   ],
   "metadata": {
    "id": "Kef9ybJuTKuC",
    "pycharm": {
     "name": "#%% md\n"
    }
   }
  },
  {
   "cell_type": "code",
   "source": [
    "taxi_info.select([\"improvement_surcharge\"]).describe().show()"
   ],
   "metadata": {
    "id": "tDQHVYPETTLV",
    "executionInfo": {
     "status": "ok",
     "timestamp": 1666284679572,
     "user_tz": -120,
     "elapsed": 224,
     "user": {
      "displayName": "BRANDON SOLO",
      "userId": "12121237605222465026"
     }
    },
    "pycharm": {
     "name": "#%%\n"
    }
   },
   "execution_count": 26,
   "outputs": [
    {
     "name": "stdout",
     "output_type": "stream",
     "text": [
      "+-------+---------------------+\n",
      "|summary|improvement_surcharge|\n",
      "+-------+---------------------+\n",
      "|  count|             19817583|\n",
      "|   mean|   0.2965171837724947|\n",
      "| stddev|  0.04518930373656668|\n",
      "|    min|                 -0.3|\n",
      "|    max|                  0.3|\n",
      "+-------+---------------------+\n",
      "\n"
     ]
    }
   ]
  },
  {
   "cell_type": "code",
   "source": [
    "taxi_info.filter(taxi_info.improvement_surcharge >= 0)"
   ],
   "metadata": {
    "colab": {
     "base_uri": "https://localhost:8080/"
    },
    "id": "tM58Xo4pTrer",
    "executionInfo": {
     "status": "ok",
     "timestamp": 1666284748872,
     "user_tz": -120,
     "elapsed": 5898,
     "user": {
      "displayName": "BRANDON SOLO",
      "userId": "12121237605222465026"
     }
    },
    "outputId": "2e234649-fe19-411a-bd97-e6280d757476",
    "pycharm": {
     "name": "#%%\n"
    }
   },
   "execution_count": 27,
   "outputs": [
    {
     "data": {
      "text/plain": "DataFrame[VendorID: bigint, tpep_pickup_datetime: timestamp, tpep_dropoff_datetime: timestamp, passenger_count: double, trip_distance: double, RatecodeID: double, store_and_fwd_flag: string, PULocationID: bigint, DOLocationID: bigint, payment_type: bigint, fare_amount: double, extra: double, mta_tax: double, tip_amount: double, tolls_amount: double, improvement_surcharge: double, total_amount: double, congestion_surcharge: double, airport_fee: double]"
     },
     "execution_count": 27,
     "metadata": {},
     "output_type": "execute_result"
    }
   ]
  },
  {
   "cell_type": "markdown",
   "source": [
    "### Dataframe limpio\n",
    "\n",
    "Todos los problemas identificados anteriormente serán eliminados"
   ],
   "metadata": {
    "collapsed": false,
    "pycharm": {
     "name": "#%% md\n"
    }
   }
  },
  {
   "cell_type": "markdown",
   "source": [
    "#### Eliminación de datos ilógicos\n",
    "\n",
    "Todos los datos que no tengan sentido lógico (no pueden ser negativos, no pueden ser nulos, toman un valor discreto que no forma parte de los esperados, etc.) son eliminados"
   ],
   "metadata": {
    "collapsed": false,
    "pycharm": {
     "name": "#%% md\n"
    }
   }
  },
  {
   "cell_type": "code",
   "execution_count": 28,
   "outputs": [
    {
     "data": {
      "text/plain": "12736405"
     },
     "execution_count": 28,
     "metadata": {},
     "output_type": "execute_result"
    }
   ],
   "source": [
    "somewhat_clean_taxi_info = taxi_info.filter((taxi_info.tip_amount >= 0)\n",
    "                                   & (taxi_info.trip_distance > 0)\n",
    "                                   & (taxi_info.tpep_pickup_datetime < taxi_info.tpep_dropoff_datetime)\n",
    "                                   & (taxi_info.passenger_count > 0)\n",
    "                                   & (taxi_info.RatecodeID.isin(valid_rateIDs))\n",
    "                                   & (taxi_info.store_and_fwd_flag.isin(valid_flags))\n",
    "                                   & (taxi_info.payment_type.isin(valid_payment_types))\n",
    "                                   & (taxi_info.fare_amount > 0)\n",
    "                                   & (taxi_info.extra.isin(valid_extras))\n",
    "                                   & (taxi_info.tolls_amount >= 0)\n",
    "                                   & (taxi_info.total_amount >= 0)\n",
    "                                   & (taxi_info.improvement_surcharge >= 0))\n",
    "somewhat_clean_taxi_info_count = somewhat_clean_taxi_info.count()\n",
    "somewhat_clean_taxi_info_count"
   ],
   "metadata": {
    "collapsed": false,
    "pycharm": {
     "name": "#%%\n"
    }
   }
  },
  {
   "cell_type": "markdown",
   "source": [
    "#### Eliminar outliers\n",
    "\n",
    "Todos los datos numéricos tienen valores extremos. Eliminamos todos aquellos pasados Q3 + 1.5*IQR"
   ],
   "metadata": {
    "collapsed": false,
    "pycharm": {
     "name": "#%% md\n"
    }
   }
  },
  {
   "cell_type": "code",
   "execution_count": 29,
   "outputs": [
    {
     "data": {
      "text/plain": "2.16"
     },
     "execution_count": 29,
     "metadata": {},
     "output_type": "execute_result"
    }
   ],
   "source": [
    "# Propina\n",
    "res = somewhat_clean_taxi_info.approxQuantile(\"tip_amount\", [0.25, 0.75], 0.01)\n",
    "q1 = res[0]\n",
    "q3 = res[1]\n",
    "iqr = q3 - q1\n",
    "\n",
    "iqr"
   ],
   "metadata": {
    "collapsed": false,
    "pycharm": {
     "name": "#%%\n"
    }
   }
  },
  {
   "cell_type": "code",
   "execution_count": 34,
   "outputs": [],
   "source": [
    "clean_taxi_info_rdd = somewhat_clean_taxi_info.rdd.filter(lambda x: x[\"tip_amount\"] < q3 + 1.5 * iqr)"
   ],
   "metadata": {
    "collapsed": false,
    "pycharm": {
     "name": "#%%\n"
    }
   }
  },
  {
   "cell_type": "code",
   "execution_count": 35,
   "outputs": [
    {
     "data": {
      "text/plain": "12075741"
     },
     "execution_count": 35,
     "metadata": {},
     "output_type": "execute_result"
    }
   ],
   "source": [
    "clean_taxi_info_count = clean_taxi_info_rdd.count()\n",
    "clean_taxi_info_count"
   ],
   "metadata": {
    "collapsed": false,
    "pycharm": {
     "name": "#%%\n"
    }
   }
  },
  {
   "cell_type": "markdown",
   "source": [
    "# STUDIES\n",
    "\n",
    "We can now work on doing the desired studies and analysing the different execution times."
   ],
   "metadata": {
    "collapsed": false,
    "pycharm": {
     "name": "#%% md\n"
    }
   }
  },
  {
   "cell_type": "code",
   "execution_count": null,
   "outputs": [],
   "source": [],
   "metadata": {
    "collapsed": false,
    "pycharm": {
     "name": "#%%\n"
    }
   }
  }
 ]
}